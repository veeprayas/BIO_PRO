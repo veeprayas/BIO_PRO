{
 "cells": [
  {
   "cell_type": "markdown",
   "id": "4c59c0d6",
   "metadata": {},
   "source": [
    "# # Bio BERT "
   ]
  },
  {
   "cell_type": "code",
   "execution_count": 361,
   "id": "9df777f5",
   "metadata": {},
   "outputs": [],
   "source": [
    "import warnings"
   ]
  },
  {
   "cell_type": "code",
   "execution_count": 362,
   "id": "ded59d7c",
   "metadata": {},
   "outputs": [],
   "source": [
    "warnings.filterwarnings('ignore')"
   ]
  },
  {
   "cell_type": "code",
   "execution_count": 363,
   "id": "62a6428f",
   "metadata": {},
   "outputs": [],
   "source": [
    "import tensorflow as tf"
   ]
  },
  {
   "cell_type": "code",
   "execution_count": 364,
   "id": "1298c4ab",
   "metadata": {},
   "outputs": [],
   "source": [
    "import pandas as pd"
   ]
  },
  {
   "cell_type": "code",
   "execution_count": 365,
   "id": "003e73c6",
   "metadata": {},
   "outputs": [
    {
     "data": {
      "text/plain": [
       "'1.11.0'"
      ]
     },
     "execution_count": 365,
     "metadata": {},
     "output_type": "execute_result"
    }
   ],
   "source": [
    "tf.__version__"
   ]
  },
  {
   "cell_type": "code",
   "execution_count": 366,
   "id": "47c27f56",
   "metadata": {},
   "outputs": [],
   "source": [
    "# Getting the Input data from PubMed articals"
   ]
  },
  {
   "cell_type": "code",
   "execution_count": 367,
   "id": "e07085ed",
   "metadata": {},
   "outputs": [],
   "source": [
    "import os"
   ]
  },
  {
   "cell_type": "code",
   "execution_count": 368,
   "id": "05112505",
   "metadata": {},
   "outputs": [],
   "source": [
    "ROOT = os.getcwd()"
   ]
  },
  {
   "cell_type": "code",
   "execution_count": 20,
   "id": "abf130c3",
   "metadata": {},
   "outputs": [
    {
     "data": {
      "text/plain": [
       "str"
      ]
     },
     "execution_count": 20,
     "metadata": {},
     "output_type": "execute_result"
    }
   ],
   "source": [
    "type(ROOT)"
   ]
  },
  {
   "cell_type": "markdown",
   "id": "c6cd4161",
   "metadata": {},
   "source": [
    "#### ROOT DIRECTORY"
   ]
  },
  {
   "cell_type": "code",
   "execution_count": 369,
   "id": "909e442f",
   "metadata": {},
   "outputs": [
    {
     "name": "stdout",
     "output_type": "stream",
     "text": [
      "Location of the Current directory = C:\\Users\\sav76\\Downloads\\Capstone Project\\biobert_summ\n"
     ]
    }
   ],
   "source": [
    "print(f'Location of the Current directory = {ROOT}')"
   ]
  },
  {
   "cell_type": "code",
   "execution_count": 370,
   "id": "66292fae",
   "metadata": {},
   "outputs": [],
   "source": [
    "#dataframe = pd.read_csv('first100.csv', index_col='Unnamed: 0')"
   ]
  },
  {
   "cell_type": "code",
   "execution_count": 371,
   "id": "32684371",
   "metadata": {},
   "outputs": [],
   "source": [
    "#dataframe.info()"
   ]
  },
  {
   "cell_type": "markdown",
   "id": "3034c526",
   "metadata": {},
   "source": [
    "#### INPUT AND OUTPUT"
   ]
  },
  {
   "cell_type": "code",
   "execution_count": 374,
   "id": "e7cc5f49",
   "metadata": {},
   "outputs": [],
   "source": [
    "source_input = ROOT + \"\\data\\input\\health3.txt\""
   ]
  },
  {
   "cell_type": "code",
   "execution_count": 375,
   "id": "7cf724bb",
   "metadata": {},
   "outputs": [],
   "source": [
    "source_output = ROOT + \"\\data\\output\\summary3.txt\""
   ]
  },
  {
   "cell_type": "code",
   "execution_count": 376,
   "id": "87edfb94",
   "metadata": {},
   "outputs": [
    {
     "data": {
      "text/plain": [
       "'C:\\\\Users\\\\sav76\\\\Downloads\\\\Capstone Project\\\\biobert_summ\\\\data\\\\input\\\\health3.txt'"
      ]
     },
     "execution_count": 376,
     "metadata": {},
     "output_type": "execute_result"
    }
   ],
   "source": [
    "source_input"
   ]
  },
  {
   "cell_type": "code",
   "execution_count": 377,
   "id": "138efdd7",
   "metadata": {},
   "outputs": [
    {
     "data": {
      "text/plain": [
       "'C:\\\\Users\\\\sav76\\\\Downloads\\\\Capstone Project\\\\biobert_summ\\\\data\\\\output\\\\summary3.txt'"
      ]
     },
     "execution_count": 377,
     "metadata": {},
     "output_type": "execute_result"
    }
   ],
   "source": [
    "source_output"
   ]
  },
  {
   "cell_type": "code",
   "execution_count": 378,
   "id": "b0698ab9",
   "metadata": {},
   "outputs": [],
   "source": [
    "import nltk"
   ]
  },
  {
   "cell_type": "code",
   "execution_count": 379,
   "id": "f8676f0e",
   "metadata": {},
   "outputs": [
    {
     "name": "stderr",
     "output_type": "stream",
     "text": [
      "[nltk_data] Downloading package punkt to\n",
      "[nltk_data]     C:\\Users\\sav76\\AppData\\Roaming\\nltk_data...\n",
      "[nltk_data]   Package punkt is already up-to-date!\n"
     ]
    },
    {
     "data": {
      "text/plain": [
       "True"
      ]
     },
     "execution_count": 379,
     "metadata": {},
     "output_type": "execute_result"
    }
   ],
   "source": [
    "nltk.download('punkt')"
   ]
  },
  {
   "cell_type": "markdown",
   "id": "fc400969",
   "metadata": {},
   "source": [
    "### Preprocessing the given input data"
   ]
  },
  {
   "cell_type": "code",
   "execution_count": 380,
   "id": "5b8a9371",
   "metadata": {},
   "outputs": [],
   "source": [
    "# Using some junk data available in the open repository like github"
   ]
  },
  {
   "cell_type": "code",
   "execution_count": 381,
   "id": "4c3bb380",
   "metadata": {},
   "outputs": [],
   "source": [
    "source_data = []"
   ]
  },
  {
   "cell_type": "code",
   "execution_count": 382,
   "id": "9e78867c",
   "metadata": {},
   "outputs": [],
   "source": [
    "with open(source_input, 'r') as ins:\n",
    "    source_data.extend(ins.readlines())"
   ]
  },
  {
   "cell_type": "code",
   "execution_count": 383,
   "id": "37f93379",
   "metadata": {},
   "outputs": [
    {
     "name": "stdout",
     "output_type": "stream",
     "text": [
      "Total number of sentences found in the given dataset = 1\n"
     ]
    }
   ],
   "source": [
    "print(f'Total number of sentences found in the given dataset = {len(source_data)}')"
   ]
  },
  {
   "cell_type": "code",
   "execution_count": 384,
   "id": "6e8f413f",
   "metadata": {},
   "outputs": [],
   "source": [
    "# Removing all the new line characters available form the data"
   ]
  },
  {
   "cell_type": "code",
   "execution_count": 385,
   "id": "93f5580c",
   "metadata": {},
   "outputs": [],
   "source": [
    "source_data = [data.replace('\\n', '') for data in source_data]"
   ]
  },
  {
   "cell_type": "code",
   "execution_count": 386,
   "id": "2af5b49f",
   "metadata": {},
   "outputs": [],
   "source": [
    "# Creating one "
   ]
  },
  {
   "cell_type": "code",
   "execution_count": 387,
   "id": "abffd5ca",
   "metadata": {},
   "outputs": [],
   "source": [
    "source_data = \". \".join(source_data)"
   ]
  },
  {
   "cell_type": "code",
   "execution_count": 388,
   "id": "9f6b8f70",
   "metadata": {},
   "outputs": [],
   "source": [
    "# Source data after performing above transformation"
   ]
  },
  {
   "cell_type": "code",
   "execution_count": 389,
   "id": "5e867af7",
   "metadata": {},
   "outputs": [
    {
     "data": {
      "text/plain": [
       "'it occurs in more than 50% of patients and may reach 90% in certain types of cancers , especially in patients undergoing chemotherapy and/or radiation therapy.1 anemia is defined as an inadequate circulating level of hemoglobin ( hb ) ( hb < 12 g / dl ) and may arise as a result of the underlying disease , bleeding , poor nutrition , chemotherapy , or radiation therapy . \\\\n preliminary studies suggest that survival and loco - regional control after radiation therapy , especially in head and neck cancers , may be compromised by anemia.24 anemia often worsens symptoms such as fatigue , weakness , and dyspnea , and thus may have a negative effect on quality of life ( qol ) and performance status in patients with cancer . \\\\n thus , to improve physical functioning , qol , and prognosis in patients with cancer , it would be reasonable to take a proactive approach in identifying populations who need treatment for cancer - associated anemia ( caa ) and provide timely management . \\\\n blood transfusion is an effective way to replace depleted hb within a short period , but the effect is , unfortunately , temporary and can cause serious adverse risks and increased mortality . in randomized clinical trials in patients with caa \\\\n , erythropoiesis - stimulating agents ( esas ) produced significant increases in hb level , decreased transfusion requirements , and improved qol.57 however , 30%50% of patients do not respond to such agents . \\\\n in addition , the use of esas often causes concern about severe adverse reactions.6,8 in several studies , esas were found to shorten overall survival time , or time to tumor progression in patients whose hb level reached more than 12 g / dl . \\\\n these studies included patients with different primary cancers , such as breast , lung , head and neck , cervix , and lymphomas.911 the lack of response to erythropoietin stimulation in patients with cancer is partly attributed to the functional iron deficiency state , in which the high rate of erythropoiesis exceeds the delivery of usable iron , despite adequate iron stores.12 absolute iron deficiency , in contrast , occurs when iron delivery is impaired because iron stores are depleted ( serum ferritin , < 100 ng / ml ; transferring saturation , < 20%).13 hepcidin , a peptide hormone produced by the liver , is up - regulated in chronic inflammatory states including cancer . \\\\n hepcidin inhibits iron transport across cell membranes , thus decreasing the accessibility of stored iron and gastrointestinal absorption of dietary iron , leading to an increased frequency of iron - restricted erythropoiesis.1416 many randomized trials examined the role of intravenous ( iv ) iron in addition to esas in the treatment of anemia in patients with cancer . \\\\n many of these studies showed improvement in esa response , time to maximal response , reduction in esa dose , and improvement in qol parameters ( when measured ) in favor of the combination over esas alone . \\\\n the observed benefit was independent of baseline iron parameters.1721 one study found a 36% reduction in the number of patients transfused.21 this pilot study assessed the efficacy and feasibility of iv iron monotherapy in patients with cancer who have anemia and who are undergoing treatment with chemotherapy and/or radiation therapy without the use of esas . \\\\n patients received the study treatment for 12 weeks followed by a 4-week follow - up period . \\\\n eligible patients were at least 18 years old , about to start a cycle of chemotherapy and/or radiation therapy within 1 week of inclusion , and had a nonmyeloid malignancy , hb levels of 11.0 g / dl or less , a life expectancy of more than 24 weeks , and an eastern cooperative oncology group performance status of 02 . \\\\n patients were also required to have a serum ferritin level of 100 ng / ml or higher or transferrin saturation ( tsat ) levels of 15% or higher and to have received no esas or iv iron therapy within 30 days and no oral iron therapy ( 27 mg / day or more ) within 7 days before enrollment . \\\\n patients were excluded for leukoerythroblastic features on blood film , hemolysis , gastrointestinal bleeding , folate or vitamin b12 deficiency , elevated serum ferritin ( 900 ng / ml ) or transferrin saturation ( tsat ) ( 35% ) levels , pregnancy or lactation , liver dysfunction ( grade 2 or higher based on national cancer institute common toxicity criteria ) , renal dysfunction ( serum creatinine levels 2.0 mg / dl ) , active infection requiring systemic antibiotics , personal or family history of hemochromatosis , comorbidities precluding study participation , hypersensitivity to iv iron , red blood cell transfusion within the last 2 weeks , or any investigational agent within 30 days before enrollment . \\\\n patients were not allowed to take any vitamin , mineral , or herbal supplements containing 27 mg or more of iron per day or 100 mg vitamin c per day during the study or follow - up period . \\\\n blood transfusions were permitted at the primary physician s discretion if hb levels decreased to 8 g / dl or less , and such patients were considered treatment failures . \\\\n written informed consent was provided by all patients before study participation , and the protocol and supporting documents were approved by the institutional review board of king hussein cancer center . \\\\n the study was conducted in accordance with the declaration of helsinki and good clinical practice as contained in the us code of federal regulations that governs the protection of human subjects and the obligations of clinical investigators . \\\\n patients received 200 mg ferric hydroxide sucrose diluted in 100 ml normal saline and infused over the course of 1 hour weekly for a total of 12 weeks . the first dose was given during the first clinic visit ( 4 days from the initiation of chemotherapy or radiation therapy ) . \\\\n tsat was monitored , as protocol mandated withholding iron therapy when tsat levels were higher than 50% . at the first clinic visit ( week 1 ; baseline ) , a blood sample was obtained for laboratory assessments before the study treatment was started . \\\\n patients attended weekly clinic visits for treatment and assessment ; and returned for follow - up visits at week 14 which included a complete physical examination . \\\\n complete blood count and tsat were done every 3 weeks , and again 2 weeks after last treatment ( week 14 ) . \\\\n complete laboratory assessment ( hb , serum ferritin , reticulocyte count , transferrin , tsat , serum iron , total iron binding capacity , red cell indices , white blood cell count with differential , platelet count , and serum chemistries ) were done at week 1 and at week 14 ( end of study ) . \\\\n adverse events were assessed at each clinic visit until study completion or withdrawal , and during the 30 days after the last study treatment . \\\\n hb test results were presented as mean , median , and range through all 12 weeks . \\\\n comparison between means of hb level were made between the baseline hb and hb levels in the following weeks , using t - test . a significance criterion of p < 0.05 was used in the analysis . \\\\n all analyses were performed using sas version 9.1 ( sas institute inc , cary , nc , usa ) . \\\\n patients received the study treatment for 12 weeks followed by a 4-week follow - up period . \\\\n eligible patients were at least 18 years old , about to start a cycle of chemotherapy and/or radiation therapy within 1 week of inclusion , and had a nonmyeloid malignancy , hb levels of 11.0 g / dl or less , a life expectancy of more than 24 weeks , and an eastern cooperative oncology group performance status of 02 . \\\\n patients were also required to have a serum ferritin level of 100 ng / ml or higher or transferrin saturation ( tsat ) levels of 15% or higher and to have received no esas or iv iron therapy within 30 days and no oral iron therapy ( 27 mg / day or more ) within 7 days before enrollment . \\\\n patients were excluded for leukoerythroblastic features on blood film , hemolysis , gastrointestinal bleeding , folate or vitamin b12 deficiency , elevated serum ferritin ( 900 ng / ml ) or transferrin saturation ( tsat ) ( 35% ) levels , pregnancy or lactation , liver dysfunction ( grade 2 or higher based on national cancer institute common toxicity criteria ) , renal dysfunction ( serum creatinine levels 2.0 mg / dl ) , active infection requiring systemic antibiotics , personal or family history of hemochromatosis , comorbidities precluding study participation , hypersensitivity to iv iron , red blood cell transfusion within the last 2 weeks , or any investigational agent within 30 days before enrollment . \\\\n patients were not allowed to take any vitamin , mineral , or herbal supplements containing 27 mg or more of iron per day or 100 mg vitamin c per day during the study or follow - up period . \\\\n blood transfusions were permitted at the primary physician s discretion if hb levels decreased to 8 g / dl or less , and such patients were considered treatment failures . \\\\n written informed consent was provided by all patients before study participation , and the protocol and supporting documents were approved by the institutional review board of king hussein cancer center . \\\\n the study was conducted in accordance with the declaration of helsinki and good clinical practice as contained in the us code of federal regulations that governs the protection of human subjects and the obligations of clinical investigators . \\\\n patients received 200 mg ferric hydroxide sucrose diluted in 100 ml normal saline and infused over the course of 1 hour weekly for a total of 12 weeks . \\\\n the first dose was given during the first clinic visit ( 4 days from the initiation of chemotherapy or radiation therapy ) . \\\\n tsat was monitored , as protocol mandated withholding iron therapy when tsat levels were higher than 50% . \\\\n at the first clinic visit ( week 1 ; baseline ) , a blood sample was obtained for laboratory assessments before the study treatment was started . \\\\n patients attended weekly clinic visits for treatment and assessment ; and returned for follow - up visits at week 14 which included a complete physical examination . \\\\n complete blood count and tsat were done every 3 weeks , and again 2 weeks after last treatment ( week 14 ) . \\\\n complete laboratory assessment ( hb , serum ferritin , reticulocyte count , transferrin , tsat , serum iron , total iron binding capacity , red cell indices , white blood cell count with differential , platelet count , and serum chemistries ) were done at week 1 and at week 14 ( end of study ) . \\\\n adverse events were assessed at each clinic visit until study completion or withdrawal , and during the 30 days after the last study treatment . \\\\n hb test results were presented as mean , median , and range through all 12 weeks . \\\\n comparison between means of hb level were made between the baseline hb and hb levels in the following weeks , using t - test . a significance criterion of p < 0.05 was used in the analysis . \\\\n all analyses were performed using sas version 9.1 ( sas institute inc , cary , nc , usa ) . \\\\n twenty - five patients ( 17 women and 8 men ) were eligible , consented , and included in the study ; their mean age ( standard deviation , [ sd ] ) was 56 years ( 13.0 years ) . \\\\n chemotherapy varied according to the primary cancer and included anthracycline , platinum , taxanes , cyclophosphamide , high - dose ifosfamide , vincristine , vinblastine , bleomycin , and others . \\\\n many of the included patients had their chemotherapy treatment as second- or third - line therapy . \\\\n patients characteristics , including age , primary tumor , and active anticancer treatment are summarized in table 1 . \\\\n one patient died during the study from his tumor ( after week 2 ) , and five patients withdrew from the study because of inconvenience ( three after week 3 , and two after week 4 ) . \\\\n nineteen ( 76.0% ) patients completed a minimum of three treatments , 15 ( 60.0% ) completed nine treatments , and 14 ( 56.0% ) completed all twelve planned weekly treatments . \\\\n as seen in table 2 , the mean hb level of the 25 patients at baseline was 9.6 g / dl ( median , 9.9 g / dl ; range , 6.9 g / dl10.9 g / dl ) . for the 15 patients who completed at least nine treatments , the mean change in their hb level was 1.7 g / dl ( median , 1.1 g / dl ; range , 1.9 g / dl to 3.2 g / dl ) . \\\\n for the 14 patients who completed the whole treatment period ( 12 weeks ) , the mean hb level change was 2.1 g / dl ( median , 1.3 g / dl ; range , 0.2 g / dl to 4.6 g / dl ; p = 0.0007 ) . \\\\n eight ( 42.1% ) of the 19 patients who completed at least three iron infusions had a more than 1 g / dl increase in their hb level . \\\\n hemoglobin level changes for the 14 patients who completed twelve iron infusions are shown in figure 1 . \\\\n no iv iron - related adverse events were reported among patients during the study or the follow - up period . \\\\n tsat was monitored during the study period , and no patients had tsat levels increase to more than 50% . \\\\n the highest ferritin level among patients who completed at least nine iv iron treatments was 1,170 ng / ml ; the mean level at the end of study period for the whole group was 379 ng / ml . \\\\n five ( 20.0% ) patients received blood transfusions and were considered treatment failures ( three after week 3 , transfused at hb levels of 6.9 g / dl , 7.8 g / dl , and 5.4 g / dl ; one after week 4 , transfused at an hb level of 8.2 g / dl ; and one after week 9 , transfused at an hb level of 7.2 g / dl ) . \\\\n low hb levels are associated with diminished qol and possibly decreased overall survival.2 successful treatment of anemia has undeniable benefits for patients , often yielding dramatic symptomatic improvement . \\\\n although the role of esas is well - established in treating caa , big concerns were recently raised about the negative effect of esas on survival in some patients with cancer.911 concerns about the risk for thromboembolism in patients with cancer with higher hb levels who are receiving esa were also addressed in many trials.22,23 in addition , the possible immunosuppressive effects of blood product transfusions that may have relevance to neoplasia progression were addressed before.24 , 25 in our pilot study , we tested the feasibility of using iron supplementation alone to treat anemia in patients with cancer who are undergoing chemotherapy without the use of esas or blood transfusion , which could be a valid alternative , especially for patients with curable cancers . \\\\n oral iron is easier to administer and relatively inexpensive , but low patient adherence , poor enteral absorption , and poor tolerance because of a wide range of troublesome gastrointestinal adverse effects limit its overall effectiveness.26 anemia of chronic disease may occur in patients with cancer and is associated with an increase in hepcidin levels , which decreases oral iron absorption and bone marrow iron use , negating any possible effect of regular doses of oral iron.15 iv iron therapy significantly improves response to epoetin alfa when compared with oral iron or no iron in anemic patients with cancer who are receiving chemotherapy.1721 oral iron supplements with esas showed no significant benefit over esas alone in treating caa.21 sodium ferric gluconate and iron sucrose appear to have more favorable safety profiles over iron dextran . \\\\n a large prospective safety comparison trial failed to show serious anaphylactoid reactions,27 which is confirmed in our study , in which no patients developed reactions and no patients withdrew from the study because of adverse effects . given that the mean hb increase using esas with iv iron in one large controlled trial was 2.4 g / dl,21 the results obtained in our study are clinically significant . \\\\n these findings should be further confirmed and better assessed in larger studies , in which questions such as the optimal timing of iv iron therapy with respect to chemotherapy and the optimal total dose of iv iron should be determined . \\\\n the use of iv iron monotherapy was recently reviewed by a group in germany that studied the use of ferric carboxymaltose to replace esa and blood transfusions as a treatment for caa . \\\\n iron - deficient patients treated with ferric carboxymaltose alone ( n = 233 ) had a median of 1.4 g / dl increase in hemoglobin levels compared with those receiving additional treatment with esas ( n = 46 ; median , 1.6 g / dl ) . our study , \\\\n however , is peculiar in using iron therapy in a non - iron - deficiency state.28 iron overload after iv iron therapy , with potential concerns about the risk of developing secondary cancers and infection , might be raised . \\\\n the highest serum ferritin level in the present study in patients who completed at least 9 weeks of iv iron therapy was 1,170 ng / ml . most of the literature addressing cancer and infections in iron - overloaded patients comes from patients with hemochromatosis or patients who are undergoing hemodialysis . \\\\n published reviews report an increase in hepatocellular carcinoma only in patients with hemochromatosis after they develop cirrhosis.29 similarly data supporting the association between iv iron therapy and higher infection rate are weak and not well - supported.30 in fact , anemia itself is a risk factor for infections in patients receiving hemodialysis.31 a multivariate analysis of associations between iron and mortality in more than 58,000 patients receiving hemodialysis reported no increased death rate from serum ferritin levels as high as 1,200 ng / ml.30 the increasing cost of therapy in patients with cancer is of grave concern , which could be an additional benefit of iv iron over the use of esas in such patients . to further address many of the questions raised , \\\\n our team is planning a bigger trial for iv iron in patients with cancer who have anemia to confirm the results discussed in this pilot trial . \\\\n in addition , we will be looking into predictors of response to iv iron , such as serum hepcidin level . \\\\n iv iron therapy alone is safe and may be effective in improving hb levels in patients with cancer who are undergoing active anticancer therapy . \\\\n further randomized trials are needed to address many of the questions raised in our pilot study .'"
      ]
     },
     "execution_count": 389,
     "metadata": {},
     "output_type": "execute_result"
    }
   ],
   "source": [
    "source_data"
   ]
  },
  {
   "cell_type": "code",
   "execution_count": 390,
   "id": "d4c023fd",
   "metadata": {},
   "outputs": [
    {
     "name": "stdout",
     "output_type": "stream",
     "text": [
      "Total number of sentences avaialable in the above source dataset = 140\n"
     ]
    }
   ],
   "source": [
    "print(f'Total number of sentences avaialable in the above source dataset = {len(source_data.split(\".\"))}')"
   ]
  },
  {
   "cell_type": "code",
   "execution_count": 391,
   "id": "1e42a4a7",
   "metadata": {},
   "outputs": [
    {
     "name": "stdout",
     "output_type": "stream",
     "text": [
      "Total number of words available in the above source dataset = 3331\n"
     ]
    }
   ],
   "source": [
    "print(f'Total number of words available in the above source dataset = {len(source_data.split(\" \"))}')"
   ]
  },
  {
   "cell_type": "markdown",
   "id": "0451013e",
   "metadata": {},
   "source": [
    "##### Tokenizing the given document using nltk tokenizier"
   ]
  },
  {
   "cell_type": "code",
   "execution_count": 392,
   "id": "23a29d5c",
   "metadata": {},
   "outputs": [],
   "source": [
    "# Sentences conversion from the given dataset"
   ]
  },
  {
   "cell_type": "code",
   "execution_count": 393,
   "id": "dec06a02",
   "metadata": {},
   "outputs": [],
   "source": [
    "input_sentences = nltk.sent_tokenize(source_data)"
   ]
  },
  {
   "cell_type": "code",
   "execution_count": 394,
   "id": "6524b3ca",
   "metadata": {},
   "outputs": [],
   "source": [
    "# Removing all the empty sentences "
   ]
  },
  {
   "cell_type": "code",
   "execution_count": 395,
   "id": "15203afc",
   "metadata": {},
   "outputs": [],
   "source": [
    "input_sentences = list(filter(lambda sentence: len(sentence) > 0, input_sentences))"
   ]
  },
  {
   "cell_type": "code",
   "execution_count": 396,
   "id": "12c75a09",
   "metadata": {},
   "outputs": [
    {
     "name": "stdout",
     "output_type": "stream",
     "text": [
      "Total number of sentences after removed un-necessary sentences = 81\n"
     ]
    }
   ],
   "source": [
    "print(f'Total number of sentences after removed un-necessary sentences = {len(input_sentences)}')"
   ]
  },
  {
   "cell_type": "code",
   "execution_count": 397,
   "id": "17aaf114",
   "metadata": {},
   "outputs": [],
   "source": [
    "# Tokenizing into words"
   ]
  },
  {
   "cell_type": "code",
   "execution_count": 398,
   "id": "c4256c31",
   "metadata": {},
   "outputs": [],
   "source": [
    "# Using nltk tokenizer"
   ]
  },
  {
   "cell_type": "code",
   "execution_count": 399,
   "id": "0fcaca09",
   "metadata": {},
   "outputs": [],
   "source": [
    "tokenized_sentences = list(map(lambda sentence: str(nltk.word_tokenize(sentence)), input_sentences))"
   ]
  },
  {
   "cell_type": "code",
   "execution_count": 400,
   "id": "d57156c7",
   "metadata": {},
   "outputs": [
    {
     "data": {
      "text/plain": [
       "list"
      ]
     },
     "execution_count": 400,
     "metadata": {},
     "output_type": "execute_result"
    }
   ],
   "source": [
    "type(tokenized_sentences)"
   ]
  },
  {
   "cell_type": "code",
   "execution_count": 401,
   "id": "58dbf963",
   "metadata": {},
   "outputs": [
    {
     "name": "stdout",
     "output_type": "stream",
     "text": [
      "Total number of words available after tokenizing the given source sentences = 81\n"
     ]
    }
   ],
   "source": [
    "print(f'Total number of words available after tokenizing the given source sentences = {len(tokenized_sentences)}')"
   ]
  },
  {
   "cell_type": "code",
   "execution_count": 402,
   "id": "4269ff7a",
   "metadata": {},
   "outputs": [
    {
     "data": {
      "text/plain": [
       "[\"['it', 'occurs', 'in', 'more', 'than', '50', '%', 'of', 'patients', 'and', 'may', 'reach', '90', '%', 'in', 'certain', 'types', 'of', 'cancers', ',', 'especially', 'in', 'patients', 'undergoing', 'chemotherapy', 'and/or', 'radiation', 'therapy.1', 'anemia', 'is', 'defined', 'as', 'an', 'inadequate', 'circulating', 'level', 'of', 'hemoglobin', '(', 'hb', ')', '(', 'hb', '<', '12', 'g', '/', 'dl', ')', 'and', 'may', 'arise', 'as', 'a', 'result', 'of', 'the', 'underlying', 'disease', ',', 'bleeding', ',', 'poor', 'nutrition', ',', 'chemotherapy', ',', 'or', 'radiation', 'therapy', '.']\",\n",
       " \"['\\\\\\\\n', 'preliminary', 'studies', 'suggest', 'that', 'survival', 'and', 'loco', '-', 'regional', 'control', 'after', 'radiation', 'therapy', ',', 'especially', 'in', 'head', 'and', 'neck', 'cancers', ',', 'may', 'be', 'compromised', 'by', 'anemia.24', 'anemia', 'often', 'worsens', 'symptoms', 'such', 'as', 'fatigue', ',', 'weakness', ',', 'and', 'dyspnea', ',', 'and', 'thus', 'may', 'have', 'a', 'negative', 'effect', 'on', 'quality', 'of', 'life', '(', 'qol', ')', 'and', 'performance', 'status', 'in', 'patients', 'with', 'cancer', '.']\",\n",
       " \"['\\\\\\\\n', 'thus', ',', 'to', 'improve', 'physical', 'functioning', ',', 'qol', ',', 'and', 'prognosis', 'in', 'patients', 'with', 'cancer', ',', 'it', 'would', 'be', 'reasonable', 'to', 'take', 'a', 'proactive', 'approach', 'in', 'identifying', 'populations', 'who', 'need', 'treatment', 'for', 'cancer', '-', 'associated', 'anemia', '(', 'caa', ')', 'and', 'provide', 'timely', 'management', '.']\",\n",
       " \"['\\\\\\\\n', 'blood', 'transfusion', 'is', 'an', 'effective', 'way', 'to', 'replace', 'depleted', 'hb', 'within', 'a', 'short', 'period', ',', 'but', 'the', 'effect', 'is', ',', 'unfortunately', ',', 'temporary', 'and', 'can', 'cause', 'serious', 'adverse', 'risks', 'and', 'increased', 'mortality', '.']\",\n",
       " \"['in', 'randomized', 'clinical', 'trials', 'in', 'patients', 'with', 'caa', '\\\\\\\\n', ',', 'erythropoiesis', '-', 'stimulating', 'agents', '(', 'esas', ')', 'produced', 'significant', 'increases', 'in', 'hb', 'level', ',', 'decreased', 'transfusion', 'requirements', ',', 'and', 'improved', 'qol.57', 'however', ',', '30', '%', '50', '%', 'of', 'patients', 'do', 'not', 'respond', 'to', 'such', 'agents', '.']\"]"
      ]
     },
     "execution_count": 402,
     "metadata": {},
     "output_type": "execute_result"
    }
   ],
   "source": [
    "tokenized_sentences[:5]"
   ]
  },
  {
   "cell_type": "code",
   "execution_count": 403,
   "id": "6a6bc868",
   "metadata": {},
   "outputs": [],
   "source": [
    "# Some sanity check"
   ]
  },
  {
   "cell_type": "code",
   "execution_count": 404,
   "id": "cb0283ee",
   "metadata": {},
   "outputs": [
    {
     "data": {
      "text/plain": [
       "'C:\\\\Users\\\\sav76\\\\Downloads\\\\Capstone Project\\\\biobert_summ\\\\data\\\\input\\\\health3.txt'"
      ]
     },
     "execution_count": 404,
     "metadata": {},
     "output_type": "execute_result"
    }
   ],
   "source": [
    "source_input"
   ]
  },
  {
   "cell_type": "code",
   "execution_count": 405,
   "id": "163a5ac0",
   "metadata": {},
   "outputs": [],
   "source": [
    "input_filename = source_input.split('\\\\')[-1]"
   ]
  },
  {
   "cell_type": "code",
   "execution_count": 406,
   "id": "0492a881",
   "metadata": {},
   "outputs": [
    {
     "data": {
      "text/plain": [
       "'health3.txt'"
      ]
     },
     "execution_count": 406,
     "metadata": {},
     "output_type": "execute_result"
    }
   ],
   "source": [
    "input_filename"
   ]
  },
  {
   "cell_type": "code",
   "execution_count": 407,
   "id": "fed33199",
   "metadata": {},
   "outputs": [],
   "source": [
    "input_filename = input_filename.split('.')[0]"
   ]
  },
  {
   "cell_type": "code",
   "execution_count": 408,
   "id": "c1eb14f1",
   "metadata": {},
   "outputs": [
    {
     "data": {
      "text/plain": [
       "'health3'"
      ]
     },
     "execution_count": 408,
     "metadata": {},
     "output_type": "execute_result"
    }
   ],
   "source": [
    "input_filename"
   ]
  },
  {
   "cell_type": "code",
   "execution_count": 409,
   "id": "f83c58c2",
   "metadata": {},
   "outputs": [],
   "source": [
    "STAGE_DIR = f\"STAGE_DIR/stage_{input_filename}.txt\""
   ]
  },
  {
   "cell_type": "code",
   "execution_count": 410,
   "id": "0f297729",
   "metadata": {},
   "outputs": [
    {
     "data": {
      "text/plain": [
       "'STAGE_DIR/stage_health3.txt'"
      ]
     },
     "execution_count": 410,
     "metadata": {},
     "output_type": "execute_result"
    }
   ],
   "source": [
    "STAGE_DIR"
   ]
  },
  {
   "cell_type": "code",
   "execution_count": 411,
   "id": "70ae6af0",
   "metadata": {},
   "outputs": [],
   "source": [
    "TOKEN_DIR = f\"STAGE_DIR/tokens_{input_filename}.txt\""
   ]
  },
  {
   "cell_type": "code",
   "execution_count": 412,
   "id": "0a9392b7",
   "metadata": {},
   "outputs": [
    {
     "data": {
      "text/plain": [
       "'STAGE_DIR/tokens_health3.txt'"
      ]
     },
     "execution_count": 412,
     "metadata": {},
     "output_type": "execute_result"
    }
   ],
   "source": [
    "TOKEN_DIR"
   ]
  },
  {
   "cell_type": "code",
   "execution_count": 413,
   "id": "cd1895d1",
   "metadata": {},
   "outputs": [],
   "source": [
    "stage_file = open(STAGE_DIR, 'w')"
   ]
  },
  {
   "cell_type": "code",
   "execution_count": 414,
   "id": "9fbb68d9",
   "metadata": {},
   "outputs": [],
   "source": [
    "token_file = open(TOKEN_DIR, 'w')"
   ]
  },
  {
   "cell_type": "code",
   "execution_count": 415,
   "id": "8836190e",
   "metadata": {},
   "outputs": [
    {
     "data": {
      "text/plain": [
       "18354"
      ]
     },
     "execution_count": 415,
     "metadata": {},
     "output_type": "execute_result"
    }
   ],
   "source": [
    "stage_file.write('\\n'.join(input_sentences))"
   ]
  },
  {
   "cell_type": "code",
   "execution_count": 416,
   "id": "b872918e",
   "metadata": {},
   "outputs": [
    {
     "data": {
      "text/plain": [
       "28585"
      ]
     },
     "execution_count": 416,
     "metadata": {},
     "output_type": "execute_result"
    }
   ],
   "source": [
    "token_file.write('\\n'.join(tokenized_sentences))"
   ]
  },
  {
   "cell_type": "code",
   "execution_count": 417,
   "id": "e4a55437",
   "metadata": {},
   "outputs": [],
   "source": [
    "stage_file.close() # Closing the opened resources"
   ]
  },
  {
   "cell_type": "code",
   "execution_count": 418,
   "id": "a27dde37",
   "metadata": {},
   "outputs": [],
   "source": [
    "token_file.close() # Closing the opened resources"
   ]
  },
  {
   "cell_type": "markdown",
   "id": "130568f8",
   "metadata": {},
   "source": [
    "##### Extracting the features from above intermedidate data"
   ]
  },
  {
   "cell_type": "code",
   "execution_count": 419,
   "id": "e29040a7",
   "metadata": {},
   "outputs": [],
   "source": [
    "# Running the BERT script to generate or extract the given features"
   ]
  },
  {
   "cell_type": "code",
   "execution_count": 420,
   "id": "7dcc9289",
   "metadata": {},
   "outputs": [],
   "source": [
    "import subprocess # need subprocess script to run the below script"
   ]
  },
  {
   "cell_type": "code",
   "execution_count": 421,
   "id": "754e52d9",
   "metadata": {},
   "outputs": [],
   "source": [
    "FEATURES_OUT_DIR = f'STAGE_DIR/features_{input_filename}.jsonl'"
   ]
  },
  {
   "cell_type": "code",
   "execution_count": 422,
   "id": "1fe152a4",
   "metadata": {},
   "outputs": [
    {
     "data": {
      "text/plain": [
       "'STAGE_DIR/features_health3.jsonl'"
      ]
     },
     "execution_count": 422,
     "metadata": {},
     "output_type": "execute_result"
    }
   ],
   "source": [
    "FEATURES_OUT_DIR"
   ]
  },
  {
   "cell_type": "code",
   "execution_count": 423,
   "id": "184f32ee",
   "metadata": {},
   "outputs": [],
   "source": [
    "# features_file = open(FEATURES_OUT_DIR, 'w')"
   ]
  },
  {
   "cell_type": "code",
   "execution_count": 424,
   "id": "7b9d6c45",
   "metadata": {},
   "outputs": [],
   "source": [
    "# features_file.close() # Closing the opened resources "
   ]
  },
  {
   "cell_type": "code",
   "execution_count": 425,
   "id": "614cf433",
   "metadata": {},
   "outputs": [],
   "source": [
    "# extraction_scrpit = f\"python BERT/extract_features.py --input_file=stage_health.txt --output_file=features_health.json --vocab_file=BERT/vocab.txt --bert_config_file=BERT/bert_config.json --init_checkpoint=BERT/model.ckpt-1000000 --layers=-1 --max_seq_length=128 --batch_size=8\" \n",
    "\n",
    "extraction_scrpit = f\"python BERT/extract_features.py \\\n",
    "    --input_file={STAGE_DIR} \\\n",
    "    --output_file={FEATURES_OUT_DIR} \\\n",
    "    --vocab_file=BERT/vocab.txt \\\n",
    "    --bert_config_file=BERT/bert_config.json \\\n",
    "    --init_checkpoint=BERT/model.ckpt-1000000 \\\n",
    "    --layers=-1 \\\n",
    "    --max_seq_length=128 \\\n",
    "    --batch_size=8\" "
   ]
  },
  {
   "cell_type": "code",
   "execution_count": 426,
   "id": "88f2f2d4",
   "metadata": {},
   "outputs": [
    {
     "data": {
      "text/plain": [
       "0"
      ]
     },
     "execution_count": 426,
     "metadata": {},
     "output_type": "execute_result"
    }
   ],
   "source": [
    "subprocess.call(extraction_scrpit, shell=True)"
   ]
  },
  {
   "cell_type": "markdown",
   "id": "5c314931",
   "metadata": {},
   "source": [
    "### Sentence Representation"
   ]
  },
  {
   "cell_type": "code",
   "execution_count": 427,
   "id": "b03ad9c5",
   "metadata": {},
   "outputs": [],
   "source": [
    "# doing sentence representation from the given dataset"
   ]
  },
  {
   "cell_type": "code",
   "execution_count": 428,
   "id": "beee9279",
   "metadata": {},
   "outputs": [
    {
     "data": {
      "text/plain": [
       "'STAGE_DIR/stage_health3.txt'"
      ]
     },
     "execution_count": 428,
     "metadata": {},
     "output_type": "execute_result"
    }
   ],
   "source": [
    "STAGE_DIR"
   ]
  },
  {
   "cell_type": "code",
   "execution_count": 429,
   "id": "79821be3",
   "metadata": {},
   "outputs": [
    {
     "data": {
      "text/plain": [
       "'STAGE_DIR/features_health3.jsonl'"
      ]
     },
     "execution_count": 429,
     "metadata": {},
     "output_type": "execute_result"
    }
   ],
   "source": [
    "FEATURES_OUT_DIR"
   ]
  },
  {
   "cell_type": "code",
   "execution_count": 430,
   "id": "933b8958",
   "metadata": {},
   "outputs": [],
   "source": [
    "input_file = open(STAGE_DIR)"
   ]
  },
  {
   "cell_type": "code",
   "execution_count": 431,
   "id": "592d4463",
   "metadata": {},
   "outputs": [],
   "source": [
    "features_file = open(FEATURES_OUT_DIR)"
   ]
  },
  {
   "cell_type": "code",
   "execution_count": 432,
   "id": "4716a185",
   "metadata": {},
   "outputs": [],
   "source": [
    "sentences = input_file.read()"
   ]
  },
  {
   "cell_type": "code",
   "execution_count": 433,
   "id": "f104c65f",
   "metadata": {},
   "outputs": [],
   "source": [
    "sentences = nltk.sent_tokenize(sentences)"
   ]
  },
  {
   "cell_type": "code",
   "execution_count": 434,
   "id": "0cd4c897",
   "metadata": {},
   "outputs": [],
   "source": [
    "# creating some custom classes to hold the information of our input, features etc.,"
   ]
  },
  {
   "cell_type": "code",
   "execution_count": 435,
   "id": "9a691ecc",
   "metadata": {},
   "outputs": [],
   "source": [
    "import math"
   ]
  },
  {
   "cell_type": "code",
   "execution_count": 436,
   "id": "b1b4f261",
   "metadata": {},
   "outputs": [],
   "source": [
    "class Feature:\n",
    "    \n",
    "    def __init__(self, word):\n",
    "        self.token = word\n",
    "        self.weight_list = []"
   ]
  },
  {
   "cell_type": "code",
   "execution_count": 437,
   "id": "e845383a",
   "metadata": {},
   "outputs": [
    {
     "data": {
      "text/plain": [
       "type"
      ]
     },
     "execution_count": 437,
     "metadata": {},
     "output_type": "execute_result"
    }
   ],
   "source": [
    "type(Feature)"
   ]
  },
  {
   "cell_type": "code",
   "execution_count": 438,
   "id": "02d1d9c6",
   "metadata": {},
   "outputs": [],
   "source": [
    "class Sentence:\n",
    "    \n",
    "    def __init__(self, number, text):\n",
    "        \n",
    "        self.sentence_number = number\n",
    "        self.sentence_text = text\n",
    "        self.average_distance = 0\n",
    "        self.feature_list = []\n",
    "        self.representation = []\n",
    "        self.cluster_index = 0\n",
    "        \n",
    "    def set_token_list(self, token_list):\n",
    "        self.feature_list = token_list\n",
    "        \n",
    "    def get_token_list(self):\n",
    "        return self.feature_list"
   ]
  },
  {
   "cell_type": "code",
   "execution_count": 439,
   "id": "852cbcfa",
   "metadata": {},
   "outputs": [
    {
     "data": {
      "text/plain": [
       "type"
      ]
     },
     "execution_count": 439,
     "metadata": {},
     "output_type": "execute_result"
    }
   ],
   "source": [
    "type(Sentence)"
   ]
  },
  {
   "cell_type": "code",
   "execution_count": 440,
   "id": "fa7bfca5",
   "metadata": {},
   "outputs": [],
   "source": [
    "class Cluster:\n",
    "    \n",
    "    def __init__(self, number):\n",
    "        \n",
    "        self.cluster_number = number\n",
    "        self.mean = []\n",
    "        self.members = []\n",
    "        self.summary_members = 0\n",
    "        \n",
    "    def add_member(self, sentence_index):\n",
    "        self.members.append(sentence_index)\n",
    "        \n",
    "    def remove_member(self, sentence_index):\n",
    "        self.members.append(sentence_index)"
   ]
  },
  {
   "cell_type": "code",
   "execution_count": 441,
   "id": "cb9d4c48",
   "metadata": {},
   "outputs": [
    {
     "data": {
      "text/plain": [
       "type"
      ]
     },
     "execution_count": 441,
     "metadata": {},
     "output_type": "execute_result"
    }
   ],
   "source": [
    "type(Cluster)"
   ]
  },
  {
   "cell_type": "code",
   "execution_count": 442,
   "id": "a4cb7873",
   "metadata": {},
   "outputs": [],
   "source": [
    "# creating sentence list by using the above classes"
   ]
  },
  {
   "cell_type": "code",
   "execution_count": 443,
   "id": "3fd0a72f",
   "metadata": {},
   "outputs": [],
   "source": [
    "sentence_list = list(map(lambda sentence: Sentence(sentence[0], sentence[1]), enumerate(sentences)))"
   ]
  },
  {
   "cell_type": "code",
   "execution_count": 444,
   "id": "f64bd5a3",
   "metadata": {},
   "outputs": [
    {
     "data": {
      "text/plain": [
       "[<__main__.Sentence at 0x2739c76d6d8>,\n",
       " <__main__.Sentence at 0x2739c76dda0>,\n",
       " <__main__.Sentence at 0x2739c76dcf8>,\n",
       " <__main__.Sentence at 0x2739c76dc18>,\n",
       " <__main__.Sentence at 0x2739c76d588>]"
      ]
     },
     "execution_count": 444,
     "metadata": {},
     "output_type": "execute_result"
    }
   ],
   "source": [
    "sentence_list[:5]"
   ]
  },
  {
   "cell_type": "code",
   "execution_count": 445,
   "id": "560d42c2",
   "metadata": {},
   "outputs": [
    {
     "data": {
      "text/plain": [
       "81"
      ]
     },
     "execution_count": 445,
     "metadata": {},
     "output_type": "execute_result"
    }
   ],
   "source": [
    "len(sentence_list)"
   ]
  },
  {
   "cell_type": "code",
   "execution_count": 446,
   "id": "d31f4c3f",
   "metadata": {},
   "outputs": [],
   "source": [
    "import json_lines"
   ]
  },
  {
   "cell_type": "code",
   "execution_count": 447,
   "id": "60f08cba",
   "metadata": {},
   "outputs": [],
   "source": [
    "import re"
   ]
  },
  {
   "cell_type": "code",
   "execution_count": 448,
   "id": "08f31411",
   "metadata": {},
   "outputs": [],
   "source": [
    "sentence_number = 0"
   ]
  },
  {
   "cell_type": "code",
   "execution_count": 449,
   "id": "3e8980f0",
   "metadata": {},
   "outputs": [],
   "source": [
    "with open(FEATURES_OUT_DIR, 'r') as input_feature:\n",
    "    \n",
    "    for feature_line in json_lines.reader(input_feature):\n",
    "        \n",
    "        feature_set = feature_line['features']\n",
    "        \n",
    "        for feature in feature_set:\n",
    "            \n",
    "            if feature['token'] in ['[CLS]', '[SEP]']:\n",
    "                \n",
    "                continue;\n",
    "                \n",
    "            temp_features = Feature(feature['token'])\n",
    "            \n",
    "            for layer in feature['layers']:\n",
    "                \n",
    "                temp_features.weight_list.extend(layer['values'])\n",
    "                \n",
    "            sentence_list[sentence_number].feature_list.append(temp_features)\n",
    "            \n",
    "        sentence_number += 1"
   ]
  },
  {
   "cell_type": "code",
   "execution_count": 450,
   "id": "d603a24b",
   "metadata": {},
   "outputs": [
    {
     "data": {
      "text/plain": [
       "81"
      ]
     },
     "execution_count": 450,
     "metadata": {},
     "output_type": "execute_result"
    }
   ],
   "source": [
    "sentence_number"
   ]
  },
  {
   "cell_type": "code",
   "execution_count": 451,
   "id": "2587d43a",
   "metadata": {},
   "outputs": [],
   "source": [
    "# Computing the representation for every sentence\n",
    "\n",
    "for sentence in sentence_list:\n",
    "    \n",
    "    sentence.representation = [0.0] * len(sentence.feature_list[0].weight_list)\n",
    "    \n",
    "    for feature in sentence.feature_list:\n",
    "        \n",
    "        idx = 0\n",
    "        \n",
    "        for weight in feature.weight_list:\n",
    "            \n",
    "            sentence.representation[idx] += weight\n",
    "            \n",
    "            idx += 1\n",
    "            \n",
    "    sentence.representation = [representation / 2 for representation in sentence.representation]"
   ]
  },
  {
   "cell_type": "code",
   "execution_count": 452,
   "id": "b7bbe8b1",
   "metadata": {},
   "outputs": [
    {
     "data": {
      "text/plain": [
       "81"
      ]
     },
     "execution_count": 452,
     "metadata": {},
     "output_type": "execute_result"
    }
   ],
   "source": [
    "len(sentence_list)"
   ]
  },
  {
   "cell_type": "code",
   "execution_count": 453,
   "id": "d1189641",
   "metadata": {},
   "outputs": [],
   "source": [
    "# Sample Representation of the above sentence"
   ]
  },
  {
   "cell_type": "code",
   "execution_count": 454,
   "id": "ae5762ee",
   "metadata": {},
   "outputs": [
    {
     "data": {
      "text/plain": [
       "0"
      ]
     },
     "execution_count": 454,
     "metadata": {},
     "output_type": "execute_result"
    }
   ],
   "source": [
    "sentence_list[0].sentence_number"
   ]
  },
  {
   "cell_type": "code",
   "execution_count": 455,
   "id": "4c9868c1",
   "metadata": {},
   "outputs": [
    {
     "data": {
      "text/plain": [
       "'it occurs in more than 50% of patients and may reach 90% in certain types of cancers , especially in patients undergoing chemotherapy and/or radiation therapy.1 anemia is defined as an inadequate circulating level of hemoglobin ( hb ) ( hb < 12 g / dl ) and may arise as a result of the underlying disease , bleeding , poor nutrition , chemotherapy , or radiation therapy .'"
      ]
     },
     "execution_count": 455,
     "metadata": {},
     "output_type": "execute_result"
    }
   ],
   "source": [
    "sentence_list[0].sentence_text"
   ]
  },
  {
   "cell_type": "code",
   "execution_count": 456,
   "id": "d252ef9e",
   "metadata": {},
   "outputs": [
    {
     "data": {
      "text/plain": [
       "0"
      ]
     },
     "execution_count": 456,
     "metadata": {},
     "output_type": "execute_result"
    }
   ],
   "source": [
    "sentence_list[0].average_distance"
   ]
  },
  {
   "cell_type": "code",
   "execution_count": 457,
   "id": "cba9e0aa",
   "metadata": {},
   "outputs": [
    {
     "data": {
      "text/plain": [
       "'50'"
      ]
     },
     "execution_count": 457,
     "metadata": {},
     "output_type": "execute_result"
    }
   ],
   "source": [
    "sentence_list[0].feature_list[5].token"
   ]
  },
  {
   "cell_type": "code",
   "execution_count": 458,
   "id": "9585d5a1",
   "metadata": {
    "scrolled": false
   },
   "outputs": [],
   "source": [
    "# sentence_list[0].feature_list[0].weight_list"
   ]
  },
  {
   "cell_type": "code",
   "execution_count": 459,
   "id": "547803b3",
   "metadata": {
    "scrolled": false
   },
   "outputs": [],
   "source": [
    "# sentence_list[0].representation"
   ]
  },
  {
   "cell_type": "code",
   "execution_count": 460,
   "id": "738f3987",
   "metadata": {},
   "outputs": [
    {
     "data": {
      "text/plain": [
       "0"
      ]
     },
     "execution_count": 460,
     "metadata": {},
     "output_type": "execute_result"
    }
   ],
   "source": [
    "sentence_list[0].cluster_index"
   ]
  },
  {
   "cell_type": "code",
   "execution_count": 461,
   "id": "b98d2ae4",
   "metadata": {},
   "outputs": [],
   "source": [
    "def is_itemize(sentence):\n",
    "    \n",
    "    if len(sentence.feature_list) == 1 and re.match('.|-', sentence.feature_list[0].token):\n",
    "        \n",
    "        return True\n",
    "    \n",
    "    if len(sentence.feature_list) == 2 and re.match('\\d+|\\(\\d+\\)', sentence.feature_list[0].token) and re.match('.|-', sentence.feature_list[1].token):\n",
    "        \n",
    "        return True\n",
    "    \n",
    "    else:\n",
    "        \n",
    "        return False"
   ]
  },
  {
   "cell_type": "code",
   "execution_count": 462,
   "id": "cfc026c0",
   "metadata": {},
   "outputs": [],
   "source": [
    "sentence_list = list(filter(lambda x: is_itemize(x) == False, sentence_list))"
   ]
  },
  {
   "cell_type": "code",
   "execution_count": 463,
   "id": "85a2fbf5",
   "metadata": {},
   "outputs": [
    {
     "data": {
      "text/plain": [
       "81"
      ]
     },
     "execution_count": 463,
     "metadata": {},
     "output_type": "execute_result"
    }
   ],
   "source": [
    "len(sentence_list)"
   ]
  },
  {
   "cell_type": "code",
   "execution_count": 464,
   "id": "8f3782c1",
   "metadata": {},
   "outputs": [],
   "source": [
    "representations = list(map(lambda sentence: sentence.representation, sentence_list))"
   ]
  },
  {
   "cell_type": "code",
   "execution_count": 465,
   "id": "8584c2db",
   "metadata": {},
   "outputs": [
    {
     "data": {
      "text/plain": [
       "81"
      ]
     },
     "execution_count": 465,
     "metadata": {},
     "output_type": "execute_result"
    }
   ],
   "source": [
    "len(representations)"
   ]
  },
  {
   "cell_type": "code",
   "execution_count": 466,
   "id": "03906bd3",
   "metadata": {},
   "outputs": [],
   "source": [
    "# applying the clustering technique"
   ]
  },
  {
   "cell_type": "code",
   "execution_count": 467,
   "id": "1ad26c1f",
   "metadata": {},
   "outputs": [],
   "source": [
    "# for the given representation"
   ]
  },
  {
   "cell_type": "code",
   "execution_count": 468,
   "id": "14ae64fb",
   "metadata": {},
   "outputs": [],
   "source": [
    "from sklearn.cluster import KMeans"
   ]
  },
  {
   "cell_type": "code",
   "execution_count": 469,
   "id": "a2c6bf42",
   "metadata": {},
   "outputs": [],
   "source": [
    "from kneed import KneeLocator"
   ]
  },
  {
   "cell_type": "code",
   "execution_count": 470,
   "id": "fc47bf21",
   "metadata": {},
   "outputs": [],
   "source": [
    "import matplotlib.pyplot as plt"
   ]
  },
  {
   "cell_type": "code",
   "execution_count": 471,
   "id": "792249ba",
   "metadata": {},
   "outputs": [],
   "source": [
    "%matplotlib inline"
   ]
  },
  {
   "cell_type": "code",
   "execution_count": 472,
   "id": "f71ccb30",
   "metadata": {},
   "outputs": [],
   "source": [
    "from scipy.spatial import distance"
   ]
  },
  {
   "cell_type": "markdown",
   "id": "16f43141",
   "metadata": {},
   "source": [
    "#### Performing elbow test on the given dataset"
   ]
  },
  {
   "cell_type": "code",
   "execution_count": 474,
   "id": "f26ece6a",
   "metadata": {},
   "outputs": [],
   "source": [
    "def elbow_test(data, n_initial:int = 10, max_clusters: int = 30, max_iter:int = 300) -> int:\n",
    "    \n",
    "    distortions = []\n",
    "    \n",
    "    for cluster in range(1, max_clusters):\n",
    "        \n",
    "        kmeans = KMeans(n_clusters=cluster,\n",
    "                       init='random',\n",
    "                       n_init=n_initial,\n",
    "                       max_iter=max_iter,\n",
    "                       tol=1e-04,\n",
    "                       random_state=42)\n",
    "        \n",
    "        kmeans.fit(X=data, y=None)\n",
    "        \n",
    "        distortions.append(kmeans.inertia_)\n",
    "        \n",
    "    plt.plot(range(1, max_clusters), distortions, marker='o')\n",
    "    \n",
    "    plt.xlabel('Number of Clusters')\n",
    "    \n",
    "    plt.ylabel('Distortion')\n",
    "    \n",
    "    plt.savefig('kmeans-clustering.png')\n",
    "    \n",
    "    locator = KneeLocator(range(1, max_clusters), \n",
    "                          distortions, \n",
    "                          curve='convex', \n",
    "                          direction='decreasing', \n",
    "                          interp_method='interp1d')\n",
    "    \n",
    "    return locator.knee\n",
    "\n",
    "    predictions = data[data.columns[1:]]\n",
    "    \n",
    "    n_clusters = elbow_test(predictions, 10, 20, 300)\n",
    "    \n",
    "    print(f'Number of Clusters: {n_clusters}')\n",
    "    \n",
    "    return n_clusters"
   ]
  },
  {
   "cell_type": "code",
   "execution_count": 475,
   "id": "316c302d",
   "metadata": {},
   "outputs": [
    {
     "data": {
      "image/png": "[encoded data removed]",
      "text/plain": [
       "<Figure size 432x288 with 1 Axes>"
      ]
     },
     "metadata": {
      "needs_background": "light"
     },
     "output_type": "display_data"
    }
   ],
   "source": [
    "n_clusters = elbow_test(representations, n_initial=10, max_clusters=20, max_iter=10000)"
   ]
  },
  {
   "cell_type": "code",
   "execution_count": 476,
   "id": "39deefd3",
   "metadata": {},
   "outputs": [
    {
     "data": {
      "text/plain": [
       "numpy.int32"
      ]
     },
     "execution_count": 476,
     "metadata": {},
     "output_type": "execute_result"
    }
   ],
   "source": [
    "type(n_clusters)"
   ]
  },
  {
   "cell_type": "code",
   "execution_count": 477,
   "id": "53074a6f",
   "metadata": {},
   "outputs": [
    {
     "data": {
      "text/plain": [
       "4"
      ]
     },
     "execution_count": 477,
     "metadata": {},
     "output_type": "execute_result"
    }
   ],
   "source": [
    "n_clusters"
   ]
  },
  {
   "cell_type": "markdown",
   "id": "cc5abcce",
   "metadata": {},
   "source": [
    "##### Performing the KMeans clustering on the given representation"
   ]
  },
  {
   "cell_type": "code",
   "execution_count": 479,
   "id": "090b1ab2",
   "metadata": {},
   "outputs": [],
   "source": [
    "def clustering_kmeans(sentences, n_clusters):\n",
    "    \n",
    "    representation = list(map(lambda sentence: sentence.representation, sentences))\n",
    "    \n",
    "    kmeans = KMeans(n_clusters=n_clusters, init='k-means++', random_state=42)\n",
    "    \n",
    "    # Fitting on the given representation\n",
    "    kmeans.fit(X=representation, y=None)\n",
    "    \n",
    "    # Predicting on the given representation\n",
    "    y_pred = kmeans.predict(X=representation)\n",
    "    \n",
    "    centers = kmeans.cluster_centers_\n",
    "    \n",
    "    for idx in range(len(y_pred)):\n",
    "        \n",
    "        cluster_number = y_pred[idx]\n",
    "        \n",
    "        sentences[idx].avg_distance = distance.euclidean(centers[cluster_number], sentences[idx].representation)\n",
    "        \n",
    "        sentences[idx].cluster_index = cluster_number\n",
    "        \n",
    "    return sentences"
   ]
  },
  {
   "cell_type": "code",
   "execution_count": 480,
   "id": "f08a4dc9",
   "metadata": {},
   "outputs": [],
   "source": [
    "sentence_list = clustering_kmeans(sentence_list, n_clusters=n_clusters)"
   ]
  },
  {
   "cell_type": "code",
   "execution_count": 481,
   "id": "8ae4319a",
   "metadata": {},
   "outputs": [
    {
     "data": {
      "text/plain": [
       "list"
      ]
     },
     "execution_count": 481,
     "metadata": {},
     "output_type": "execute_result"
    }
   ],
   "source": [
    "type(sentence_list)"
   ]
  },
  {
   "cell_type": "code",
   "execution_count": 482,
   "id": "1e4cb7df",
   "metadata": {},
   "outputs": [
    {
     "data": {
      "text/plain": [
       "81"
      ]
     },
     "execution_count": 482,
     "metadata": {},
     "output_type": "execute_result"
    }
   ],
   "source": [
    "len(sentence_list)"
   ]
  },
  {
   "cell_type": "code",
   "execution_count": 483,
   "id": "74d18c67",
   "metadata": {},
   "outputs": [
    {
     "data": {
      "text/plain": [
       "0"
      ]
     },
     "execution_count": 483,
     "metadata": {},
     "output_type": "execute_result"
    }
   ],
   "source": [
    "sentence_list[-1].average_distance"
   ]
  },
  {
   "cell_type": "code",
   "execution_count": 484,
   "id": "7bf966ab",
   "metadata": {},
   "outputs": [
    {
     "data": {
      "text/plain": [
       "2"
      ]
     },
     "execution_count": 484,
     "metadata": {},
     "output_type": "execute_result"
    }
   ],
   "source": [
    "sentence_list[-1].cluster_index"
   ]
  },
  {
   "cell_type": "markdown",
   "id": "dfed86b4",
   "metadata": {},
   "source": [
    "### Produceing Summary using the above Code"
   ]
  },
  {
   "cell_type": "code",
   "execution_count": 485,
   "id": "ed94fa7f",
   "metadata": {},
   "outputs": [],
   "source": [
    "def produce_summary(compression_ratio, sentence_list, n_clusters):\n",
    "    \n",
    "    summary_index = []\n",
    "    \n",
    "    for idx in range(0, n_clusters):\n",
    "        \n",
    "        cluster = Cluster(idx)\n",
    "        \n",
    "        cluster.members = list(filter(lambda sentence: sentence.cluster_index == idx, sentence_list))\n",
    "        \n",
    "        cluster.summary_members = math.ceil(len(cluster.members) * compression_ratio)\n",
    "        \n",
    "        if cluster.summary_members == 0:\n",
    "            \n",
    "            cluster.summary_members = 1\n",
    "            \n",
    "        cluster.members = sorted(cluster.members, key=lambda x: x.avg_distance, reverse=False)\n",
    "        \n",
    "        summary_index.extend(cluster.members[:cluster.summary_members])\n",
    "        \n",
    "    summary_index = list(map(lambda x: x.sentence_number, summary_index))\n",
    "    \n",
    "    summary_index = sorted(summary_index)\n",
    "    \n",
    "    return summary_index"
   ]
  },
  {
   "cell_type": "code",
   "execution_count": 486,
   "id": "944e2652",
   "metadata": {},
   "outputs": [],
   "source": [
    "summery_index = produce_summary(compression_ratio=0.10, sentence_list=sentence_list, n_clusters=n_clusters)"
   ]
  },
  {
   "cell_type": "code",
   "execution_count": 487,
   "id": "c7a155fa",
   "metadata": {},
   "outputs": [
    {
     "data": {
      "text/plain": [
       "list"
      ]
     },
     "execution_count": 487,
     "metadata": {},
     "output_type": "execute_result"
    }
   ],
   "source": [
    "type(summery_index)"
   ]
  },
  {
   "cell_type": "code",
   "execution_count": 488,
   "id": "189a9a3b",
   "metadata": {},
   "outputs": [
    {
     "data": {
      "text/plain": [
       "10"
      ]
     },
     "execution_count": 488,
     "metadata": {},
     "output_type": "execute_result"
    }
   ],
   "source": [
    "len(summery_index)"
   ]
  },
  {
   "cell_type": "code",
   "execution_count": 489,
   "id": "271e7254",
   "metadata": {},
   "outputs": [
    {
     "data": {
      "text/plain": [
       "[12]"
      ]
     },
     "execution_count": 489,
     "metadata": {},
     "output_type": "execute_result"
    }
   ],
   "source": [
    "summery_index[:1]"
   ]
  },
  {
   "cell_type": "code",
   "execution_count": 490,
   "id": "eb0123fa",
   "metadata": {},
   "outputs": [],
   "source": [
    "# generating the final summary"
   ]
  },
  {
   "cell_type": "code",
   "execution_count": 491,
   "id": "b00aaa87",
   "metadata": {},
   "outputs": [],
   "source": [
    "def generate_final_summay(indexes, sentences, output_address):\n",
    "    \n",
    "    final_summay = ''\n",
    "    \n",
    "    idx = 0\n",
    "    \n",
    "    for index in indexes:\n",
    "        \n",
    "        if idx > 0:\n",
    "            \n",
    "            final_summay += ' '\n",
    "            \n",
    "        final_summay += sentence_list[index].sentence_text\n",
    "        \n",
    "        idx += 1\n",
    "        \n",
    "    print(final_summay)\n",
    "        \n",
    "    outfile = open(output_address, 'w')\n",
    "    \n",
    "    outfile.write(final_summay)\n",
    "    \n",
    "    outfile.close()"
   ]
  },
  {
   "cell_type": "code",
   "execution_count": 492,
   "id": "028d2f23",
   "metadata": {},
   "outputs": [
    {
     "name": "stdout",
     "output_type": "stream",
     "text": [
      "\\n patients were also required to have a serum ferritin level of 100 ng / ml or higher or transferrin saturation ( tsat ) levels of 15% or higher and to have received no esas or iv iron therapy within 30 days and no oral iron therapy ( 27 mg / day or more ) within 7 days before enrollment . the first dose was given during the first clinic visit ( 4 days from the initiation of chemotherapy or radiation therapy ) . \\n patients were also required to have a serum ferritin level of 100 ng / ml or higher or transferrin saturation ( tsat ) levels of 15% or higher and to have received no esas or iv iron therapy within 30 days and no oral iron therapy ( 27 mg / day or more ) within 7 days before enrollment . \\n the first dose was given during the first clinic visit ( 4 days from the initiation of chemotherapy or radiation therapy ) . \\n eight ( 42.1% ) of the 19 patients who completed at least three iron infusions had a more than 1 g / dl increase in their hb level . \\n hemoglobin level changes for the 14 patients who completed twelve iron infusions are shown in figure 1 . \\n tsat was monitored during the study period , and no patients had tsat levels increase to more than 50% . given that the mean hb increase using esas with iv iron in one large controlled trial was 2.4 g / dl,21 the results obtained in our study are clinically significant . \\n the highest serum ferritin level in the present study in patients who completed at least 9 weeks of iv iron therapy was 1,170 ng / ml . \\n published reviews report an increase in hepatocellular carcinoma only in patients with hemochromatosis after they develop cirrhosis.29 similarly data supporting the association between iv iron therapy and higher infection rate are weak and not well - supported.30 in fact , anemia itself is a risk factor for infections in patients receiving hemodialysis.31 a multivariate analysis of associations between iron and mortality in more than 58,000 patients receiving hemodialysis reported no increased death rate from serum ferritin levels as high as 1,200 ng / ml.30 the increasing cost of therapy in patients with cancer is of grave concern , which could be an additional benefit of iv iron over the use of esas in such patients .\n"
     ]
    }
   ],
   "source": [
    "generate_final_summay(summery_index, sentences=sentence_list, output_address='data/output/summary3.txt')"
   ]
  },
  {
   "cell_type": "markdown",
   "id": "18b00f18",
   "metadata": {},
   "source": [
    "### Cosine Similarity Test Between Bert and Bio-BERT"
   ]
  },
  {
   "cell_type": "code",
   "execution_count": 276,
   "id": "41f67253",
   "metadata": {
    "scrolled": true
   },
   "outputs": [
    {
     "name": "stdout",
     "output_type": "stream",
     "text": [
      "Collecting gensim\n",
      "  Using cached gensim-4.2.0-cp36-cp36m-win_amd64.whl\n",
      "Requirement already satisfied: numpy>=1.17.0 in c:\\users\\sav76\\anaconda3\\envs\\biobert_env\\lib\\site-packages (from gensim) (1.19.5)\n",
      "Requirement already satisfied: scipy>=0.18.1 in c:\\users\\sav76\\anaconda3\\envs\\biobert_env\\lib\\site-packages (from gensim) (1.5.4)\n",
      "Collecting smart-open>=1.8.1\n",
      "  Downloading smart_open-6.2.0-py3-none-any.whl (58 kB)\n",
      "Installing collected packages: smart-open, gensim\n",
      "Successfully installed gensim-4.2.0 smart-open-6.2.0\n"
     ]
    }
   ],
   "source": [
    "!pip install gensim\n"
   ]
  },
  {
   "cell_type": "code",
   "execution_count": 304,
   "id": "0f3be902",
   "metadata": {},
   "outputs": [
    {
     "data": {
      "text/plain": [
       "[-0.016910493, 0.062205613, -0.06265856, 0.0584929, 0.0055561303]"
      ]
     },
     "execution_count": 304,
     "metadata": {},
     "output_type": "execute_result"
    }
   ],
   "source": [
    "from gensim.models.doc2vec import Doc2Vec, TaggedDocument\n",
    "\n",
    "from gensim.test.utils import common_texts\n",
    "\n",
    "documents=[TaggedDocument(doc,[j]) for j, doc in enumerate(common_texts)]\n",
    "\n",
    "model=Doc2Vec(documents, vector_size=5,window=2, min_count=1, workers=4)\n",
    "\n",
    "\n",
    "from gensim.test.utils import get_tmpfile\n",
    "\n",
    "fname=get_tmpfile(\"my_doc2vec_model\")\n",
    "\n",
    "model.save(fname)\n",
    "\n",
    "model=Doc2Vec.load(fname)\n",
    "\n",
    "list(model.infer_vector(ref_summary))"
   ]
  },
  {
   "cell_type": "markdown",
   "id": "c6538c75",
   "metadata": {},
   "source": [
    "##### Reference Annotated Summary from pubmed-summarization"
   ]
  },
  {
   "cell_type": "code",
   "execution_count": 494,
   "id": "0944624e",
   "metadata": {},
   "outputs": [],
   "source": [
    "ref_summary=[\"backgroundanemia in patients with cancer who are undergoing active therapy is commonly encountered and may worsen quality of life in these patients . the effect of blood transfusion is often temporary and may be associated with serious adverse events . \\n erythropoiesis - stimulating agents are not effective in 30%50% of patients and may have a negative effect on overall survival.aimsto assess the efficacy and feasibility of intravenous iron therapy in patients with cancer who have non - iron - deficiency anemia and who are undergoing treatment with chemotherapy without the use of erythropoiesis - stimulating agents.methodsadult patients with solid cancers and non - iron - deficiency anemia were included . \\n ferric sucrose at a dose of 200 mg was given in short intravenous infusions weekly for a total of 12 weeks . \\n hemoglobin level was measured at baseline , every 3 weeks , and 2 weeks after the last iron infusion ( week 14 ) . \\n adverse events related to intravenous iron were prospectively reported.resultsof 25 patients included , 19 ( 76.0% ) completed at least three iron infusions and 14 ( 56.0% ) finished the planned 12 weeks of therapy . \\n the mean hemoglobin level of the 25 patients at baseline was 9.6 g / dl ( median , 9.9 g / dl ; range , 6.9 g / dl 10.9 g / dl ) . the mean change in hemoglobin level for the 15 patients who completed at least 9 treatments was 1.7 g / dl ( median , 1.1 g / dl ; range , 1.9 g / dl to 3.2 g / dl ) ; it reached 2.1 g / dl ( median , 1.3 g / dl ; range , 0.2 g / dl to 4.6 g / dl ; p = 0.0007 ) for the 14 patients who completed all 12 weekly treatments . \\n five ( 20.0% ) patients were transfused and considered as treatment failures . \\n no treatment - related adverse events were reported.conclusionintravenous iron treatment alone is safe and may reduce blood transfusion requirements and improve hemoglobin level in patients with cancer who are undergoing anticancer therapy . \\n further randomized studies are needed to confirm these findings .\"]"
   ]
  },
  {
   "cell_type": "markdown",
   "id": "d4a03ca2",
   "metadata": {},
   "source": [
    "##### Summary generated through Bio-BERT"
   ]
  },
  {
   "cell_type": "code",
   "execution_count": 495,
   "id": "38eeb635",
   "metadata": {},
   "outputs": [],
   "source": [
    "summary_gen = [\"patients were also required to have a serum ferritin level of 100 ng / ml or higher or transferrin saturation ( tsat ) levels of 15% or higher and to have received no esas or iv iron therapy within 30 days and no oral iron therapy ( 27 mg / day or more ) within 7 days before enrollment . the first dose was given during the first clinic visit ( 4 days from the initiation of chemotherapy or radiation therapy ) . \\n patients were also required to have a serum ferritin level of 100 ng / ml or higher or transferrin saturation ( tsat ) levels of 15% or higher and to have received no esas or iv iron therapy within 30 days and no oral iron therapy ( 27 mg / day or more ) within 7 days before enrollment . \\n the first dose was given during the first clinic visit ( 4 days from the initiation of chemotherapy or radiation therapy ) . \\n eight ( 42.1% ) of the 19 patients who completed at least three iron infusions had a more than 1 g / dl increase in their hb level . \\n hemoglobin level changes for the 14 patients who completed twelve iron infusions are shown in figure 1 . \\n tsat was monitored during the study period , and no patients had tsat levels increase to more than 50% . given that the mean hb increase using esas with iv iron in one large controlled trial was 2.4 g / dl,21 the results obtained in our study are clinically significant . \\n the highest serum ferritin level in the present study in patients who completed at least 9 weeks of iv iron therapy was 1,170 ng / ml . \\n published reviews report an increase in hepatocellular carcinoma only in patients with hemochromatosis after they develop cirrhosis.29 similarly data supporting the association between iv iron therapy and higher infection rate are weak and not well - supported.30 in fact , anemia itself is a risk factor for infections in patients receiving hemodialysis.31 a multivariate analysis of associations between iron and mortality in more than 58,000 patients receiving hemodialysis reported no increased death rate from serum ferritin levels as high as 1,200 ng / ml.30 the increasing cost of therapy in patients with cancer is of grave concern , which could be an additional benefit of iv iron over the use of esas in such patients .\"]"
   ]
  },
  {
   "cell_type": "code",
   "execution_count": 301,
   "id": "ae556ccb",
   "metadata": {},
   "outputs": [],
   "source": [
    "#ref_summary[0]"
   ]
  },
  {
   "cell_type": "code",
   "execution_count": 496,
   "id": "88e76e7a",
   "metadata": {},
   "outputs": [],
   "source": [
    "p=model.infer_vector(ref_summary)\n",
    "vector_ref = p\n",
    "q=[model.infer_vector(summary_gen)]\n",
    "vector_sum = q\n",
    "#vector_ref.append(model.infer_vector(ref_summary[i]))\n",
    "#vector_sum.append(model.infer_vector(summary_from_model[i]))"
   ]
  },
  {
   "cell_type": "code",
   "execution_count": 497,
   "id": "a9a311f3",
   "metadata": {},
   "outputs": [],
   "source": [
    "from sklearn.metrics.pairwise import cosine_similarity"
   ]
  },
  {
   "cell_type": "code",
   "execution_count": 498,
   "id": "13df4345",
   "metadata": {},
   "outputs": [],
   "source": [
    "vv=vector_ref.reshape(1,-1)"
   ]
  },
  {
   "cell_type": "markdown",
   "id": "b3f6fcc2",
   "metadata": {},
   "source": [
    "#### Cosine Similarity score of 0.84 with Reference Summary"
   ]
  },
  {
   "cell_type": "code",
   "execution_count": 499,
   "id": "96a76e4d",
   "metadata": {},
   "outputs": [
    {
     "data": {
      "text/plain": [
       "array([[0.84612]], dtype=float32)"
      ]
     },
     "execution_count": 499,
     "metadata": {},
     "output_type": "execute_result"
    }
   ],
   "source": [
    "cosine_similarity(vv,vector_sum)"
   ]
  },
  {
   "cell_type": "markdown",
   "id": "c5409ecb",
   "metadata": {},
   "source": [
    "#### BERT model summary for the same article"
   ]
  },
  {
   "cell_type": "code",
   "execution_count": 504,
   "id": "e36680ae",
   "metadata": {},
   "outputs": [],
   "source": [
    "bert_ex = [\"it occurs in more than 50 of patients and may reach 90 in certain types of cancers  especially in patients undergoing chemotherapy andor radiation therapy 26 anemia of chronic disease may occur in patients with cancer and is associated with an increase in hepcidin levels  which decreases oral iron absorption and bone marrow iron use  negating any possible effect of regular doses of oral iron\"]"
   ]
  },
  {
   "cell_type": "code",
   "execution_count": 505,
   "id": "a50c8f1d",
   "metadata": {},
   "outputs": [],
   "source": [
    "p2=model.infer_vector(ref_summary)\n",
    "vector_ref2 = p2\n",
    "q2=[model.infer_vector(bert_ex)]\n",
    "vector_sum2 = q2\n",
    "#vector_ref.append(model.infer_vector(ref_summary[i]))\n",
    "#vector_sum.append(model.infer_vector(summary_from_model[i]))"
   ]
  },
  {
   "cell_type": "code",
   "execution_count": 506,
   "id": "a3301935",
   "metadata": {},
   "outputs": [],
   "source": [
    "vv=vector_ref.reshape(1,-1)"
   ]
  },
  {
   "cell_type": "markdown",
   "id": "3241a0aa",
   "metadata": {},
   "source": [
    "#### Cosine Similarity score of -0.42 with Reference Summary"
   ]
  },
  {
   "cell_type": "code",
   "execution_count": 507,
   "id": "e0e73bb2",
   "metadata": {
    "scrolled": false
   },
   "outputs": [
    {
     "data": {
      "text/plain": [
       "array([[-0.4271493]], dtype=float32)"
      ]
     },
     "execution_count": 507,
     "metadata": {},
     "output_type": "execute_result"
    }
   ],
   "source": [
    "cosine_similarity(vv,vector_sum2)"
   ]
  },
  {
   "cell_type": "markdown",
   "id": "43e1d40b",
   "metadata": {},
   "source": [
    "#### We find Cosine similarity of Bio Bert(0.84) to be higher than Bert Model(-0.42) with respect to reference Abstract summary"
   ]
  },
  {
   "cell_type": "markdown",
   "id": "d7c52194",
   "metadata": {},
   "source": [
    "#### Bio-BERT wrt BERT summary score"
   ]
  },
  {
   "cell_type": "code",
   "execution_count": 510,
   "id": "d47c9bdc",
   "metadata": {
    "scrolled": true
   },
   "outputs": [
    {
     "data": {
      "text/plain": [
       "array([[-0.5174275]], dtype=float32)"
      ]
     },
     "execution_count": 510,
     "metadata": {},
     "output_type": "execute_result"
    }
   ],
   "source": [
    "cosine_similarity(vector_sum,vector_sum2)"
   ]
  },
  {
   "cell_type": "code",
   "execution_count": null,
   "id": "7a877eb6",
   "metadata": {},
   "outputs": [],
   "source": []
  }
 ],
 "metadata": {
  "kernelspec": {
   "display_name": "Python 3",
   "language": "python",
   "name": "python3"
  },
  "language_info": {
   "codemirror_mode": {
    "name": "ipython",
    "version": 3
   },
   "file_extension": ".py",
   "mimetype": "text/x-python",
   "name": "python",
   "nbconvert_exporter": "python",
   "pygments_lexer": "ipython3",
   "version": "3.10.9 (tags/v3.10.9:1dd9be6, Dec  6 2022, 20:01:21) [MSC v.1934 64 bit (AMD64)]"
  },
  "vscode": {
   "interpreter": {
    "hash": "bbcff7f7781ba531429a4adc200aecf0c12a2f3b5bc32cc48a78360ab8de4ee4"
   }
  }
 },
 "nbformat": 4,
 "nbformat_minor": 5
}
