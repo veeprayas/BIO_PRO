{
 "cells": [
  {
   "cell_type": "code",
   "execution_count": 24,
   "id": "9df777f5",
   "metadata": {},
   "outputs": [],
   "source": [
    "import warnings"
   ]
  },
  {
   "cell_type": "code",
   "execution_count": 25,
   "id": "ded59d7c",
   "metadata": {},
   "outputs": [],
   "source": [
    "warnings.filterwarnings('ignore')"
   ]
  },
  {
   "cell_type": "code",
   "execution_count": 12,
   "id": "62a6428f",
   "metadata": {},
   "outputs": [],
   "source": [
    "import tensorflow as tf"
   ]
  },
  {
   "cell_type": "code",
   "execution_count": 15,
   "id": "09a5b13b",
   "metadata": {},
   "outputs": [],
   "source": [
    "import pandas as pd"
   ]
  },
  {
   "cell_type": "code",
   "execution_count": 16,
   "id": "003e73c6",
   "metadata": {},
   "outputs": [
    {
     "data": {
      "text/plain": [
       "'1.11.0'"
      ]
     },
     "execution_count": 16,
     "metadata": {},
     "output_type": "execute_result"
    }
   ],
   "source": [
    "tf.__version__"
   ]
  },
  {
   "cell_type": "code",
   "execution_count": 17,
   "id": "47c27f56",
   "metadata": {},
   "outputs": [],
   "source": [
    "# Getting the Input data from PubMed articals"
   ]
  },
  {
   "cell_type": "code",
   "execution_count": 18,
   "id": "e07085ed",
   "metadata": {},
   "outputs": [],
   "source": [
    "import os"
   ]
  },
  {
   "cell_type": "code",
   "execution_count": 19,
   "id": "05112505",
   "metadata": {},
   "outputs": [],
   "source": [
    "ROOT = os.getcwd()"
   ]
  },
  {
   "cell_type": "code",
   "execution_count": 20,
   "id": "abf130c3",
   "metadata": {},
   "outputs": [
    {
     "data": {
      "text/plain": [
       "str"
      ]
     },
     "execution_count": 20,
     "metadata": {},
     "output_type": "execute_result"
    }
   ],
   "source": [
    "type(ROOT)"
   ]
  },
  {
   "cell_type": "code",
   "execution_count": 21,
   "id": "909e442f",
   "metadata": {},
   "outputs": [
    {
     "name": "stdout",
     "output_type": "stream",
     "text": [
      "Location of the Current directory = C:\\Users\\sav76\\Downloads\\Capstone Project\\biobert_summ\n"
     ]
    }
   ],
   "source": [
    "print(f'Location of the Current directory = {ROOT}')"
   ]
  },
  {
   "cell_type": "code",
   "execution_count": 146,
   "id": "fb2dbb99",
   "metadata": {},
   "outputs": [],
   "source": [
    "#dataframe = pd.read_csv('first100.csv', index_col='Unnamed: 0')"
   ]
  },
  {
   "cell_type": "code",
   "execution_count": 147,
   "id": "b2f7af2c",
   "metadata": {},
   "outputs": [],
   "source": [
    "#dataframe.info()"
   ]
  },
  {
   "cell_type": "code",
   "execution_count": null,
   "id": "dc885e06",
   "metadata": {},
   "outputs": [],
   "source": []
  },
  {
   "cell_type": "code",
   "execution_count": 148,
   "id": "e7cc5f49",
   "metadata": {},
   "outputs": [],
   "source": [
    "source_input = ROOT + \"\\data\\input\\health2.txt\""
   ]
  },
  {
   "cell_type": "code",
   "execution_count": 149,
   "id": "7cf724bb",
   "metadata": {},
   "outputs": [],
   "source": [
    "source_output = ROOT + \"\\data\\output\\summary2.txt\""
   ]
  },
  {
   "cell_type": "code",
   "execution_count": 150,
   "id": "87edfb94",
   "metadata": {},
   "outputs": [
    {
     "data": {
      "text/plain": [
       "'C:\\\\Users\\\\sav76\\\\Downloads\\\\Capstone Project\\\\biobert_summ\\\\data\\\\input\\\\health2.txt'"
      ]
     },
     "execution_count": 150,
     "metadata": {},
     "output_type": "execute_result"
    }
   ],
   "source": [
    "source_input"
   ]
  },
  {
   "cell_type": "code",
   "execution_count": 151,
   "id": "138efdd7",
   "metadata": {},
   "outputs": [
    {
     "data": {
      "text/plain": [
       "'C:\\\\Users\\\\sav76\\\\Downloads\\\\Capstone Project\\\\biobert_summ\\\\data\\\\output\\\\summary2.txt'"
      ]
     },
     "execution_count": 151,
     "metadata": {},
     "output_type": "execute_result"
    }
   ],
   "source": [
    "source_output"
   ]
  },
  {
   "cell_type": "code",
   "execution_count": 152,
   "id": "b0698ab9",
   "metadata": {},
   "outputs": [],
   "source": [
    "import nltk"
   ]
  },
  {
   "cell_type": "code",
   "execution_count": 153,
   "id": "f8676f0e",
   "metadata": {},
   "outputs": [
    {
     "name": "stderr",
     "output_type": "stream",
     "text": [
      "[nltk_data] Downloading package punkt to\n",
      "[nltk_data]     C:\\Users\\sav76\\AppData\\Roaming\\nltk_data...\n",
      "[nltk_data]   Package punkt is already up-to-date!\n"
     ]
    },
    {
     "data": {
      "text/plain": [
       "True"
      ]
     },
     "execution_count": 153,
     "metadata": {},
     "output_type": "execute_result"
    }
   ],
   "source": [
    "nltk.download('punkt')"
   ]
  },
  {
   "cell_type": "markdown",
   "id": "fc400969",
   "metadata": {},
   "source": [
    "### Preprocessing the given input data"
   ]
  },
  {
   "cell_type": "code",
   "execution_count": 154,
   "id": "5b8a9371",
   "metadata": {},
   "outputs": [],
   "source": [
    "# Using some junk data available in the open repository like github"
   ]
  },
  {
   "cell_type": "code",
   "execution_count": 155,
   "id": "4c3bb380",
   "metadata": {},
   "outputs": [],
   "source": [
    "source_data = []"
   ]
  },
  {
   "cell_type": "code",
   "execution_count": 156,
   "id": "9e78867c",
   "metadata": {},
   "outputs": [],
   "source": [
    "with open(source_input, 'r') as ins:\n",
    "    source_data.extend(ins.readlines())"
   ]
  },
  {
   "cell_type": "code",
   "execution_count": 157,
   "id": "37f93379",
   "metadata": {},
   "outputs": [
    {
     "name": "stdout",
     "output_type": "stream",
     "text": [
      "Total number of sentences found in the given dataset = 153\n"
     ]
    }
   ],
   "source": [
    "print(f'Total number of sentences found in the given dataset = {len(source_data)}')"
   ]
  },
  {
   "cell_type": "code",
   "execution_count": 158,
   "id": "6e8f413f",
   "metadata": {},
   "outputs": [],
   "source": [
    "# Removing all the new line characters available form the data"
   ]
  },
  {
   "cell_type": "code",
   "execution_count": 159,
   "id": "93f5580c",
   "metadata": {},
   "outputs": [],
   "source": [
    "source_data = [data.replace('\\n', '') for data in source_data]"
   ]
  },
  {
   "cell_type": "code",
   "execution_count": 160,
   "id": "2af5b49f",
   "metadata": {},
   "outputs": [],
   "source": [
    "# Creating one "
   ]
  },
  {
   "cell_type": "code",
   "execution_count": 161,
   "id": "abffd5ca",
   "metadata": {},
   "outputs": [],
   "source": [
    "source_data = \". \".join(source_data)"
   ]
  },
  {
   "cell_type": "code",
   "execution_count": 162,
   "id": "9f6b8f70",
   "metadata": {},
   "outputs": [],
   "source": [
    "# Source data after performing above transformation"
   ]
  },
  {
   "cell_type": "code",
   "execution_count": 163,
   "id": "5e867af7",
   "metadata": {},
   "outputs": [
    {
     "data": {
      "text/plain": [
       "'\"a recent systematic analysis showed that in 2011 , 314 ( 296 - 331 ) million children younger than 5 years were mildly , moderately or severely stunted and 258 ( 240 - 274 ) million were mildly , moderately or severely underweight in the developing countries .. in iran a study among 752 high school girls in sistan and baluchestan showed prevalence of 16.2% , 8.6% and 1.5% , for underweight , overweight and obesity , respectively .. the prevalence of malnutrition among elementary school aged children in tehran varied from 6% to 16% .. anthropometric study of elementary school students in shiraz revealed that 16% of them suffer from malnutrition and low body weight .. snack should have 300 - 400 kcal energy and could provide 5 - 10 g of protein / day . nowadays , school nutrition programs are running as the national programs , world - wide . national school lunch program in the united states. there are also some reports regarding school feeding programs in developing countries . in vietnam ,. school base program showed an improvement in nutrient intakes . in iran a national free food program ( nffp ). is implemented in elementary schools of deprived areas to cover all poor students . however , this program is not conducted in slums and poor areas of the big cities so many malnourished children with low socio - economic situation are not covered by nffp . although the rate of poverty in areas known as deprived is higher than other areas , many students in deprived areas are not actually poor and can afford food .. hence , nutritional value of the nffp is lower than the scientific recommended snacks for this age group .. furthermore , lack of variety of food packages has decreased the tendency of children toward nffp . on the other hand ,. the most important one is ministry of education ( moe ) of iran , which is responsible for selecting and providing the packages for targeted schools .. the ministry of health ( moh ) is supervising the health situation of students and their health needs .. welfare organizations , along with charities , have the indirect effect on nutritional status of students by financial support of their family .. provincial governors have also the role of coordinating and supervising all activities of these organizations .. parent - teacher association is a community - based institution that participates in school \\'s policy such as nffp .. in addition to these organizations , nutritional literacy of students , their parents and teachers , is a very important issue , which could affect nutritional status of school age children .. therefore , the present study was conducted with the aim of improving the nffp , so that by its resources all poor children will be covered even in big cities .. moreover , all food packages were replaced by nutritious and diverse packages that were accessible for non - poor children . according to the aim of this study and multiple factors that could affect the problem ,. public health advocacy has been chosen as the best strategy to deal with this issue .. therefore , the present study determines the effects of nutrition intervention in an advocacy process model on the prevalence of underweight in school aged children in the poor area of shiraz , iran .. this interventional study has been carried out between 2009 and 2010 in shiraz , iran .. this survey was approved by the research committee of shiraz university of medical sciences . in coordination with education organization of fars province. two elementary schools and one middle school in the third region of the urban area of shiraz were selected randomly . in those schools all. students ( 2897 , 7 - 13 years old ) were screened based on their body mass index ( bmi ) by nutritionists . according to convenience method all. students divided to two groups based on their economic situation ; family revenue and head of household \\'s job and nutrition situation ; the first group were poor and malnourished students and the other group were well nourished or well - off students .. for this report , the children \\'s height and weight were entered into center for disease control and prevention ( cdc ) to calculate bmi and bmi - for - age z - scores based on cdc for diseases control and prevention and growth standards .. the significance of the difference between proportions was calculated using two - tailed z - tests for independent proportions . for implementing the interventions ,. the advocacy process model weight was to the nearest 0.1 kg on a balance scale ( model # seca scale ) .. standing height was measured to the nearest 0.1 cm with a wall - mounted stadiometer .. advocacy group formation : this step was started with stakeholder analysis and identifying the stakeholders .. the team was formed with representatives of all stakeholders include ; education organization , welfare organization , deputy for health of shiraz university , food and cosmetic product supervisory office and several non - governmental organizations and charities . situation analysis : this was carried out by use of existing data such as formal report of organizations , literature review and focus group with experts .. the prevalence of malnutrition and its related factors among students was determined and weaknesses and strengths of the nffp were analyzed .. accordingly , three sub - groups were established : research and evaluation , education and justification and executive group . designing the strategies :. three strategies were identified ; education and justification campaign , nutritional intervention ( providing nutritious , safe and diverse snacks ) and networking . performing the interventions : interventions that were implementing in selected schools were providing a diverse and nutritious snack package along with nutrition education for both groups while the first group ( poor and malnourished students ) was utilized the package free of charge .. education and justification intervention : regarding the literature review and expert opinion , an educational group affiliated with the advocacy team has prepared educational booklets about nutritional information for each level ( degree ) .. accordingly , education of these booklets has been integrated into regular education of students and they educated and justified for better nutrition life - style .. it leads the educational group to hold several meeting with the student \\'s parents to justify them about the project and its benefit for their children .. after these meetings , parental desire for participation in the project illustrated the effectiveness of the justification meeting with them .. for educate fifteen talk show programs in tv and radio , 12 published papers in the local newspaper , have implemented to mobilize the community and gain their support .. healthy diet , the importance of breakfast and snack in adolescence , wrong food habits among school age children , role of the family to improve food habit of children were the main topics , in which media campaign has focused on .. nutritional intervention : the snack basket of the students was replaced with traditional , nutritious and diverse foods . in general , the new snack package in average has provided 380 kcal energy , 15 g protein along with sufficient calcium and iron .. low economic and malnourished children were supported by executive group affiliated with advocacy team and the rest of them prepare their snack by themselves .. research and evaluation : in this step , the literacy and anthropometric indices ( bmi ) of students were assessed before and after the interventions .. the reference for anthropometric measures was the world health organization / national center for health statistics ( who / nchs ) standards and the cut - offs were - two standard deviations ( sd ) from the mean .. each student that was malnourished and poor has been taken into account for free food and nutritious snacks .. demographic information , height , weight and knowledge of the students were measured by use of a validated and reliable ( cronbach \\'s alpha was 0.61 ) questionnaire .. this project is granted by shiraz university of medical sciences , charities and welfare organization and education organization of fars province .. statistical analyses were performed using the statistical package for the social sciences ( spss ) software , version 17.0 ( spss inc . ,. the results are expressed as mean  sd and proportions as appropriated . in order to determine the effective variables on the malnutrition status. paired t test was used to compare the end values with baseline ones in each group .. in this project , the who z - score cut - offs used were as follow : using bmi - for - age z - scores ; overweight : > + 1 sd , i.e. , z - score > 1 ( equivalent to bmi 25 kg / m ) , obesity : > + 2 sd ( equivalent to bmi 30 kg / m ) , thinness : < 2 sd and severe thinness : < 3 sd .. this interventional study has been carried out between 2009 and 2010 in shiraz , iran .. this survey was approved by the research committee of shiraz university of medical sciences . in coordination with education organization of fars province. two elementary schools and one middle school in the third region of the urban area of shiraz were selected randomly . in those schools all. students ( 2897 , 7 - 13 years old ) were screened based on their body mass index ( bmi ) by nutritionists . according to convenience method all. students divided to two groups based on their economic situation ; family revenue and head of household \\'s job and nutrition situation ; the first group were poor and malnourished students and the other group were well nourished or well - off students .. for this report , the children \\'s height and weight were entered into center for disease control and prevention ( cdc ) to calculate bmi and bmi - for - age z - scores based on cdc for diseases control and prevention and growth standards .. the significance of the difference between proportions was calculated using two - tailed z - tests for independent proportions . for implementing the interventions ,. weight was to the nearest 0.1 kg on a balance scale ( model # seca scale ) .. standing height was measured to the nearest 0.1 cm with a wall - mounted stadiometer .. advocacy group formation : this step was started with stakeholder analysis and identifying the stakeholders .. the team was formed with representatives of all stakeholders include ; education organization , welfare organization , deputy for health of shiraz university , food and cosmetic product supervisory office and several non - governmental organizations and charities . situation analysis : this was carried out by use of existing data such as formal report of organizations , literature review and focus group with experts .. the prevalence of malnutrition and its related factors among students was determined and weaknesses and strengths of the nffp were analyzed .. accordingly , three sub - groups were established : research and evaluation , education and justification and executive group . designing the strategies :. three strategies were identified ; education and justification campaign , nutritional intervention ( providing nutritious , safe and diverse snacks ) and networking . performing the interventions : interventions that were implementing in selected schools were providing a diverse and nutritious snack package along with nutrition education for both groups while the first group ( poor and malnourished students ) was utilized the package free of charge . duration of intervention was 6 months .. education and justification intervention : regarding the literature review and expert opinion , an educational group affiliated with the advocacy team has prepared educational booklets about nutritional information for each level ( degree ) .. accordingly , education of these booklets has been integrated into regular education of students and they educated and justified for better nutrition life - style . obviously , student \\'s families had remarkable effect on children \\'s food habit .. it leads the educational group to hold several meeting with the student \\'s parents to justify them about the project and its benefit for their children .. after these meetings , parental desire for participation in the project illustrated the effectiveness of the justification meeting with them .. educate fifteen talk show programs in tv and radio , 12 published papers in the local newspaper , have implemented to mobilize the community and gain their support .. healthy diet , the importance of breakfast and snack in adolescence , wrong food habits among school age children , role of the family to improve food habit of children were the main topics , in which media campaign has focused on .. nutritional intervention : the snack basket of the students was replaced with traditional , nutritious and diverse foods . in general , the new snack package in average has provided 380 kcal energy , 15 g protein along with sufficient calcium and iron .. low economic and malnourished children were supported by executive group affiliated with advocacy team and the rest of them prepare their snack by themselves .. research and evaluation : in this step , the literacy and anthropometric indices ( bmi ) of students were assessed before and after the interventions .. the reference for anthropometric measures was the world health organization / national center for health statistics ( who / nchs ) standards and the cut - offs were - two standard deviations ( sd ) from the mean .. each student that was malnourished and poor has been taken into account for free food and nutritious snacks .. demographic information , height , weight and knowledge of the students were measured by use of a validated and reliable ( cronbach \\'s alpha was 0.61 ) questionnaire .. this project is granted by shiraz university of medical sciences , charities and welfare organization and education organization of fars province .. advocacy group formation : this step was started with stakeholder analysis and identifying the stakeholders .. the team was formed with representatives of all stakeholders include ; education organization , welfare organization , deputy for health of shiraz university , food and cosmetic product supervisory office and several non - governmental organizations and charities .. situation analysis : this was carried out by use of existing data such as formal report of organizations , literature review and focus group with experts .. the prevalence of malnutrition and its related factors among students was determined and weaknesses and strengths of the nffp were analyzed .. accordingly , three sub - groups were established : research and evaluation , education and justification and executive group .. designing the strategies : three strategies were identified ; education and justification campaign , nutritional intervention ( providing nutritious , safe and diverse snacks ) and networking .. performing the interventions : interventions that were implementing in selected schools were providing a diverse and nutritious snack package along with nutrition education for both groups while the first group ( poor and malnourished students ) was utilized the package free of charge .. education and justification intervention : regarding the literature review and expert opinion , an educational group affiliated with the advocacy team has prepared educational booklets about nutritional information for each level ( degree ) .. accordingly , education of these booklets has been integrated into regular education of students and they educated and justified for better nutrition life - style . obviously , student \\'s families had remarkable effect on children \\'s food habit .. it leads the educational group to hold several meeting with the student \\'s parents to justify them about the project and its benefit for their children .. after these meetings , parental desire for participation in the project illustrated the effectiveness of the justification meeting with them .. educate fifteen talk show programs in tv and radio , 12 published papers in the local newspaper , have implemented to mobilize the community and gain their support .. healthy diet , the importance of breakfast and snack in adolescence , wrong food habits among school age children , role of the family to improve food habit of children were the main topics , in which media campaign has focused on . nutritional intervention : the snack basket of the students. was replaced with traditional , nutritious and diverse foods . in general , the new snack package in average has provided 380 kcal energy , 15 g protein along with sufficient calcium and iron .. low economic and malnourished children were supported by executive group affiliated with advocacy team and the rest of them prepare their snack by themselves .. research and evaluation : in this step , the literacy and anthropometric indices ( bmi ) of students were assessed before and after the interventions .. the reference for anthropometric measures was the world health organization / national center for health statistics ( who / nchs ) standards and the cut - offs were - two standard deviations ( sd ) from the mean .. each student that was malnourished and poor has been taken into account for free food and nutritious snacks .. demographic information , height , weight and knowledge of the students were measured by use of a validated and reliable ( cronbach \\'s alpha was 0.61 ) questionnaire .. this project is granted by shiraz university of medical sciences , charities and welfare organization and education organization of fars province .. statistical analyses were performed using the statistical package for the social sciences ( spss ) software , version 17.0 ( spss inc . , chicago , il , usa ) .. the results are expressed as mean  sd and proportions as appropriated . in order to determine the effective variables on the malnutrition status. paired t test was used to compare the end values with baseline ones in each group .. two - sided p < 0.05 was considered to be statistically significant . in this project ,. the who z - score cut - offs used were as follow : using bmi - for - age z - scores ; overweight : > + 1 sd , i.e. , z - score > 1 ( equivalent to bmi 25 kg / m ) , obesity : > + 2 sd ( equivalent to bmi 30. kg / m ) , thinness : < 2 sd and severe thinness : < 3 sd .. study population contains 2897 children ; 70.8% were primary school students and 29.2% were secondary school students .. 2336 ( 80.5% ) out of total students were well - off and 561 children ( 19.5% ) were indigent .. 19.5% of subjects were in case group ( n = 561 ) and 80.5% were in the control group ( n = 2336 ) .. the mean of age in welfare group was 10.0  2.3 and 10.5  2.5 in non - welfare group .. demographic characteristics of school aged children in shiraz , iran table 2 shows the frequency of subjects in different categories of bmi for age in non - welfare and welfare groups of school aged children separately among boys and girls before and after a nutrition intervention based on advocacy process model in shiraz , iran .. the frequency of subjects with bmi lower than < 2 sd decreased significantly after intervention among non - welfare girls ( p < 0.01 ) .. however , there were no significant decreases in the frequency of subjects with bmi lower than < 2 sd boys .. when we assess the effect of intervention in total population without separating by sex groups , we found no significant change in this population [ table 3 ] .. bmi for age for iranian students aged 7 - 14 years based on gender according to who growth standards 2007 bmi for age for iranian students aged 7 - 14 years according to who growth standards 2007 in non - welfare and welfare groups of total population table 4 has shown the prevalence of normal bmi , mild , moderate and severe malnutrition in non - welfare and welfare groups of school aged children separately among boys and girls before and after a nutrition intervention based on advocacy process model . according to this table. there were no significant differences in the prevalence of mild , moderate and severe malnutrition among girls and boys .. table 4 also shows the mean of all anthropometric indices changed significantly after intervention both among girls and boys .. the pre- and post - test education assessment in both groups showed that the student \\'s average knowledge score has been significantly increased from 12.5  3.2 to 16.8  4.3 ( p < 0.0001 ) .. bmi , height and weight in non - welfare and welfare groups of school aged children separately in males and females before and after a nutrition intervention based on advocacy process model in shiraz , iran according to study \\'s finding the odds ratio ( or ) of sever thinness and thinness in non - welfare compared with welfare is 3.5 ( or = 3.5 , confidence interval [ ci ] = 2.5 - 3.9 , p < 0.001 ) .. furthermore , the finding showed or of overweight and obesity in welfare compared to non - welfare is 19.3 ( or = 19.3 , ci = 2.5 - 3.9 , p = 0.04 ) .. the result of this community intervention study revealed that nutrition intervention based on advocacy program had been successful to reduce the prevalence of underweight among poor girls .. this study shows determinant factor of nutritional status of school age children was their socio - economic level . according to our knowledge ,. this is the first study , which determines the effect of a community intervention based on advocacy process on the malnutrition indices in a big city ( shiraz ) in iran .. the other program in iran ( nffp ) is specified to deprived area and is not conducted in big cities .. allocating millions of dollars to nffp by government , selecting the malnourished students through an active screening system at primary and middle schools , paying attention of policy makers to student \\'s nutrition have provided the opportunity to combat the problem . however , negligence of under - poverty line , providing poor snacks in terms of nutritional value and lack of variety are the main defects of this program .. advocacy by definition is a blending of science , ethics and politics for comprehensive approaching health issues . by using advocacy program in california among the high school students for improving their nutrition and physical activity. angeles unified school district participants emphasized on nutrition classes for families as well as students in addition to other interventions . in the present study. another study revealed that evaluability assessment gave stakeholders the opportunity to reflect on the project and its implementation issues .. it seems that in iran , free food program among the students not only is needed in deprived areas , but also it should be performed in big cities such as shiraz . at baseline ,. no significant difference was founded among wealthy students between the pre- and post - nutritional status intervention .. in contrast , the numbers of students who have malnutrition decreased from 44% to 39.4% , which was identified as a significant among impecunious girls students .. there was also a significant increase in the proportion of children with bmi that was normal for age ( 2 to + 1 sd ) most of the published community interventions showed better results among females compared with males .. this difference in the impact of nutritional interventions between male and female might be related to the different age of puberty in the female population compared to the male population . in the age range of the present study female. although , there is no nffp in big cities of iran , there are some programs for improving the nutritional status such as providing free milk in schools .. a recent publication has shown that school feeding programs focus on milk supplementation had beneficial effects on the physical function and school performances specifically among girls in iran .. the results of the mentioned study showed an improvement in the weight of children , psychological test \\'s scores and the grade - point average following this school feeding program .. the intervention in the present study had focused on the snack intake in the school time .. there are some reports regarding the nutrition transition in iran , which shows the importance of nutrition intervention to provide more healthy eating dietary habits among welfare groups of adolescents .. hence , nutrition intervention especially in the form of nutrition education is needed in big cities and among welfare children and adolescents . although a study among iranian adolescents showed that dietary behavior of adolescents does not accord to their knowledge , which emphasize on the necessity of community intervention programs . a recent study regarding the major dietary pattern among iranian children showed the presence of four major dietary patterns , in which fast food pattern and sweet pattern as two major dietary patterns can be mentioned among iranian children . in advocacy program audience \\'s analysis. accordingly , one of the prominent strategies in this study was working with media and was meeting with parent - teacher association that both of them were secondary target audiences. . we also took into account policy makers in different levels , from national to local as primary audiences .. advocacy team had several meetings with management and planning organization at national level and education organization of the fars province as well as principal of the targeted schools .. providing nutritious snacks need contribution of private sector such as food industries or factories , but their benefits should be warranted .. another choice was community involvement ; which can be achieved by female health volunteers who are working with the health system .. advocacy team by using the support of charities and female health volunteers could establish a local factory that produced student \\'s snacks based on the new definition . however , there are some challenges on the way of expanding this program .. mass production of the proposed snacks according to different desires and cultures and getting involvement of food industries with respect to marketing issues is one of those challenges .. moreover , providing a supportive environment in order to change the food habits of the students and their parents among the wide range of the population require a sustainable and continuous inter - sector collaboration .. although in a limited number of schools , in our study , interventions and advocacy program was successful , expanding this model to another areas around the country depends on convincing the policy makers at national level . in this. regard , advocacy team should prepare evidenced based profile and transitional planning to convince the policy makers for improving the rule and regulation of nffp .. the same as this study in other studies have also emphasized that there must be efforts to strengthen the capacity within the schools to deal with the nutritional problems either overweight , obesity or malnutrition by using of educational and nutritional intervention .. assessing the dietary adherence is very important in nutrition intervention among population . as this population was children and adolescents we had a limitation in the blood sample collection to assess the subject \\'s dietary adherence .. furthermore , this intervention was only focused on the intake of snack in school time and we did not have comprehensive information on the dietary intake of children and adolescents after school all over the day .. the investigators propose further investigation in different areas of the country based on socio - cultural differences in order to make necessary modification and adapt this model to other areas .. regarding the nutritional needs of the school age children , provision of a good platform for implementing and expanding this efficient model to the whole country based upon the socio - economic situation of each region is advisable to the moh and the moe .. community nutrition intervention based on the advocacy process model is effective on reducing the prevalence of underweight specifically among female school aged children .\"'"
      ]
     },
     "execution_count": 163,
     "metadata": {},
     "output_type": "execute_result"
    }
   ],
   "source": [
    "source_data"
   ]
  },
  {
   "cell_type": "code",
   "execution_count": 164,
   "id": "d4c023fd",
   "metadata": {},
   "outputs": [
    {
     "name": "stdout",
     "output_type": "stream",
     "text": [
      "Total number of sentences avaialable in the above source dataset = 368\n"
     ]
    }
   ],
   "source": [
    "print(f'Total number of sentences avaialable in the above source dataset = {len(source_data.split(\".\"))}')"
   ]
  },
  {
   "cell_type": "code",
   "execution_count": 165,
   "id": "1e42a4a7",
   "metadata": {},
   "outputs": [
    {
     "name": "stdout",
     "output_type": "stream",
     "text": [
      "Total number of words available in the above source dataset = 4817\n"
     ]
    }
   ],
   "source": [
    "print(f'Total number of words available in the above source dataset = {len(source_data.split(\" \"))}')"
   ]
  },
  {
   "cell_type": "markdown",
   "id": "0451013e",
   "metadata": {},
   "source": [
    "##### Tokenizing the given document using nltk tokenizier"
   ]
  },
  {
   "cell_type": "code",
   "execution_count": 166,
   "id": "23a29d5c",
   "metadata": {},
   "outputs": [],
   "source": [
    "# Sentences conversion from the given dataset"
   ]
  },
  {
   "cell_type": "code",
   "execution_count": 167,
   "id": "dec06a02",
   "metadata": {},
   "outputs": [],
   "source": [
    "input_sentences = nltk.sent_tokenize(source_data)"
   ]
  },
  {
   "cell_type": "code",
   "execution_count": 168,
   "id": "6524b3ca",
   "metadata": {},
   "outputs": [],
   "source": [
    "# Removing all the empty sentences "
   ]
  },
  {
   "cell_type": "code",
   "execution_count": 169,
   "id": "15203afc",
   "metadata": {},
   "outputs": [],
   "source": [
    "input_sentences = list(filter(lambda sentence: len(sentence) > 0, input_sentences))"
   ]
  },
  {
   "cell_type": "code",
   "execution_count": 170,
   "id": "12c75a09",
   "metadata": {},
   "outputs": [
    {
     "name": "stdout",
     "output_type": "stream",
     "text": [
      "Total number of sentences after removed un-necessary sentences = 80\n"
     ]
    }
   ],
   "source": [
    "print(f'Total number of sentences after removed un-necessary sentences = {len(input_sentences)}')"
   ]
  },
  {
   "cell_type": "code",
   "execution_count": 171,
   "id": "17aaf114",
   "metadata": {},
   "outputs": [],
   "source": [
    "# Tokenizing into words"
   ]
  },
  {
   "cell_type": "code",
   "execution_count": 172,
   "id": "c4256c31",
   "metadata": {},
   "outputs": [],
   "source": [
    "# Using nltk tokenizer"
   ]
  },
  {
   "cell_type": "code",
   "execution_count": 173,
   "id": "0fcaca09",
   "metadata": {},
   "outputs": [],
   "source": [
    "tokenized_sentences = list(map(lambda sentence: str(nltk.word_tokenize(sentence)), input_sentences))"
   ]
  },
  {
   "cell_type": "code",
   "execution_count": 174,
   "id": "d57156c7",
   "metadata": {},
   "outputs": [
    {
     "data": {
      "text/plain": [
       "list"
      ]
     },
     "execution_count": 174,
     "metadata": {},
     "output_type": "execute_result"
    }
   ],
   "source": [
    "type(tokenized_sentences)"
   ]
  },
  {
   "cell_type": "code",
   "execution_count": 175,
   "id": "58dbf963",
   "metadata": {},
   "outputs": [
    {
     "name": "stdout",
     "output_type": "stream",
     "text": [
      "Total number of words available after tokenizing the given source sentences = 80\n"
     ]
    }
   ],
   "source": [
    "print(f'Total number of words available after tokenizing the given source sentences = {len(tokenized_sentences)}')"
   ]
  },
  {
   "cell_type": "code",
   "execution_count": 176,
   "id": "4269ff7a",
   "metadata": {},
   "outputs": [
    {
     "data": {
      "text/plain": [
       "[\"['``', 'a', 'recent', 'systematic', 'analysis', 'showed', 'that', 'in', '2011', ',', '314', '(', '296', '-', '331', ')', 'million', 'children', 'younger', 'than', '5', 'years', 'were', 'mildly', ',', 'moderately', 'or', 'severely', 'stunted', 'and', '258', '(', '240', '-', '274', ')', 'million', 'were', 'mildly', ',', 'moderately', 'or', 'severely', 'underweight', 'in', 'the', 'developing', 'countries', '..', 'in', 'iran', 'a', 'study', 'among', '752', 'high', 'school', 'girls', 'in', 'sistan', 'and', 'baluchestan', 'showed', 'prevalence', 'of', '16.2', '%', ',', '8.6', '%', 'and', '1.5', '%', ',', 'for', 'underweight', ',', 'overweight', 'and', 'obesity', ',', 'respectively', '..', 'the', 'prevalence', 'of', 'malnutrition', 'among', 'elementary', 'school', 'aged', 'children', 'in', 'tehran', 'varied', 'from', '6', '%', 'to', '16', '%', '..', 'anthropometric', 'study', 'of', 'elementary', 'school', 'students', 'in', 'shiraz', 'revealed', 'that', '16', '%', 'of', 'them', 'suffer', 'from', 'malnutrition', 'and', 'low', 'body', 'weight', '..', 'snack', 'should', 'have', '300', '-', '400', 'kcal', 'energy', 'and', 'could', 'provide', '5', '-', '10', 'g', 'of', 'protein', '/', 'day', '.']\",\n",
       " \"['nowadays', ',', 'school', 'nutrition', 'programs', 'are', 'running', 'as', 'the', 'national', 'programs', ',', 'world', '-', 'wide', '.']\",\n",
       " \"['national', 'school', 'lunch', 'program', 'in', 'the', 'united', 'states', '.']\",\n",
       " \"['there', 'are', 'also', 'some', 'reports', 'regarding', 'school', 'feeding', 'programs', 'in', 'developing', 'countries', '.']\",\n",
       " \"['in', 'vietnam', ',', '.']\"]"
      ]
     },
     "execution_count": 176,
     "metadata": {},
     "output_type": "execute_result"
    }
   ],
   "source": [
    "tokenized_sentences[:5]"
   ]
  },
  {
   "cell_type": "code",
   "execution_count": 177,
   "id": "6a6bc868",
   "metadata": {},
   "outputs": [],
   "source": [
    "# Some sanity check"
   ]
  },
  {
   "cell_type": "code",
   "execution_count": 178,
   "id": "cb0283ee",
   "metadata": {},
   "outputs": [
    {
     "data": {
      "text/plain": [
       "'C:\\\\Users\\\\sav76\\\\Downloads\\\\Capstone Project\\\\biobert_summ\\\\data\\\\input\\\\health2.txt'"
      ]
     },
     "execution_count": 178,
     "metadata": {},
     "output_type": "execute_result"
    }
   ],
   "source": [
    "source_input"
   ]
  },
  {
   "cell_type": "code",
   "execution_count": 179,
   "id": "163a5ac0",
   "metadata": {},
   "outputs": [],
   "source": [
    "input_filename = source_input.split('\\\\')[-1]"
   ]
  },
  {
   "cell_type": "code",
   "execution_count": 180,
   "id": "0492a881",
   "metadata": {},
   "outputs": [
    {
     "data": {
      "text/plain": [
       "'health2.txt'"
      ]
     },
     "execution_count": 180,
     "metadata": {},
     "output_type": "execute_result"
    }
   ],
   "source": [
    "input_filename"
   ]
  },
  {
   "cell_type": "code",
   "execution_count": 181,
   "id": "fed33199",
   "metadata": {},
   "outputs": [],
   "source": [
    "input_filename = input_filename.split('.')[0]"
   ]
  },
  {
   "cell_type": "code",
   "execution_count": 182,
   "id": "c1eb14f1",
   "metadata": {},
   "outputs": [
    {
     "data": {
      "text/plain": [
       "'health2'"
      ]
     },
     "execution_count": 182,
     "metadata": {},
     "output_type": "execute_result"
    }
   ],
   "source": [
    "input_filename"
   ]
  },
  {
   "cell_type": "code",
   "execution_count": 183,
   "id": "f83c58c2",
   "metadata": {},
   "outputs": [],
   "source": [
    "STAGE_DIR = f\"STAGE_DIR/stage_{input_filename}.txt\""
   ]
  },
  {
   "cell_type": "code",
   "execution_count": 184,
   "id": "0f297729",
   "metadata": {},
   "outputs": [
    {
     "data": {
      "text/plain": [
       "'STAGE_DIR/stage_health2.txt'"
      ]
     },
     "execution_count": 184,
     "metadata": {},
     "output_type": "execute_result"
    }
   ],
   "source": [
    "STAGE_DIR"
   ]
  },
  {
   "cell_type": "code",
   "execution_count": 185,
   "id": "70ae6af0",
   "metadata": {},
   "outputs": [],
   "source": [
    "TOKEN_DIR = f\"STAGE_DIR/tokens_{input_filename}.txt\""
   ]
  },
  {
   "cell_type": "code",
   "execution_count": 186,
   "id": "0a9392b7",
   "metadata": {},
   "outputs": [
    {
     "data": {
      "text/plain": [
       "'STAGE_DIR/tokens_health2.txt'"
      ]
     },
     "execution_count": 186,
     "metadata": {},
     "output_type": "execute_result"
    }
   ],
   "source": [
    "TOKEN_DIR"
   ]
  },
  {
   "cell_type": "code",
   "execution_count": 187,
   "id": "cd1895d1",
   "metadata": {},
   "outputs": [],
   "source": [
    "stage_file = open(STAGE_DIR, 'w')"
   ]
  },
  {
   "cell_type": "code",
   "execution_count": 188,
   "id": "9fbb68d9",
   "metadata": {},
   "outputs": [],
   "source": [
    "token_file = open(TOKEN_DIR, 'w')"
   ]
  },
  {
   "cell_type": "code",
   "execution_count": 189,
   "id": "8836190e",
   "metadata": {},
   "outputs": [
    {
     "data": {
      "text/plain": [
       "28310"
      ]
     },
     "execution_count": 189,
     "metadata": {},
     "output_type": "execute_result"
    }
   ],
   "source": [
    "stage_file.write('\\n'.join(input_sentences))"
   ]
  },
  {
   "cell_type": "code",
   "execution_count": 190,
   "id": "b872918e",
   "metadata": {},
   "outputs": [
    {
     "data": {
      "text/plain": [
       "43007"
      ]
     },
     "execution_count": 190,
     "metadata": {},
     "output_type": "execute_result"
    }
   ],
   "source": [
    "token_file.write('\\n'.join(tokenized_sentences))"
   ]
  },
  {
   "cell_type": "code",
   "execution_count": 191,
   "id": "e4a55437",
   "metadata": {},
   "outputs": [],
   "source": [
    "stage_file.close() # Closing the opened resources"
   ]
  },
  {
   "cell_type": "code",
   "execution_count": 192,
   "id": "a27dde37",
   "metadata": {},
   "outputs": [],
   "source": [
    "token_file.close() # Closing the opened resources"
   ]
  },
  {
   "cell_type": "markdown",
   "id": "130568f8",
   "metadata": {},
   "source": [
    "##### Extracting the features from above intermedidate data"
   ]
  },
  {
   "cell_type": "code",
   "execution_count": 193,
   "id": "e29040a7",
   "metadata": {},
   "outputs": [],
   "source": [
    "# Running the BERT script to generate or extract the given features"
   ]
  },
  {
   "cell_type": "code",
   "execution_count": 194,
   "id": "7dcc9289",
   "metadata": {},
   "outputs": [],
   "source": [
    "import subprocess # need subprocess script to run the below script"
   ]
  },
  {
   "cell_type": "code",
   "execution_count": 195,
   "id": "754e52d9",
   "metadata": {},
   "outputs": [],
   "source": [
    "FEATURES_OUT_DIR = f'STAGE_DIR/features_{input_filename}.jsonl'"
   ]
  },
  {
   "cell_type": "code",
   "execution_count": 196,
   "id": "1fe152a4",
   "metadata": {},
   "outputs": [
    {
     "data": {
      "text/plain": [
       "'STAGE_DIR/features_health2.jsonl'"
      ]
     },
     "execution_count": 196,
     "metadata": {},
     "output_type": "execute_result"
    }
   ],
   "source": [
    "FEATURES_OUT_DIR"
   ]
  },
  {
   "cell_type": "code",
   "execution_count": 197,
   "id": "184f32ee",
   "metadata": {},
   "outputs": [],
   "source": [
    "# features_file = open(FEATURES_OUT_DIR, 'w')"
   ]
  },
  {
   "cell_type": "code",
   "execution_count": 198,
   "id": "7b9d6c45",
   "metadata": {},
   "outputs": [],
   "source": [
    "# features_file.close() # Closing the opened resources "
   ]
  },
  {
   "cell_type": "code",
   "execution_count": 199,
   "id": "614cf433",
   "metadata": {},
   "outputs": [],
   "source": [
    "# extraction_scrpit = f\"python BERT/extract_features.py --input_file=stage_health.txt --output_file=features_health.json --vocab_file=BERT/vocab.txt --bert_config_file=BERT/bert_config.json --init_checkpoint=BERT/model.ckpt-1000000 --layers=-1 --max_seq_length=128 --batch_size=8\" \n",
    "\n",
    "extraction_scrpit = f\"python BERT/extract_features.py \\\n",
    "    --input_file={STAGE_DIR} \\\n",
    "    --output_file={FEATURES_OUT_DIR} \\\n",
    "    --vocab_file=BERT/vocab.txt \\\n",
    "    --bert_config_file=BERT/bert_config.json \\\n",
    "    --init_checkpoint=BERT/model.ckpt-1000000 \\\n",
    "    --layers=-1 \\\n",
    "    --max_seq_length=128 \\\n",
    "    --batch_size=8\" "
   ]
  },
  {
   "cell_type": "code",
   "execution_count": 200,
   "id": "88f2f2d4",
   "metadata": {},
   "outputs": [
    {
     "data": {
      "text/plain": [
       "0"
      ]
     },
     "execution_count": 200,
     "metadata": {},
     "output_type": "execute_result"
    }
   ],
   "source": [
    "subprocess.call(extraction_scrpit, shell=True)"
   ]
  },
  {
   "cell_type": "markdown",
   "id": "5c314931",
   "metadata": {},
   "source": [
    "### Sentence Representation"
   ]
  },
  {
   "cell_type": "code",
   "execution_count": 201,
   "id": "b03ad9c5",
   "metadata": {},
   "outputs": [],
   "source": [
    "# doing sentence representation from the given dataset"
   ]
  },
  {
   "cell_type": "code",
   "execution_count": 202,
   "id": "beee9279",
   "metadata": {},
   "outputs": [
    {
     "data": {
      "text/plain": [
       "'STAGE_DIR/stage_health2.txt'"
      ]
     },
     "execution_count": 202,
     "metadata": {},
     "output_type": "execute_result"
    }
   ],
   "source": [
    "STAGE_DIR"
   ]
  },
  {
   "cell_type": "code",
   "execution_count": 203,
   "id": "79821be3",
   "metadata": {},
   "outputs": [
    {
     "data": {
      "text/plain": [
       "'STAGE_DIR/features_health2.jsonl'"
      ]
     },
     "execution_count": 203,
     "metadata": {},
     "output_type": "execute_result"
    }
   ],
   "source": [
    "FEATURES_OUT_DIR"
   ]
  },
  {
   "cell_type": "code",
   "execution_count": 204,
   "id": "933b8958",
   "metadata": {},
   "outputs": [],
   "source": [
    "input_file = open(STAGE_DIR)"
   ]
  },
  {
   "cell_type": "code",
   "execution_count": 205,
   "id": "592d4463",
   "metadata": {},
   "outputs": [],
   "source": [
    "features_file = open(FEATURES_OUT_DIR)"
   ]
  },
  {
   "cell_type": "code",
   "execution_count": 206,
   "id": "4716a185",
   "metadata": {},
   "outputs": [],
   "source": [
    "sentences = input_file.read()"
   ]
  },
  {
   "cell_type": "code",
   "execution_count": 207,
   "id": "f104c65f",
   "metadata": {},
   "outputs": [],
   "source": [
    "sentences = nltk.sent_tokenize(sentences)"
   ]
  },
  {
   "cell_type": "code",
   "execution_count": 208,
   "id": "0cd4c897",
   "metadata": {},
   "outputs": [],
   "source": [
    "# creating some custom classes to hold the information of our input, features etc.,"
   ]
  },
  {
   "cell_type": "code",
   "execution_count": 209,
   "id": "9a691ecc",
   "metadata": {},
   "outputs": [],
   "source": [
    "import math"
   ]
  },
  {
   "cell_type": "code",
   "execution_count": 210,
   "id": "b1b4f261",
   "metadata": {},
   "outputs": [],
   "source": [
    "class Feature:\n",
    "    \n",
    "    def __init__(self, word):\n",
    "        self.token = word\n",
    "        self.weight_list = []"
   ]
  },
  {
   "cell_type": "code",
   "execution_count": 211,
   "id": "e845383a",
   "metadata": {},
   "outputs": [
    {
     "data": {
      "text/plain": [
       "type"
      ]
     },
     "execution_count": 211,
     "metadata": {},
     "output_type": "execute_result"
    }
   ],
   "source": [
    "type(Feature)"
   ]
  },
  {
   "cell_type": "code",
   "execution_count": 212,
   "id": "02d1d9c6",
   "metadata": {},
   "outputs": [],
   "source": [
    "class Sentence:\n",
    "    \n",
    "    def __init__(self, number, text):\n",
    "        \n",
    "        self.sentence_number = number\n",
    "        self.sentence_text = text\n",
    "        self.average_distance = 0\n",
    "        self.feature_list = []\n",
    "        self.representation = []\n",
    "        self.cluster_index = 0\n",
    "        \n",
    "    def set_token_list(self, token_list):\n",
    "        self.feature_list = token_list\n",
    "        \n",
    "    def get_token_list(self):\n",
    "        return self.feature_list"
   ]
  },
  {
   "cell_type": "code",
   "execution_count": 213,
   "id": "852cbcfa",
   "metadata": {},
   "outputs": [
    {
     "data": {
      "text/plain": [
       "type"
      ]
     },
     "execution_count": 213,
     "metadata": {},
     "output_type": "execute_result"
    }
   ],
   "source": [
    "type(Sentence)"
   ]
  },
  {
   "cell_type": "code",
   "execution_count": 214,
   "id": "fa7bfca5",
   "metadata": {},
   "outputs": [],
   "source": [
    "class Cluster:\n",
    "    \n",
    "    def __init__(self, number):\n",
    "        \n",
    "        self.cluster_number = number\n",
    "        self.mean = []\n",
    "        self.members = []\n",
    "        self.summary_members = 0\n",
    "        \n",
    "    def add_member(self, sentence_index):\n",
    "        self.members.append(sentence_index)\n",
    "        \n",
    "    def remove_member(self, sentence_index):\n",
    "        self.members.append(sentence_index)"
   ]
  },
  {
   "cell_type": "code",
   "execution_count": 215,
   "id": "cb9d4c48",
   "metadata": {},
   "outputs": [
    {
     "data": {
      "text/plain": [
       "type"
      ]
     },
     "execution_count": 215,
     "metadata": {},
     "output_type": "execute_result"
    }
   ],
   "source": [
    "type(Cluster)"
   ]
  },
  {
   "cell_type": "code",
   "execution_count": 216,
   "id": "a4cb7873",
   "metadata": {},
   "outputs": [],
   "source": [
    "# creating sentence list by using the above classes"
   ]
  },
  {
   "cell_type": "code",
   "execution_count": 217,
   "id": "3fd0a72f",
   "metadata": {},
   "outputs": [],
   "source": [
    "sentence_list = list(map(lambda sentence: Sentence(sentence[0], sentence[1]), enumerate(sentences)))"
   ]
  },
  {
   "cell_type": "code",
   "execution_count": 218,
   "id": "f64bd5a3",
   "metadata": {},
   "outputs": [
    {
     "data": {
      "text/plain": [
       "[<__main__.Sentence at 0x273a9c6c518>,\n",
       " <__main__.Sentence at 0x273a9c6c550>,\n",
       " <__main__.Sentence at 0x273a9c6c6d8>,\n",
       " <__main__.Sentence at 0x273a9c6c588>,\n",
       " <__main__.Sentence at 0x273a9c6c4a8>]"
      ]
     },
     "execution_count": 218,
     "metadata": {},
     "output_type": "execute_result"
    }
   ],
   "source": [
    "sentence_list[:5]"
   ]
  },
  {
   "cell_type": "code",
   "execution_count": 219,
   "id": "560d42c2",
   "metadata": {},
   "outputs": [
    {
     "data": {
      "text/plain": [
       "80"
      ]
     },
     "execution_count": 219,
     "metadata": {},
     "output_type": "execute_result"
    }
   ],
   "source": [
    "len(sentence_list)"
   ]
  },
  {
   "cell_type": "code",
   "execution_count": 220,
   "id": "d31f4c3f",
   "metadata": {},
   "outputs": [],
   "source": [
    "import json_lines"
   ]
  },
  {
   "cell_type": "code",
   "execution_count": 221,
   "id": "60f08cba",
   "metadata": {},
   "outputs": [],
   "source": [
    "import re"
   ]
  },
  {
   "cell_type": "code",
   "execution_count": 222,
   "id": "08f31411",
   "metadata": {},
   "outputs": [],
   "source": [
    "sentence_number = 0"
   ]
  },
  {
   "cell_type": "code",
   "execution_count": 223,
   "id": "3e8980f0",
   "metadata": {},
   "outputs": [],
   "source": [
    "with open(FEATURES_OUT_DIR, 'r') as input_feature:\n",
    "    \n",
    "    for feature_line in json_lines.reader(input_feature):\n",
    "        \n",
    "        feature_set = feature_line['features']\n",
    "        \n",
    "        for feature in feature_set:\n",
    "            \n",
    "            if feature['token'] in ['[CLS]', '[SEP]']:\n",
    "                \n",
    "                continue;\n",
    "                \n",
    "            temp_features = Feature(feature['token'])\n",
    "            \n",
    "            for layer in feature['layers']:\n",
    "                \n",
    "                temp_features.weight_list.extend(layer['values'])\n",
    "                \n",
    "            sentence_list[sentence_number].feature_list.append(temp_features)\n",
    "            \n",
    "        sentence_number += 1"
   ]
  },
  {
   "cell_type": "code",
   "execution_count": 224,
   "id": "d603a24b",
   "metadata": {},
   "outputs": [
    {
     "data": {
      "text/plain": [
       "80"
      ]
     },
     "execution_count": 224,
     "metadata": {},
     "output_type": "execute_result"
    }
   ],
   "source": [
    "sentence_number"
   ]
  },
  {
   "cell_type": "code",
   "execution_count": 225,
   "id": "2587d43a",
   "metadata": {},
   "outputs": [],
   "source": [
    "# Computing the representation for every sentence\n",
    "\n",
    "for sentence in sentence_list:\n",
    "    \n",
    "    sentence.representation = [0.0] * len(sentence.feature_list[0].weight_list)\n",
    "    \n",
    "    for feature in sentence.feature_list:\n",
    "        \n",
    "        idx = 0\n",
    "        \n",
    "        for weight in feature.weight_list:\n",
    "            \n",
    "            sentence.representation[idx] += weight\n",
    "            \n",
    "            idx += 1\n",
    "            \n",
    "    sentence.representation = [representation / 2 for representation in sentence.representation]"
   ]
  },
  {
   "cell_type": "code",
   "execution_count": 226,
   "id": "b7bbe8b1",
   "metadata": {},
   "outputs": [
    {
     "data": {
      "text/plain": [
       "80"
      ]
     },
     "execution_count": 226,
     "metadata": {},
     "output_type": "execute_result"
    }
   ],
   "source": [
    "len(sentence_list)"
   ]
  },
  {
   "cell_type": "code",
   "execution_count": 227,
   "id": "d1189641",
   "metadata": {},
   "outputs": [],
   "source": [
    "# Sample Representation of the above sentence"
   ]
  },
  {
   "cell_type": "code",
   "execution_count": 228,
   "id": "ae5762ee",
   "metadata": {},
   "outputs": [
    {
     "data": {
      "text/plain": [
       "0"
      ]
     },
     "execution_count": 228,
     "metadata": {},
     "output_type": "execute_result"
    }
   ],
   "source": [
    "sentence_list[0].sentence_number"
   ]
  },
  {
   "cell_type": "code",
   "execution_count": 229,
   "id": "4c9868c1",
   "metadata": {},
   "outputs": [
    {
     "data": {
      "text/plain": [
       "'\"a recent systematic analysis showed that in 2011 , 314 ( 296 - 331 ) million children younger than 5 years were mildly , moderately or severely stunted and 258 ( 240 - 274 ) million were mildly , moderately or severely underweight in the developing countries .. in iran a study among 752 high school girls in sistan and baluchestan showed prevalence of 16.2% , 8.6% and 1.5% , for underweight , overweight and obesity , respectively .. the prevalence of malnutrition among elementary school aged children in tehran varied from 6% to 16% .. anthropometric study of elementary school students in shiraz revealed that 16% of them suffer from malnutrition and low body weight .. snack should have 300 - 400 kcal energy and could provide 5 - 10 g of protein / day .'"
      ]
     },
     "execution_count": 229,
     "metadata": {},
     "output_type": "execute_result"
    }
   ],
   "source": [
    "sentence_list[0].sentence_text"
   ]
  },
  {
   "cell_type": "code",
   "execution_count": 230,
   "id": "d252ef9e",
   "metadata": {},
   "outputs": [
    {
     "data": {
      "text/plain": [
       "0"
      ]
     },
     "execution_count": 230,
     "metadata": {},
     "output_type": "execute_result"
    }
   ],
   "source": [
    "sentence_list[0].average_distance"
   ]
  },
  {
   "cell_type": "code",
   "execution_count": 231,
   "id": "cba9e0aa",
   "metadata": {},
   "outputs": [
    {
     "data": {
      "text/plain": [
       "'showed'"
      ]
     },
     "execution_count": 231,
     "metadata": {},
     "output_type": "execute_result"
    }
   ],
   "source": [
    "sentence_list[0].feature_list[5].token"
   ]
  },
  {
   "cell_type": "code",
   "execution_count": 232,
   "id": "9585d5a1",
   "metadata": {
    "scrolled": false
   },
   "outputs": [],
   "source": [
    "# sentence_list[0].feature_list[0].weight_list"
   ]
  },
  {
   "cell_type": "code",
   "execution_count": 233,
   "id": "547803b3",
   "metadata": {
    "scrolled": false
   },
   "outputs": [],
   "source": [
    "# sentence_list[0].representation"
   ]
  },
  {
   "cell_type": "code",
   "execution_count": 234,
   "id": "738f3987",
   "metadata": {},
   "outputs": [
    {
     "data": {
      "text/plain": [
       "0"
      ]
     },
     "execution_count": 234,
     "metadata": {},
     "output_type": "execute_result"
    }
   ],
   "source": [
    "sentence_list[0].cluster_index"
   ]
  },
  {
   "cell_type": "code",
   "execution_count": 235,
   "id": "b98d2ae4",
   "metadata": {},
   "outputs": [],
   "source": [
    "def is_itemize(sentence):\n",
    "    \n",
    "    if len(sentence.feature_list) == 1 and re.match('.|-', sentence.feature_list[0].token):\n",
    "        \n",
    "        return True\n",
    "    \n",
    "    if len(sentence.feature_list) == 2 and re.match('\\d+|\\(\\d+\\)', sentence.feature_list[0].token) and re.match('.|-', sentence.feature_list[1].token):\n",
    "        \n",
    "        return True\n",
    "    \n",
    "    else:\n",
    "        \n",
    "        return False"
   ]
  },
  {
   "cell_type": "code",
   "execution_count": 236,
   "id": "cfc026c0",
   "metadata": {},
   "outputs": [],
   "source": [
    "sentence_list = list(filter(lambda x: is_itemize(x) == False, sentence_list))"
   ]
  },
  {
   "cell_type": "code",
   "execution_count": 237,
   "id": "85a2fbf5",
   "metadata": {},
   "outputs": [
    {
     "data": {
      "text/plain": [
       "79"
      ]
     },
     "execution_count": 237,
     "metadata": {},
     "output_type": "execute_result"
    }
   ],
   "source": [
    "len(sentence_list)"
   ]
  },
  {
   "cell_type": "code",
   "execution_count": 238,
   "id": "8f3782c1",
   "metadata": {},
   "outputs": [],
   "source": [
    "representations = list(map(lambda sentence: sentence.representation, sentence_list))"
   ]
  },
  {
   "cell_type": "code",
   "execution_count": 239,
   "id": "8584c2db",
   "metadata": {},
   "outputs": [
    {
     "data": {
      "text/plain": [
       "79"
      ]
     },
     "execution_count": 239,
     "metadata": {},
     "output_type": "execute_result"
    }
   ],
   "source": [
    "len(representations)"
   ]
  },
  {
   "cell_type": "code",
   "execution_count": 240,
   "id": "03906bd3",
   "metadata": {},
   "outputs": [],
   "source": [
    "# applying the clustering technique"
   ]
  },
  {
   "cell_type": "code",
   "execution_count": 241,
   "id": "1ad26c1f",
   "metadata": {},
   "outputs": [],
   "source": [
    "# for the given representation"
   ]
  },
  {
   "cell_type": "code",
   "execution_count": 242,
   "id": "14ae64fb",
   "metadata": {},
   "outputs": [],
   "source": [
    "from sklearn.cluster import KMeans"
   ]
  },
  {
   "cell_type": "code",
   "execution_count": 243,
   "id": "a2c6bf42",
   "metadata": {},
   "outputs": [],
   "source": [
    "from kneed import KneeLocator"
   ]
  },
  {
   "cell_type": "code",
   "execution_count": 244,
   "id": "fc47bf21",
   "metadata": {},
   "outputs": [],
   "source": [
    "import matplotlib.pyplot as plt"
   ]
  },
  {
   "cell_type": "code",
   "execution_count": 245,
   "id": "792249ba",
   "metadata": {},
   "outputs": [],
   "source": [
    "%matplotlib inline"
   ]
  },
  {
   "cell_type": "code",
   "execution_count": 246,
   "id": "f71ccb30",
   "metadata": {},
   "outputs": [],
   "source": [
    "from scipy.spatial import distance"
   ]
  },
  {
   "cell_type": "code",
   "execution_count": 247,
   "id": "1586ffcb",
   "metadata": {},
   "outputs": [],
   "source": [
    "# Performing elbow test on the given dataset"
   ]
  },
  {
   "cell_type": "code",
   "execution_count": 248,
   "id": "f26ece6a",
   "metadata": {},
   "outputs": [],
   "source": [
    "def elbow_test(data, n_initial:int = 10, max_clusters: int = 30, max_iter:int = 300) -> int:\n",
    "    \n",
    "    distortions = []\n",
    "    \n",
    "    for cluster in range(1, max_clusters):\n",
    "        \n",
    "        kmeans = KMeans(n_clusters=cluster,\n",
    "                       init='random',\n",
    "                       n_init=n_initial,\n",
    "                       max_iter=max_iter,\n",
    "                       tol=1e-04,\n",
    "                       random_state=42)\n",
    "        \n",
    "        kmeans.fit(X=data, y=None)\n",
    "        \n",
    "        distortions.append(kmeans.inertia_)\n",
    "        \n",
    "    plt.plot(range(1, max_clusters), distortions, marker='o')\n",
    "    \n",
    "    plt.xlabel('Number of Clusters')\n",
    "    \n",
    "    plt.ylabel('Distortion')\n",
    "    \n",
    "    plt.savefig('kmeans-clustering.png')\n",
    "    \n",
    "    locator = KneeLocator(range(1, max_clusters), \n",
    "                          distortions, \n",
    "                          curve='convex', \n",
    "                          direction='decreasing', \n",
    "                          interp_method='interp1d')\n",
    "    \n",
    "    return locator.knee\n",
    "\n",
    "    predictions = data[data.columns[1:]]\n",
    "    \n",
    "    n_clusters = elbow_test(predictions, 10, 20, 300)\n",
    "    \n",
    "    print(f'Number of Clusters: {n_clusters}')\n",
    "    \n",
    "    return n_clusters"
   ]
  },
  {
   "cell_type": "code",
   "execution_count": 249,
   "id": "316c302d",
   "metadata": {},
   "outputs": [
    {
     "data": {
      "image/png": "[encoded data removed]",
      "text/plain": [
       "<Figure size 432x288 with 1 Axes>"
      ]
     },
     "metadata": {
      "needs_background": "light"
     },
     "output_type": "display_data"
    }
   ],
   "source": [
    "n_clusters = elbow_test(representations, n_initial=10, max_clusters=20, max_iter=10000)"
   ]
  },
  {
   "cell_type": "code",
   "execution_count": 250,
   "id": "39deefd3",
   "metadata": {},
   "outputs": [
    {
     "data": {
      "text/plain": [
       "numpy.int32"
      ]
     },
     "execution_count": 250,
     "metadata": {},
     "output_type": "execute_result"
    }
   ],
   "source": [
    "type(n_clusters)"
   ]
  },
  {
   "cell_type": "code",
   "execution_count": 251,
   "id": "53074a6f",
   "metadata": {},
   "outputs": [
    {
     "data": {
      "text/plain": [
       "3"
      ]
     },
     "execution_count": 251,
     "metadata": {},
     "output_type": "execute_result"
    }
   ],
   "source": [
    "n_clusters"
   ]
  },
  {
   "cell_type": "code",
   "execution_count": 252,
   "id": "92fe26f4",
   "metadata": {},
   "outputs": [],
   "source": [
    "# Performing the KMeans clustering on the given representation"
   ]
  },
  {
   "cell_type": "code",
   "execution_count": 253,
   "id": "090b1ab2",
   "metadata": {},
   "outputs": [],
   "source": [
    "def clustering_kmeans(sentences, n_clusters):\n",
    "    \n",
    "    representation = list(map(lambda sentence: sentence.representation, sentences))\n",
    "    \n",
    "    kmeans = KMeans(n_clusters=n_clusters, init='k-means++', random_state=42)\n",
    "    \n",
    "    # Fitting on the given representation\n",
    "    kmeans.fit(X=representation, y=None)\n",
    "    \n",
    "    # Predicting on the given representation\n",
    "    y_pred = kmeans.predict(X=representation)\n",
    "    \n",
    "    centers = kmeans.cluster_centers_\n",
    "    \n",
    "    for idx in range(len(y_pred)):\n",
    "        \n",
    "        cluster_number = y_pred[idx]\n",
    "        \n",
    "        sentences[idx].avg_distance = distance.euclidean(centers[cluster_number], sentences[idx].representation)\n",
    "        \n",
    "        sentences[idx].cluster_index = cluster_number\n",
    "        \n",
    "    return sentences"
   ]
  },
  {
   "cell_type": "code",
   "execution_count": 254,
   "id": "f08a4dc9",
   "metadata": {},
   "outputs": [],
   "source": [
    "sentence_list = clustering_kmeans(sentence_list, n_clusters=n_clusters)"
   ]
  },
  {
   "cell_type": "code",
   "execution_count": 255,
   "id": "8ae4319a",
   "metadata": {},
   "outputs": [
    {
     "data": {
      "text/plain": [
       "list"
      ]
     },
     "execution_count": 255,
     "metadata": {},
     "output_type": "execute_result"
    }
   ],
   "source": [
    "type(sentence_list)"
   ]
  },
  {
   "cell_type": "code",
   "execution_count": 256,
   "id": "1e4cb7df",
   "metadata": {},
   "outputs": [
    {
     "data": {
      "text/plain": [
       "79"
      ]
     },
     "execution_count": 256,
     "metadata": {},
     "output_type": "execute_result"
    }
   ],
   "source": [
    "len(sentence_list)"
   ]
  },
  {
   "cell_type": "code",
   "execution_count": 257,
   "id": "74d18c67",
   "metadata": {},
   "outputs": [
    {
     "data": {
      "text/plain": [
       "0"
      ]
     },
     "execution_count": 257,
     "metadata": {},
     "output_type": "execute_result"
    }
   ],
   "source": [
    "sentence_list[-1].average_distance"
   ]
  },
  {
   "cell_type": "code",
   "execution_count": 258,
   "id": "7bf966ab",
   "metadata": {},
   "outputs": [
    {
     "data": {
      "text/plain": [
       "1"
      ]
     },
     "execution_count": 258,
     "metadata": {},
     "output_type": "execute_result"
    }
   ],
   "source": [
    "sentence_list[-1].cluster_index"
   ]
  },
  {
   "cell_type": "markdown",
   "id": "dfed86b4",
   "metadata": {},
   "source": [
    "### Produceing Summary using the above Code"
   ]
  },
  {
   "cell_type": "code",
   "execution_count": 259,
   "id": "ed94fa7f",
   "metadata": {},
   "outputs": [],
   "source": [
    "def produce_summary(compression_ratio, sentence_list, n_clusters):\n",
    "    \n",
    "    summary_index = []\n",
    "    \n",
    "    for idx in range(0, n_clusters):\n",
    "        \n",
    "        cluster = Cluster(idx)\n",
    "        \n",
    "        cluster.members = list(filter(lambda sentence: sentence.cluster_index == idx, sentence_list))\n",
    "        \n",
    "        cluster.summary_members = math.ceil(len(cluster.members) * compression_ratio)\n",
    "        \n",
    "        if cluster.summary_members == 0:\n",
    "            \n",
    "            cluster.summary_members = 1\n",
    "            \n",
    "        cluster.members = sorted(cluster.members, key=lambda x: x.avg_distance, reverse=False)\n",
    "        \n",
    "        summary_index.extend(cluster.members[:cluster.summary_members])\n",
    "        \n",
    "    summary_index = list(map(lambda x: x.sentence_number, summary_index))\n",
    "    \n",
    "    summary_index = sorted(summary_index)\n",
    "    \n",
    "    return summary_index"
   ]
  },
  {
   "cell_type": "code",
   "execution_count": 260,
   "id": "944e2652",
   "metadata": {},
   "outputs": [],
   "source": [
    "summery_index = produce_summary(compression_ratio=0.10, sentence_list=sentence_list, n_clusters=n_clusters)"
   ]
  },
  {
   "cell_type": "code",
   "execution_count": 261,
   "id": "c7a155fa",
   "metadata": {},
   "outputs": [
    {
     "data": {
      "text/plain": [
       "list"
      ]
     },
     "execution_count": 261,
     "metadata": {},
     "output_type": "execute_result"
    }
   ],
   "source": [
    "type(summery_index)"
   ]
  },
  {
   "cell_type": "code",
   "execution_count": 262,
   "id": "189a9a3b",
   "metadata": {},
   "outputs": [
    {
     "data": {
      "text/plain": [
       "9"
      ]
     },
     "execution_count": 262,
     "metadata": {},
     "output_type": "execute_result"
    }
   ],
   "source": [
    "len(summery_index)"
   ]
  },
  {
   "cell_type": "code",
   "execution_count": 263,
   "id": "271e7254",
   "metadata": {},
   "outputs": [
    {
     "data": {
      "text/plain": [
       "[3]"
      ]
     },
     "execution_count": 263,
     "metadata": {},
     "output_type": "execute_result"
    }
   ],
   "source": [
    "summery_index[:1]"
   ]
  },
  {
   "cell_type": "code",
   "execution_count": 264,
   "id": "eb0123fa",
   "metadata": {},
   "outputs": [],
   "source": [
    "# generating the final summary"
   ]
  },
  {
   "cell_type": "code",
   "execution_count": 265,
   "id": "b00aaa87",
   "metadata": {},
   "outputs": [],
   "source": [
    "def generate_final_summay(indexes, sentences, output_address):\n",
    "    \n",
    "    final_summay = ''\n",
    "    \n",
    "    idx = 0\n",
    "    \n",
    "    for index in indexes:\n",
    "        \n",
    "        if idx > 0:\n",
    "            \n",
    "            final_summay += ' '\n",
    "            \n",
    "        final_summay += sentence_list[index].sentence_text\n",
    "        \n",
    "        idx += 1\n",
    "        \n",
    "    print(final_summay)\n",
    "        \n",
    "    outfile = open(output_address, 'w')\n",
    "    \n",
    "    outfile.write(final_summay)\n",
    "    \n",
    "    outfile.close()"
   ]
  },
  {
   "cell_type": "code",
   "execution_count": 302,
   "id": "028d2f23",
   "metadata": {},
   "outputs": [
    {
     "name": "stdout",
     "output_type": "stream",
     "text": [
      "there are also some reports regarding school feeding programs in developing countries . school base program showed an improvement in nutrient intakes . in iran a national free food program ( nffp ). situation analysis : this was carried out by use of existing data such as formal report of organizations , literature review and focus group with experts .. the prevalence of malnutrition and its related factors among students was determined and weaknesses and strengths of the nffp were analyzed .. accordingly , three sub - groups were established : research and evaluation , education and justification and executive group . in general , the new snack package in average has provided 380 kcal energy , 15 g protein along with sufficient calcium and iron .. low economic and malnourished children were supported by executive group affiliated with advocacy team and the rest of them prepare their snack by themselves .. research and evaluation : in this step , the literacy and anthropometric indices ( bmi ) of students were assessed before and after the interventions .. the reference for anthropometric measures was the world health organization / national center for health statistics ( who / nchs ) standards and the cut - offs were - two standard deviations ( sd ) from the mean .. each student that was malnourished and poor has been taken into account for free food and nutritious snacks .. demographic information , height , weight and knowledge of the students were measured by use of a validated and reliable ( cronbach 's alpha was 0.61 ) questionnaire .. this project is granted by shiraz university of medical sciences , charities and welfare organization and education organization of fars province .. statistical analyses were performed using the statistical package for the social sciences ( spss ) software , version 17.0 ( spss inc . in order to determine the effective variables on the malnutrition status. in general , the new snack package in average has provided 380 kcal energy , 15 g protein along with sufficient calcium and iron .. low economic and malnourished children were supported by executive group affiliated with advocacy team and the rest of them prepare their snack by themselves .. research and evaluation : in this step , the literacy and anthropometric indices ( bmi ) of students were assessed before and after the interventions .. the reference for anthropometric measures was the world health organization / national center for health statistics ( who / nchs ) standards and the cut - offs were - two standard deviations ( sd ) from the mean .. each student that was malnourished and poor has been taken into account for free food and nutritious snacks .. demographic information , height , weight and knowledge of the students were measured by use of a validated and reliable ( cronbach 's alpha was 0.61 ) questionnaire .. this project is granted by shiraz university of medical sciences , charities and welfare organization and education organization of fars province .. advocacy group formation : this step was started with stakeholder analysis and identifying the stakeholders .. the team was formed with representatives of all stakeholders include ; education organization , welfare organization , deputy for health of shiraz university , food and cosmetic product supervisory office and several non - governmental organizations and charities .. situation analysis : this was carried out by use of existing data such as formal report of organizations , literature review and focus group with experts .. the prevalence of malnutrition and its related factors among students was determined and weaknesses and strengths of the nffp were analyzed .. accordingly , three sub - groups were established : research and evaluation , education and justification and executive group .. designing the strategies : three strategies were identified ; education and justification campaign , nutritional intervention ( providing nutritious , safe and diverse snacks ) and networking .. performing the interventions : interventions that were implementing in selected schools were providing a diverse and nutritious snack package along with nutrition education for both groups while the first group ( poor and malnourished students ) was utilized the package free of charge .. education and justification intervention : regarding the literature review and expert opinion , an educational group affiliated with the advocacy team has prepared educational booklets about nutritional information for each level ( degree ) .. accordingly , education of these booklets has been integrated into regular education of students and they educated and justified for better nutrition life - style . in order to determine the effective variables on the malnutrition status. another study revealed that evaluability assessment gave stakeholders the opportunity to reflect on the project and its implementation issues .. it seems that in iran , free food program among the students not only is needed in deprived areas , but also it should be performed in big cities such as shiraz .\n"
     ]
    }
   ],
   "source": [
    "generate_final_summay(summery_index, sentences=sentence_list, output_address='data/output/summary2.txt')"
   ]
  },
  {
   "cell_type": "code",
   "execution_count": 276,
   "id": "951abcdd",
   "metadata": {},
   "outputs": [
    {
     "name": "stdout",
     "output_type": "stream",
     "text": [
      "Collecting gensim\n",
      "  Using cached gensim-4.2.0-cp36-cp36m-win_amd64.whl\n",
      "Requirement already satisfied: numpy>=1.17.0 in c:\\users\\sav76\\anaconda3\\envs\\biobert_env\\lib\\site-packages (from gensim) (1.19.5)\n",
      "Requirement already satisfied: scipy>=0.18.1 in c:\\users\\sav76\\anaconda3\\envs\\biobert_env\\lib\\site-packages (from gensim) (1.5.4)\n",
      "Collecting smart-open>=1.8.1\n",
      "  Downloading smart_open-6.2.0-py3-none-any.whl (58 kB)\n",
      "Installing collected packages: smart-open, gensim\n",
      "Successfully installed gensim-4.2.0 smart-open-6.2.0\n"
     ]
    }
   ],
   "source": [
    "!pip install gensim\n"
   ]
  },
  {
   "cell_type": "code",
   "execution_count": 304,
   "id": "e716990a",
   "metadata": {},
   "outputs": [
    {
     "data": {
      "text/plain": [
       "[-0.016910493, 0.062205613, -0.06265856, 0.0584929, 0.0055561303]"
      ]
     },
     "execution_count": 304,
     "metadata": {},
     "output_type": "execute_result"
    }
   ],
   "source": [
    "from gensim.models.doc2vec import Doc2Vec, TaggedDocument\n",
    "\n",
    "from gensim.test.utils import common_texts\n",
    "\n",
    "documents=[TaggedDocument(doc,[j]) for j, doc in enumerate(common_texts)]\n",
    "\n",
    "model=Doc2Vec(documents, vector_size=5,window=2, min_count=1, workers=4)\n",
    "\n",
    "\n",
    "from gensim.test.utils import get_tmpfile\n",
    "\n",
    "fname=get_tmpfile(\"my_doc2vec_model\")\n",
    "\n",
    "model.save(fname)\n",
    "\n",
    "model=Doc2Vec.load(fname)\n",
    "\n",
    "list(model.infer_vector(ref_summary))"
   ]
  },
  {
   "cell_type": "code",
   "execution_count": 297,
   "id": "ffeacbcf",
   "metadata": {},
   "outputs": [],
   "source": [
    "ref_summary=[\"background : the present study was carried out to assess the effects of community nutrition intervention based on advocacy approach on malnutrition status among school - aged children in shiraz , iran.materials and methods : this case - control nutritional intervention has been done between 2008 and 2009 on 2897 primary and secondary school boys and girls ( 7 - 13 years old ) based on advocacy approach in shiraz , iran .  the project provided nutritious snacks in public schools over a 2-year period along with advocacy oriented actions in order to implement and promote nutritional intervention . for evaluation of effectiveness of the intervention growth monitoring indices of pre- and post - intervention were statistically compared.results:the frequency of subjects with body mass index lower than 5% decreased significantly after intervention among girls ( p = 0.02 ) . however , there were no significant changes among boys or total population . The mean of all anthropometric indices changed significantly after intervention both among girls and boys as well as in total population. The pre- and post - test education assessment in both groups showed that the student 's average knowledge score has been significantly increased from 12.5  3.2 to 16.8  4.3 ( p < 0.0001).conclusion : this study demonstrates the potential success and scalability of school feeding programs in iran.Community nutrition intervention based on the advocacy process model is effective on reducing the prevalence of underweight specifically among female school aged children. \"]"
   ]
  },
  {
   "cell_type": "code",
   "execution_count": 307,
   "id": "f0dd83a3",
   "metadata": {},
   "outputs": [],
   "source": [
    "summary_gen = [\"there are also some reports regarding school feeding programs in developing countries . school base program showed an improvement in nutrient intakes . in iran a national free food program ( nffp ). situation analysis : this was carried out by use of existing data such as formal report of organizations , literature review and focus group with experts .. the prevalence of malnutrition and its related factors among students was determined and weaknesses and strengths of the nffp were analyzed .. accordingly , three sub - groups were established : research and evaluation , education and justification and executive group . in general , the new snack package in average has provided 380 kcal energy , 15 g protein along with sufficient calcium and iron .. low economic and malnourished children were supported by executive group affiliated with advocacy team and the rest of them prepare their snack by themselves .. research and evaluation : in this step , the literacy and anthropometric indices ( bmi ) of students were assessed before and after the interventions .. the reference for anthropometric measures was the world health organization / national center for health statistics ( who / nchs ) standards and the cut - offs were - two standard deviations ( sd ) from the mean .. each student that was malnourished and poor has been taken into account for free food and nutritious snacks .. demographic information , height , weight and knowledge of the students were measured by use of a validated and reliable ( cronbach 's alpha was 0.61 ) questionnaire .. this project is granted by shiraz university of medical sciences , charities and welfare organization and education organization of fars province .. statistical analyses were performed using the statistical package for the social sciences ( spss ) software , version 17.0 ( spss inc . in order to determine the effective variables on the malnutrition status. in general , the new snack package in average has provided 380 kcal energy , 15 g protein along with sufficient calcium and iron .. low economic and malnourished children were supported by executive group affiliated with advocacy team and the rest of them prepare their snack by themselves .. research and evaluation : in this step , the literacy and anthropometric indices ( bmi ) of students were assessed before and after the interventions .. the reference for anthropometric measures was the world health organization / national center for health statistics ( who / nchs ) standards and the cut - offs were - two standard deviations ( sd ) from the mean .. each student that was malnourished and poor has been taken into account for free food and nutritious snacks .. demographic information , height , weight and knowledge of the students were measured by use of a validated and reliable ( cronbach 's alpha was 0.61 ) questionnaire .. this project is granted by shiraz university of medical sciences , charities and welfare organization and education organization of fars province .. advocacy group formation : this step was started with stakeholder analysis and identifying the stakeholders .. the team was formed with representatives of all stakeholders include ; education organization , welfare organization , deputy for health of shiraz university , food and cosmetic product supervisory office and several non - governmental organizations and charities .. situation analysis : this was carried out by use of existing data such as formal report of organizations , literature review and focus group with experts .. the prevalence of malnutrition and its related factors among students was determined and weaknesses and strengths of the nffp were analyzed .. accordingly , three sub - groups were established : research and evaluation , education and justification and executive group .. designing the strategies : three strategies were identified ; education and justification campaign , nutritional intervention ( providing nutritious , safe and diverse snacks ) and networking .. performing the interventions : interventions that were implementing in selected schools were providing a diverse and nutritious snack package along with nutrition education for both groups while the first group ( poor and malnourished students ) was utilized the package free of charge .. education and justification intervention : regarding the literature review and expert opinion , an educational group affiliated with the advocacy team has prepared educational booklets about nutritional information for each level ( degree ) .. accordingly , education of these booklets has been integrated into regular education of students and they educated and justified for better nutrition life - style . in order to determine the effective variables on the malnutrition status. another study revealed that evaluability assessment gave stakeholders the opportunity to reflect on the project and its implementation issues .. it seems that in iran , free food program among the students not only is needed in deprived areas , but also it should be performed in big cities such as shiraz .\"]"
   ]
  },
  {
   "cell_type": "code",
   "execution_count": 301,
   "id": "9e38f609",
   "metadata": {},
   "outputs": [],
   "source": [
    "#ref_summary[0]"
   ]
  },
  {
   "cell_type": "code",
   "execution_count": 308,
   "id": "88e76e7a",
   "metadata": {},
   "outputs": [],
   "source": [
    "p=model.infer_vector(ref_summary)\n",
    "vector_ref = p\n",
    "q=[model.infer_vector(summary_gen)]\n",
    "vector_sum = q\n",
    "#vector_ref.append(model.infer_vector(ref_summary[i]))\n",
    "#vector_sum.append(model.infer_vector(summary_from_model[i]))"
   ]
  },
  {
   "cell_type": "code",
   "execution_count": 309,
   "id": "4edb5bf2",
   "metadata": {},
   "outputs": [],
   "source": [
    "from sklearn.metrics.pairwise import cosine_similarity"
   ]
  },
  {
   "cell_type": "code",
   "execution_count": 319,
   "id": "074867a8",
   "metadata": {},
   "outputs": [],
   "source": [
    "vv=vector_ref.reshape(1,-1)"
   ]
  },
  {
   "cell_type": "code",
   "execution_count": null,
   "id": "5c7d884b",
   "metadata": {},
   "outputs": [],
   "source": []
  },
  {
   "cell_type": "code",
   "execution_count": 320,
   "id": "627d1c0e",
   "metadata": {},
   "outputs": [
    {
     "data": {
      "text/plain": [
       "array([[0.15507239]], dtype=float32)"
      ]
     },
     "execution_count": 320,
     "metadata": {},
     "output_type": "execute_result"
    }
   ],
   "source": [
    "cosine_similarity(vv,vector_sum)"
   ]
  },
  {
   "cell_type": "code",
   "execution_count": 321,
   "id": "13a39467",
   "metadata": {},
   "outputs": [],
   "source": [
    "bert_ex = [\"a recent systematic analysis showed that in 2011  314  296  331  million children younger than 5 years were mildly  moderately or severely stunted and 258  240  274  million were mildly  moderately or severely underweight in the developing countries the same as this study in other studies have also emphasized that there must be efforts to strengthen the capacity within the schools to deal with the nutritional problems either overweight  obesity or malnutrition by using of educational and nutritional intervention\"]"
   ]
  },
  {
   "cell_type": "code",
   "execution_count": 322,
   "id": "6caf1f4f",
   "metadata": {},
   "outputs": [],
   "source": [
    "p=model.infer_vector(ref_summary)\n",
    "vector_ref = p\n",
    "q=[model.infer_vector(bert_ex)]\n",
    "vector_sum = q\n",
    "#vector_ref.append(model.infer_vector(ref_summary[i]))\n",
    "#vector_sum.append(model.infer_vector(summary_from_model[i]))"
   ]
  },
  {
   "cell_type": "code",
   "execution_count": 323,
   "id": "cbce7e85",
   "metadata": {},
   "outputs": [],
   "source": [
    "vv=vector_ref.reshape(1,-1)"
   ]
  },
  {
   "cell_type": "code",
   "execution_count": 324,
   "id": "d3cf09cd",
   "metadata": {},
   "outputs": [
    {
     "data": {
      "text/plain": [
       "array([[0.10614921]], dtype=float32)"
      ]
     },
     "execution_count": 324,
     "metadata": {},
     "output_type": "execute_result"
    }
   ],
   "source": [
    "cosine_similarity(vv,vector_sum)"
   ]
  },
  {
   "cell_type": "code",
   "execution_count": 326,
   "id": "c0ccd4f1",
   "metadata": {},
   "outputs": [],
   "source": [
    "## We find Cosine similarity of Bio Bert(0.15) to be higher than Bert Model(0.10) with respect to reference Abstract summary"
   ]
  },
  {
   "cell_type": "code",
   "execution_count": null,
   "id": "2c758530",
   "metadata": {},
   "outputs": [],
   "source": []
  }
 ],
 "metadata": {
  "kernelspec": {
   "display_name": "Python 3",
   "language": "python",
   "name": "python3"
  },
  "language_info": {
   "codemirror_mode": {
    "name": "ipython",
    "version": 3
   },
   "file_extension": ".py",
   "mimetype": "text/x-python",
   "name": "python",
   "nbconvert_exporter": "python",
   "pygments_lexer": "ipython3",
   "version": "3.6.13"
  }
 },
 "nbformat": 4,
 "nbformat_minor": 5
}
