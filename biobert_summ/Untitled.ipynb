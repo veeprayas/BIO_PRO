{
 "cells": [
  {
   "cell_type": "code",
   "execution_count": 1,
   "id": "e68afece",
   "metadata": {},
   "outputs": [
    {
     "name": "stdout",
     "output_type": "stream",
     "text": [
      "Requirement already satisfied: gensim in c:\\users\\sav76\\anaconda3\\envs\\biobert_env\\lib\\site-packages (4.2.0)\n",
      "Requirement already satisfied: scipy>=0.18.1 in c:\\users\\sav76\\anaconda3\\envs\\biobert_env\\lib\\site-packages (from gensim) (1.5.4)\n",
      "Requirement already satisfied: smart-open>=1.8.1 in c:\\users\\sav76\\anaconda3\\envs\\biobert_env\\lib\\site-packages (from gensim) (6.2.0)\n",
      "Requirement already satisfied: numpy>=1.17.0 in c:\\users\\sav76\\anaconda3\\envs\\biobert_env\\lib\\site-packages (from gensim) (1.19.5)\n"
     ]
    }
   ],
   "source": [
    "!pip install gensim\n"
   ]
  },
  {
   "cell_type": "code",
   "execution_count": 36,
   "id": "712eea75",
   "metadata": {},
   "outputs": [
    {
     "data": {
      "text/plain": [
       "[-0.01064894,\n",
       " -0.0047411146,\n",
       " -0.0125273485,\n",
       " -0.012201977,\n",
       " -0.0082034385,\n",
       " -0.017645024,\n",
       " 0.013313798,\n",
       " -0.032538097,\n",
       " -0.03252071,\n",
       " -0.026942376,\n",
       " -0.025097867,\n",
       " 0.028703451,\n",
       " 0.0014258464,\n",
       " 0.018700937,\n",
       " -0.008296442]"
      ]
     },
     "execution_count": 36,
     "metadata": {},
     "output_type": "execute_result"
    }
   ],
   "source": [
    "from gensim.models.doc2vec import Doc2Vec, TaggedDocument\n",
    "\n",
    "from gensim.test.utils import common_texts\n",
    "\n",
    "documents=[TaggedDocument(doc,[j]) for j, doc in enumerate(common_texts)]\n",
    "\n",
    "model=Doc2Vec(documents, vector_size=15,window=2, min_count=1, workers=4)\n",
    "\n",
    "\n",
    "from gensim.test.utils import get_tmpfile\n",
    "\n",
    "fname=get_tmpfile(\"my_doc2vec_model\")\n",
    "\n",
    "model.save(fname)\n",
    "\n",
    "model=Doc2Vec.load(fname)\n",
    "\n",
    "list(model.infer_vector(ref_summary))"
   ]
  },
  {
   "cell_type": "code",
   "execution_count": 37,
   "id": "65a6b353",
   "metadata": {},
   "outputs": [],
   "source": [
    "ref_summary=[\"backgroundanemia in patients with cancer who are undergoing active therapy is commonly encountered and may worsen quality of life in these patients . the effect of blood transfusion is often temporary and may be associated with serious adverse events . \\n erythropoiesis - stimulating agents are not effective in 30%50% of patients and may have a negative effect on overall survival.aimsto assess the efficacy and feasibility of intravenous iron therapy in patients with cancer who have non - iron - deficiency anemia and who are undergoing treatment with chemotherapy without the use of erythropoiesis - stimulating agents.methodsadult patients with solid cancers and non - iron - deficiency anemia were included . \\n ferric sucrose at a dose of 200 mg was given in short intravenous infusions weekly for a total of 12 weeks . \\n hemoglobin level was measured at baseline , every 3 weeks , and 2 weeks after the last iron infusion ( week 14 ) . \\n adverse events related to intravenous iron were prospectively reported.resultsof 25 patients included , 19 ( 76.0% ) completed at least three iron infusions and 14 ( 56.0% ) finished the planned 12 weeks of therapy . \\n the mean hemoglobin level of the 25 patients at baseline was 9.6 g / dl ( median , 9.9 g / dl ; range , 6.9 g / dl 10.9 g / dl ) . the mean change in hemoglobin level for the 15 patients who completed at least 9 treatments was 1.7 g / dl ( median , 1.1 g / dl ; range , 1.9 g / dl to 3.2 g / dl ) ; it reached 2.1 g / dl ( median , 1.3 g / dl ; range , 0.2 g / dl to 4.6 g / dl ; p = 0.0007 ) for the 14 patients who completed all 12 weekly treatments . \\n five ( 20.0% ) patients were transfused and considered as treatment failures . \\n no treatment - related adverse events were reported.conclusionintravenous iron treatment alone is safe and may reduce blood transfusion requirements and improve hemoglobin level in patients with cancer who are undergoing anticancer therapy . \\n further randomized studies are needed to confirm these findings .\"]"
   ]
  },
  {
   "cell_type": "code",
   "execution_count": 38,
   "id": "b68a327f",
   "metadata": {},
   "outputs": [],
   "source": [
    "summary_gen = [\"patients were also required to have a serum ferritin level of 100 ng / ml or higher or transferrin saturation ( tsat ) levels of 15% or higher and to have received no esas or iv iron therapy within 30 days and no oral iron therapy ( 27 mg / day or more ) within 7 days before enrollment . the first dose was given during the first clinic visit ( 4 days from the initiation of chemotherapy or radiation therapy ) . \\n patients were also required to have a serum ferritin level of 100 ng / ml or higher or transferrin saturation ( tsat ) levels of 15% or higher and to have received no esas or iv iron therapy within 30 days and no oral iron therapy ( 27 mg / day or more ) within 7 days before enrollment . \\n the first dose was given during the first clinic visit ( 4 days from the initiation of chemotherapy or radiation therapy ) . \\n eight ( 42.1% ) of the 19 patients who completed at least three iron infusions had a more than 1 g / dl increase in their hb level . \\n hemoglobin level changes for the 14 patients who completed twelve iron infusions are shown in figure 1 . \\n tsat was monitored during the study period , and no patients had tsat levels increase to more than 50% . given that the mean hb increase using esas with iv iron in one large controlled trial was 2.4 g / dl,21 the results obtained in our study are clinically significant . \\n the highest serum ferritin level in the present study in patients who completed at least 9 weeks of iv iron therapy was 1,170 ng / ml . \\n published reviews report an increase in hepatocellular carcinoma only in patients with hemochromatosis after they develop cirrhosis.29 similarly data supporting the association between iv iron therapy and higher infection rate are weak and not well - supported.30 in fact , anemia itself is a risk factor for infections in patients receiving hemodialysis.31 a multivariate analysis of associations between iron and mortality in more than 58,000 patients receiving hemodialysis reported no increased death rate from serum ferritin levels as high as 1,200 ng / ml.30 the increasing cost of therapy in patients with cancer is of grave concern , which could be an additional benefit of iv iron over the use of esas in such patients .\"]"
   ]
  },
  {
   "cell_type": "code",
   "execution_count": 39,
   "id": "0740dfc7",
   "metadata": {},
   "outputs": [],
   "source": [
    "p=model.infer_vector(ref_summary)\n",
    "vector_ref = p\n",
    "q=[model.infer_vector(summary_gen)]\n",
    "vector_sum = q\n",
    "#vector_ref.append(model.infer_vector(ref_summary[i]))\n",
    "#vector_sum.append(model.infer_vector(summary_from_model[i]))"
   ]
  },
  {
   "cell_type": "code",
   "execution_count": 40,
   "id": "b19b49c9",
   "metadata": {},
   "outputs": [],
   "source": [
    "from sklearn.metrics.pairwise import cosine_similarity"
   ]
  },
  {
   "cell_type": "code",
   "execution_count": 41,
   "id": "347033f2",
   "metadata": {},
   "outputs": [],
   "source": [
    "vv=vector_ref.reshape(1,-1)"
   ]
  },
  {
   "cell_type": "code",
   "execution_count": 42,
   "id": "b8cbe8ef",
   "metadata": {},
   "outputs": [
    {
     "data": {
      "text/plain": [
       "array([[0.14494303]], dtype=float32)"
      ]
     },
     "execution_count": 42,
     "metadata": {},
     "output_type": "execute_result"
    }
   ],
   "source": [
    "cosine_similarity(vv,vector_sum)"
   ]
  },
  {
   "cell_type": "code",
   "execution_count": null,
   "id": "b75448dd",
   "metadata": {},
   "outputs": [],
   "source": [
    "!pip install gensim\n"
   ]
  }
 ],
 "metadata": {
  "kernelspec": {
   "display_name": "Python 3",
   "language": "python",
   "name": "python3"
  },
  "language_info": {
   "codemirror_mode": {
    "name": "ipython",
    "version": 3
   },
   "file_extension": ".py",
   "mimetype": "text/x-python",
   "name": "python",
   "nbconvert_exporter": "python",
   "pygments_lexer": "ipython3",
   "version": "3.6.13"
  }
 },
 "nbformat": 4,
 "nbformat_minor": 5
}
