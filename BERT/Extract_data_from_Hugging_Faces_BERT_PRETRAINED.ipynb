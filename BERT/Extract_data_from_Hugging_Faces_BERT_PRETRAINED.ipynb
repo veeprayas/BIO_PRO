{
  "nbformat": 4,
  "nbformat_minor": 0,
  "metadata": {
    "colab": {
      "provenance": []
    },
    "kernelspec": {
      "name": "python3",
      "display_name": "Python 3"
    },
    "language_info": {
      "name": "python"
    }
  },
  "cells": [
    {
      "cell_type": "code",
      "execution_count": 1,
      "metadata": {
        "id": "lenA2rcInKvo"
      },
      "outputs": [],
      "source": [
        "import warnings"
      ]
    },
    {
      "cell_type": "code",
      "source": [
        "warnings.filterwarnings('ignore')"
      ],
      "metadata": {
        "id": "fFBcbQAInRzS"
      },
      "execution_count": 2,
      "outputs": []
    },
    {
      "cell_type": "code",
      "source": [
        "!pip install datasets"
      ],
      "metadata": {
        "colab": {
          "base_uri": "https://localhost:8080/"
        },
        "id": "rITEY_tnnTXQ",
        "outputId": "a93862e3-ffb8-49f5-ff68-bb4876ff03d6"
      },
      "execution_count": 3,
      "outputs": [
        {
          "output_type": "stream",
          "name": "stdout",
          "text": [
            "Looking in indexes: https://pypi.org/simple, https://us-python.pkg.dev/colab-wheels/public/simple/\n",
            "Collecting datasets\n",
            "  Downloading datasets-2.7.1-py3-none-any.whl (451 kB)\n",
            "\u001b[K     |████████████████████████████████| 451 kB 6.9 MB/s \n",
            "\u001b[?25hRequirement already satisfied: requests>=2.19.0 in /usr/local/lib/python3.8/dist-packages (from datasets) (2.23.0)\n",
            "Collecting multiprocess\n",
            "  Downloading multiprocess-0.70.14-py38-none-any.whl (132 kB)\n",
            "\u001b[K     |████████████████████████████████| 132 kB 22.7 MB/s \n",
            "\u001b[?25hRequirement already satisfied: tqdm>=4.62.1 in /usr/local/lib/python3.8/dist-packages (from datasets) (4.64.1)\n",
            "Requirement already satisfied: packaging in /usr/local/lib/python3.8/dist-packages (from datasets) (21.3)\n",
            "Requirement already satisfied: pyarrow>=6.0.0 in /usr/local/lib/python3.8/dist-packages (from datasets) (9.0.0)\n",
            "Requirement already satisfied: aiohttp in /usr/local/lib/python3.8/dist-packages (from datasets) (3.8.3)\n",
            "Requirement already satisfied: dill<0.3.7 in /usr/local/lib/python3.8/dist-packages (from datasets) (0.3.6)\n",
            "Requirement already satisfied: pandas in /usr/local/lib/python3.8/dist-packages (from datasets) (1.3.5)\n",
            "Requirement already satisfied: pyyaml>=5.1 in /usr/local/lib/python3.8/dist-packages (from datasets) (6.0)\n",
            "Requirement already satisfied: numpy>=1.17 in /usr/local/lib/python3.8/dist-packages (from datasets) (1.21.6)\n",
            "Collecting xxhash\n",
            "  Downloading xxhash-3.1.0-cp38-cp38-manylinux_2_17_x86_64.manylinux2014_x86_64.whl (212 kB)\n",
            "\u001b[K     |████████████████████████████████| 212 kB 33.4 MB/s \n",
            "\u001b[?25hCollecting huggingface-hub<1.0.0,>=0.2.0\n",
            "  Downloading huggingface_hub-0.11.1-py3-none-any.whl (182 kB)\n",
            "\u001b[K     |████████████████████████████████| 182 kB 15.9 MB/s \n",
            "\u001b[?25hRequirement already satisfied: fsspec[http]>=2021.11.1 in /usr/local/lib/python3.8/dist-packages (from datasets) (2022.11.0)\n",
            "Collecting responses<0.19\n",
            "  Downloading responses-0.18.0-py3-none-any.whl (38 kB)\n",
            "Requirement already satisfied: aiosignal>=1.1.2 in /usr/local/lib/python3.8/dist-packages (from aiohttp->datasets) (1.3.1)\n",
            "Requirement already satisfied: multidict<7.0,>=4.5 in /usr/local/lib/python3.8/dist-packages (from aiohttp->datasets) (6.0.2)\n",
            "Requirement already satisfied: charset-normalizer<3.0,>=2.0 in /usr/local/lib/python3.8/dist-packages (from aiohttp->datasets) (2.1.1)\n",
            "Requirement already satisfied: attrs>=17.3.0 in /usr/local/lib/python3.8/dist-packages (from aiohttp->datasets) (22.1.0)\n",
            "Requirement already satisfied: frozenlist>=1.1.1 in /usr/local/lib/python3.8/dist-packages (from aiohttp->datasets) (1.3.3)\n",
            "Requirement already satisfied: yarl<2.0,>=1.0 in /usr/local/lib/python3.8/dist-packages (from aiohttp->datasets) (1.8.1)\n",
            "Requirement already satisfied: async-timeout<5.0,>=4.0.0a3 in /usr/local/lib/python3.8/dist-packages (from aiohttp->datasets) (4.0.2)\n",
            "Requirement already satisfied: filelock in /usr/local/lib/python3.8/dist-packages (from huggingface-hub<1.0.0,>=0.2.0->datasets) (3.8.0)\n",
            "Requirement already satisfied: typing-extensions>=3.7.4.3 in /usr/local/lib/python3.8/dist-packages (from huggingface-hub<1.0.0,>=0.2.0->datasets) (4.1.1)\n",
            "Requirement already satisfied: pyparsing!=3.0.5,>=2.0.2 in /usr/local/lib/python3.8/dist-packages (from packaging->datasets) (3.0.9)\n",
            "Requirement already satisfied: certifi>=2017.4.17 in /usr/local/lib/python3.8/dist-packages (from requests>=2.19.0->datasets) (2022.9.24)\n",
            "Requirement already satisfied: chardet<4,>=3.0.2 in /usr/local/lib/python3.8/dist-packages (from requests>=2.19.0->datasets) (3.0.4)\n",
            "Requirement already satisfied: urllib3!=1.25.0,!=1.25.1,<1.26,>=1.21.1 in /usr/local/lib/python3.8/dist-packages (from requests>=2.19.0->datasets) (1.24.3)\n",
            "Requirement already satisfied: idna<3,>=2.5 in /usr/local/lib/python3.8/dist-packages (from requests>=2.19.0->datasets) (2.10)\n",
            "Collecting urllib3!=1.25.0,!=1.25.1,<1.26,>=1.21.1\n",
            "  Downloading urllib3-1.25.11-py2.py3-none-any.whl (127 kB)\n",
            "\u001b[K     |████████████████████████████████| 127 kB 21.6 MB/s \n",
            "\u001b[?25hRequirement already satisfied: pytz>=2017.3 in /usr/local/lib/python3.8/dist-packages (from pandas->datasets) (2022.6)\n",
            "Requirement already satisfied: python-dateutil>=2.7.3 in /usr/local/lib/python3.8/dist-packages (from pandas->datasets) (2.8.2)\n",
            "Requirement already satisfied: six>=1.5 in /usr/local/lib/python3.8/dist-packages (from python-dateutil>=2.7.3->pandas->datasets) (1.15.0)\n",
            "Installing collected packages: urllib3, xxhash, responses, multiprocess, huggingface-hub, datasets\n",
            "  Attempting uninstall: urllib3\n",
            "    Found existing installation: urllib3 1.24.3\n",
            "    Uninstalling urllib3-1.24.3:\n",
            "      Successfully uninstalled urllib3-1.24.3\n",
            "Successfully installed datasets-2.7.1 huggingface-hub-0.11.1 multiprocess-0.70.14 responses-0.18.0 urllib3-1.25.11 xxhash-3.1.0\n"
          ]
        }
      ]
    },
    {
      "cell_type": "code",
      "source": [
        "!pip install pytorch_pretrained_bert"
      ],
      "metadata": {
        "colab": {
          "base_uri": "https://localhost:8080/"
        },
        "id": "JRaqRnhbnU4Y",
        "outputId": "83782375-d946-424b-f290-9de80df582f7"
      },
      "execution_count": 4,
      "outputs": [
        {
          "output_type": "stream",
          "name": "stdout",
          "text": [
            "Looking in indexes: https://pypi.org/simple, https://us-python.pkg.dev/colab-wheels/public/simple/\n",
            "Collecting pytorch_pretrained_bert\n",
            "  Downloading pytorch_pretrained_bert-0.6.2-py3-none-any.whl (123 kB)\n",
            "\u001b[K     |████████████████████████████████| 123 kB 7.3 MB/s \n",
            "\u001b[?25hRequirement already satisfied: numpy in /usr/local/lib/python3.8/dist-packages (from pytorch_pretrained_bert) (1.21.6)\n",
            "Requirement already satisfied: tqdm in /usr/local/lib/python3.8/dist-packages (from pytorch_pretrained_bert) (4.64.1)\n",
            "Requirement already satisfied: regex in /usr/local/lib/python3.8/dist-packages (from pytorch_pretrained_bert) (2022.6.2)\n",
            "Requirement already satisfied: torch>=0.4.1 in /usr/local/lib/python3.8/dist-packages (from pytorch_pretrained_bert) (1.12.1+cu113)\n",
            "Requirement already satisfied: requests in /usr/local/lib/python3.8/dist-packages (from pytorch_pretrained_bert) (2.23.0)\n",
            "Collecting boto3\n",
            "  Downloading boto3-1.26.24-py3-none-any.whl (132 kB)\n",
            "\u001b[K     |████████████████████████████████| 132 kB 54.6 MB/s \n",
            "\u001b[?25hRequirement already satisfied: typing-extensions in /usr/local/lib/python3.8/dist-packages (from torch>=0.4.1->pytorch_pretrained_bert) (4.1.1)\n",
            "Collecting s3transfer<0.7.0,>=0.6.0\n",
            "  Downloading s3transfer-0.6.0-py3-none-any.whl (79 kB)\n",
            "\u001b[K     |████████████████████████████████| 79 kB 10.4 MB/s \n",
            "\u001b[?25hCollecting botocore<1.30.0,>=1.29.24\n",
            "  Downloading botocore-1.29.24-py3-none-any.whl (10.2 MB)\n",
            "\u001b[K     |████████████████████████████████| 10.2 MB 52.6 MB/s \n",
            "\u001b[?25hCollecting jmespath<2.0.0,>=0.7.1\n",
            "  Downloading jmespath-1.0.1-py3-none-any.whl (20 kB)\n",
            "Requirement already satisfied: urllib3<1.27,>=1.25.4 in /usr/local/lib/python3.8/dist-packages (from botocore<1.30.0,>=1.29.24->boto3->pytorch_pretrained_bert) (1.25.11)\n",
            "Requirement already satisfied: python-dateutil<3.0.0,>=2.1 in /usr/local/lib/python3.8/dist-packages (from botocore<1.30.0,>=1.29.24->boto3->pytorch_pretrained_bert) (2.8.2)\n",
            "Requirement already satisfied: six>=1.5 in /usr/local/lib/python3.8/dist-packages (from python-dateutil<3.0.0,>=2.1->botocore<1.30.0,>=1.29.24->boto3->pytorch_pretrained_bert) (1.15.0)\n",
            "Requirement already satisfied: certifi>=2017.4.17 in /usr/local/lib/python3.8/dist-packages (from requests->pytorch_pretrained_bert) (2022.9.24)\n",
            "Requirement already satisfied: idna<3,>=2.5 in /usr/local/lib/python3.8/dist-packages (from requests->pytorch_pretrained_bert) (2.10)\n",
            "Requirement already satisfied: chardet<4,>=3.0.2 in /usr/local/lib/python3.8/dist-packages (from requests->pytorch_pretrained_bert) (3.0.4)\n",
            "Installing collected packages: jmespath, botocore, s3transfer, boto3, pytorch-pretrained-bert\n",
            "Successfully installed boto3-1.26.24 botocore-1.29.24 jmespath-1.0.1 pytorch-pretrained-bert-0.6.2 s3transfer-0.6.0\n"
          ]
        }
      ]
    },
    {
      "cell_type": "code",
      "source": [
        "from datasets import list_datasets, load_dataset"
      ],
      "metadata": {
        "id": "YW7vhuCknYiI"
      },
      "execution_count": null,
      "outputs": []
    },
    {
      "cell_type": "code",
      "source": [
        "from google.colab import drive\n",
        "drive.mount('/content/drive')"
      ],
      "metadata": {
        "id": "T7H3oCA8mp6Q"
      },
      "execution_count": null,
      "outputs": []
    },
    {
      "cell_type": "code",
      "source": [
        "from pprint import pprint"
      ],
      "metadata": {
        "id": "BNpJhG7Bnc5f"
      },
      "execution_count": null,
      "outputs": []
    },
    {
      "cell_type": "code",
      "source": [
        "import pandas as pd"
      ],
      "metadata": {
        "id": "pXZbuOcanfaA"
      },
      "execution_count": null,
      "outputs": []
    },
    {
      "cell_type": "code",
      "source": [
        "import numpy as np"
      ],
      "metadata": {
        "id": "y8HnjUtVnjMn"
      },
      "execution_count": null,
      "outputs": []
    },
    {
      "cell_type": "code",
      "source": [
        "import seaborn as sns"
      ],
      "metadata": {
        "id": "vNvnoF5Jnk6w"
      },
      "execution_count": null,
      "outputs": []
    },
    {
      "cell_type": "code",
      "source": [
        "import matplotlib.pyplot as plt"
      ],
      "metadata": {
        "id": "aH5iAmOBnn_J"
      },
      "execution_count": null,
      "outputs": []
    },
    {
      "cell_type": "code",
      "source": [
        "%matplotlib inline"
      ],
      "metadata": {
        "id": "fGa348yJnp04"
      },
      "execution_count": null,
      "outputs": []
    },
    {
      "cell_type": "code",
      "source": [
        "from pprint import pprint"
      ],
      "metadata": {
        "id": "eE2M9TcJnygn"
      },
      "execution_count": null,
      "outputs": []
    },
    {
      "cell_type": "code",
      "source": [
        "from google.colab import files"
      ],
      "metadata": {
        "id": "hu1crdxWn0AQ"
      },
      "execution_count": null,
      "outputs": []
    },
    {
      "cell_type": "code",
      "source": [
        "# files.upload()"
      ],
      "metadata": {
        "id": "Vk_-YgPooDC_"
      },
      "execution_count": null,
      "outputs": []
    },
    {
      "cell_type": "code",
      "source": [
        "dataframe = pd.read_csv('first100.csv', index_col='Unnamed: 0')"
      ],
      "metadata": {
        "id": "SPkcAscfoEuw"
      },
      "execution_count": null,
      "outputs": []
    },
    {
      "cell_type": "code",
      "source": [
        "dataframe.info()"
      ],
      "metadata": {
        "colab": {
          "base_uri": "https://localhost:8080/"
        },
        "id": "hqjRvcpioYce",
        "outputId": "382bae85-df4e-47ad-990a-1c1f66a4bae3"
      },
      "execution_count": null,
      "outputs": [
        {
          "output_type": "stream",
          "name": "stdout",
          "text": [
            "<class 'pandas.core.frame.DataFrame'>\n",
            "Int64Index: 100 entries, 0 to 99\n",
            "Data columns (total 3 columns):\n",
            " #   Column         Non-Null Count  Dtype \n",
            "---  ------         --------------  ----- \n",
            " 0   article        97 non-null     object\n",
            " 1   abstract       100 non-null    object\n",
            " 2   section_names  100 non-null    object\n",
            "dtypes: object(3)\n",
            "memory usage: 3.1+ KB\n"
          ]
        }
      ]
    },
    {
      "cell_type": "code",
      "source": [
        "dataframe.head(n=1)"
      ],
      "metadata": {
        "colab": {
          "base_uri": "https://localhost:8080/",
          "height": 81
        },
        "id": "fqC6hRdYoZbX",
        "outputId": "ca27f9ba-dd70-48fb-adfc-ec9b3f3fc0c4"
      },
      "execution_count": null,
      "outputs": [
        {
          "output_type": "execute_result",
          "data": {
            "text/plain": [
              "                                             article  \\\n",
              "0  a recent systematic analysis showed that in 20...   \n",
              "\n",
              "                                            abstract  \\\n",
              "0   background : the present study was carried ou...   \n",
              "\n",
              "                                       section_names  \n",
              "0  INTRODUCTION\\nMATERIALS AND METHODS\\nParticipa...  "
            ],
            "text/html": [
              "\n",
              "  <div id=\"df-106092f1-6f82-4d79-9209-cef785ee3bd8\">\n",
              "    <div class=\"colab-df-container\">\n",
              "      <div>\n",
              "<style scoped>\n",
              "    .dataframe tbody tr th:only-of-type {\n",
              "        vertical-align: middle;\n",
              "    }\n",
              "\n",
              "    .dataframe tbody tr th {\n",
              "        vertical-align: top;\n",
              "    }\n",
              "\n",
              "    .dataframe thead th {\n",
              "        text-align: right;\n",
              "    }\n",
              "</style>\n",
              "<table border=\"1\" class=\"dataframe\">\n",
              "  <thead>\n",
              "    <tr style=\"text-align: right;\">\n",
              "      <th></th>\n",
              "      <th>article</th>\n",
              "      <th>abstract</th>\n",
              "      <th>section_names</th>\n",
              "    </tr>\n",
              "  </thead>\n",
              "  <tbody>\n",
              "    <tr>\n",
              "      <th>0</th>\n",
              "      <td>a recent systematic analysis showed that in 20...</td>\n",
              "      <td>background : the present study was carried ou...</td>\n",
              "      <td>INTRODUCTION\\nMATERIALS AND METHODS\\nParticipa...</td>\n",
              "    </tr>\n",
              "  </tbody>\n",
              "</table>\n",
              "</div>\n",
              "      <button class=\"colab-df-convert\" onclick=\"convertToInteractive('df-106092f1-6f82-4d79-9209-cef785ee3bd8')\"\n",
              "              title=\"Convert this dataframe to an interactive table.\"\n",
              "              style=\"display:none;\">\n",
              "        \n",
              "  <svg xmlns=\"http://www.w3.org/2000/svg\" height=\"24px\"viewBox=\"0 0 24 24\"\n",
              "       width=\"24px\">\n",
              "    <path d=\"M0 0h24v24H0V0z\" fill=\"none\"/>\n",
              "    <path d=\"M18.56 5.44l.94 2.06.94-2.06 2.06-.94-2.06-.94-.94-2.06-.94 2.06-2.06.94zm-11 1L8.5 8.5l.94-2.06 2.06-.94-2.06-.94L8.5 2.5l-.94 2.06-2.06.94zm10 10l.94 2.06.94-2.06 2.06-.94-2.06-.94-.94-2.06-.94 2.06-2.06.94z\"/><path d=\"M17.41 7.96l-1.37-1.37c-.4-.4-.92-.59-1.43-.59-.52 0-1.04.2-1.43.59L10.3 9.45l-7.72 7.72c-.78.78-.78 2.05 0 2.83L4 21.41c.39.39.9.59 1.41.59.51 0 1.02-.2 1.41-.59l7.78-7.78 2.81-2.81c.8-.78.8-2.07 0-2.86zM5.41 20L4 18.59l7.72-7.72 1.47 1.35L5.41 20z\"/>\n",
              "  </svg>\n",
              "      </button>\n",
              "      \n",
              "  <style>\n",
              "    .colab-df-container {\n",
              "      display:flex;\n",
              "      flex-wrap:wrap;\n",
              "      gap: 12px;\n",
              "    }\n",
              "\n",
              "    .colab-df-convert {\n",
              "      background-color: #E8F0FE;\n",
              "      border: none;\n",
              "      border-radius: 50%;\n",
              "      cursor: pointer;\n",
              "      display: none;\n",
              "      fill: #1967D2;\n",
              "      height: 32px;\n",
              "      padding: 0 0 0 0;\n",
              "      width: 32px;\n",
              "    }\n",
              "\n",
              "    .colab-df-convert:hover {\n",
              "      background-color: #E2EBFA;\n",
              "      box-shadow: 0px 1px 2px rgba(60, 64, 67, 0.3), 0px 1px 3px 1px rgba(60, 64, 67, 0.15);\n",
              "      fill: #174EA6;\n",
              "    }\n",
              "\n",
              "    [theme=dark] .colab-df-convert {\n",
              "      background-color: #3B4455;\n",
              "      fill: #D2E3FC;\n",
              "    }\n",
              "\n",
              "    [theme=dark] .colab-df-convert:hover {\n",
              "      background-color: #434B5C;\n",
              "      box-shadow: 0px 1px 3px 1px rgba(0, 0, 0, 0.15);\n",
              "      filter: drop-shadow(0px 1px 2px rgba(0, 0, 0, 0.3));\n",
              "      fill: #FFFFFF;\n",
              "    }\n",
              "  </style>\n",
              "\n",
              "      <script>\n",
              "        const buttonEl =\n",
              "          document.querySelector('#df-106092f1-6f82-4d79-9209-cef785ee3bd8 button.colab-df-convert');\n",
              "        buttonEl.style.display =\n",
              "          google.colab.kernel.accessAllowed ? 'block' : 'none';\n",
              "\n",
              "        async function convertToInteractive(key) {\n",
              "          const element = document.querySelector('#df-106092f1-6f82-4d79-9209-cef785ee3bd8');\n",
              "          const dataTable =\n",
              "            await google.colab.kernel.invokeFunction('convertToInteractive',\n",
              "                                                     [key], {});\n",
              "          if (!dataTable) return;\n",
              "\n",
              "          const docLinkHtml = 'Like what you see? Visit the ' +\n",
              "            '<a target=\"_blank\" href=https://colab.research.google.com/notebooks/data_table.ipynb>data table notebook</a>'\n",
              "            + ' to learn more about interactive tables.';\n",
              "          element.innerHTML = '';\n",
              "          dataTable['output_type'] = 'display_data';\n",
              "          await google.colab.output.renderOutput(dataTable, element);\n",
              "          const docLink = document.createElement('div');\n",
              "          docLink.innerHTML = docLinkHtml;\n",
              "          element.appendChild(docLink);\n",
              "        }\n",
              "      </script>\n",
              "    </div>\n",
              "  </div>\n",
              "  "
            ]
          },
          "metadata": {},
          "execution_count": 21
        }
      ]
    },
    {
      "cell_type": "code",
      "source": [
        "from typing import List"
      ],
      "metadata": {
        "id": "h12shdh-ooNh"
      },
      "execution_count": null,
      "outputs": []
    },
    {
      "cell_type": "code",
      "source": [
        "import string"
      ],
      "metadata": {
        "id": "e4d3dSY7orQb"
      },
      "execution_count": null,
      "outputs": []
    },
    {
      "cell_type": "code",
      "source": [
        "from pytorch_pretrained_bert import BertModel, GPT2Model, GPT2Tokenizer, BertTokenizer"
      ],
      "metadata": {
        "id": "nDlPx9i_o0im"
      },
      "execution_count": null,
      "outputs": []
    },
    {
      "cell_type": "code",
      "source": [
        "import torch"
      ],
      "metadata": {
        "id": "BJUmGupqo2vR"
      },
      "execution_count": null,
      "outputs": []
    },
    {
      "cell_type": "code",
      "source": [
        "from tqdm import tqdm"
      ],
      "metadata": {
        "id": "kH-k_gWBo44L"
      },
      "execution_count": null,
      "outputs": []
    },
    {
      "cell_type": "code",
      "source": [
        "def process_text(body: str) -> List[str]:\n",
        "    sentences = body.split(\".\")\n",
        "\n",
        "    # converting data into lower case\n",
        "    sentences = [sentence.lower() for sentence in sentences]\n",
        "\n",
        "    # Removing the punctuations\n",
        "    punctuations = str.maketrans('', '', string.punctuation)\n",
        "    sentences = [word.translate(punctuations) for word in sentences]\n",
        "\n",
        "    # Some Basic Cleaning\n",
        "    return [sentence\n",
        "            for sentence in sentences\n",
        "            if len(sentence) > 75 and\n",
        "            not sentence.startswith('but') and\n",
        "            not sentence.startswith('and') and\n",
        "            not sentence.startswith('or')]\t"
      ],
      "metadata": {
        "id": "kNMh5zbDobNX"
      },
      "execution_count": null,
      "outputs": []
    },
    {
      "cell_type": "code",
      "source": [
        "model_handler = {\n",
        "    'bert': BertModel,\n",
        "    'openApi': GPT2Model\n",
        "}\n",
        "\n",
        "token_handler = {\n",
        "    'openApi': GPT2Tokenizer,\n",
        "    'bert': BertTokenizer\n",
        "}\n",
        "\n",
        "size_handler = {\n",
        "    'base': {\n",
        "        'bert': 'bert-base-uncased',\n",
        "        'openApi': 'gpt2'\n",
        "    },\n",
        "    'large': {\n",
        "        'bert': 'bert-large-uncased',\n",
        "        'openApi': 'gpt2'\n",
        "    }\n",
        "}\n",
        "\n",
        "vector_handler = {\n",
        "    'base': {\n",
        "        'bert': 768,\n",
        "        'openApi': 768\n",
        "    },\n",
        "    'large': {\n",
        "        'bert': 1024,\n",
        "        'openApi': 768\n",
        "    }\n",
        "}"
      ],
      "metadata": {
        "id": "El3b-l_PomxP"
      },
      "execution_count": null,
      "outputs": []
    },
    {
      "cell_type": "code",
      "source": [
        "# Building the Model using BERT Encoder"
      ],
      "metadata": {
        "id": "InsoqtGUow-_"
      },
      "execution_count": null,
      "outputs": []
    },
    {
      "cell_type": "code",
      "source": [
        "model = model_handler['bert'].from_pretrained(size_handler['large']['bert'])"
      ],
      "metadata": {
        "colab": {
          "base_uri": "https://localhost:8080/"
        },
        "id": "se1JnIuro8n-",
        "outputId": "2b01d217-02c2-40fe-e2ae-1a6e91c7a7d1"
      },
      "execution_count": null,
      "outputs": [
        {
          "output_type": "stream",
          "name": "stderr",
          "text": [
            "100%|██████████| 1248501532/1248501532 [00:25<00:00, 49821465.33B/s]\n"
          ]
        }
      ]
    },
    {
      "cell_type": "code",
      "source": [
        "tokenizer = token_handler['bert'].from_pretrained(size_handler['large']['bert'])"
      ],
      "metadata": {
        "colab": {
          "base_uri": "https://localhost:8080/"
        },
        "id": "s_mog_gVo-a5",
        "outputId": "f3eaf757-bc51-47bf-fd14-d967bbb921e4"
      },
      "execution_count": null,
      "outputs": [
        {
          "output_type": "stream",
          "name": "stderr",
          "text": [
            "100%|██████████| 231508/231508 [00:00<00:00, 3870250.67B/s]\n"
          ]
        }
      ]
    },
    {
      "cell_type": "code",
      "source": [
        "vectorizer = vector_handler['large']['bert']"
      ],
      "metadata": {
        "id": "HU-0jc4TpKv-"
      },
      "execution_count": null,
      "outputs": []
    },
    {
      "cell_type": "code",
      "source": [
        "print('Tokenizer has been taken for encoding the data = ', tokenizer)"
      ],
      "metadata": {
        "colab": {
          "base_uri": "https://localhost:8080/"
        },
        "id": "wfoTYnT9pPfe",
        "outputId": "82779037-a7b5-4b9b-b5f6-152fb2cdf880"
      },
      "execution_count": null,
      "outputs": [
        {
          "output_type": "stream",
          "name": "stdout",
          "text": [
            "Tokenizer has been taken for encoding the data =  <pytorch_pretrained_bert.tokenization.BertTokenizer object at 0x7fd5dc0337d0>\n"
          ]
        }
      ]
    },
    {
      "cell_type": "code",
      "source": [
        "print('Vectorizer has been taken for encoding the data = ', vectorizer)"
      ],
      "metadata": {
        "colab": {
          "base_uri": "https://localhost:8080/"
        },
        "id": "8MuxGCGdpeKi",
        "outputId": "407b6954-437e-4b91-f059-b34312083320"
      },
      "execution_count": null,
      "outputs": [
        {
          "output_type": "stream",
          "name": "stdout",
          "text": [
            "Vectorizer has been taken for encoding the data =  1024\n"
          ]
        }
      ]
    },
    {
      "cell_type": "code",
      "source": [
        "def tokenize_input(text: str) -> torch.tensor:\n",
        "\n",
        "    # Using BERT Tokenizer and tokenizing the Input\n",
        "    tokens = tokenizer.tokenize(text)\n",
        "\n",
        "    # Converting the Tokens into Ids\n",
        "    indexed = tokenizer.convert_tokens_to_ids(tokens)\n",
        "\n",
        "    # Converting the Tokens into PyTorch Tensor\n",
        "    return torch.tensor([indexed])"
      ],
      "metadata": {
        "id": "fVQiUUNcpgIG"
      },
      "execution_count": null,
      "outputs": []
    },
    {
      "cell_type": "code",
      "source": [
        "# Creating Embedding matrix for for fetching the data using below function"
      ],
      "metadata": {
        "id": "EQZhlC5npiHh"
      },
      "execution_count": null,
      "outputs": []
    },
    {
      "cell_type": "code",
      "source": [
        "def extract_embedding(text: str, use_hidden: bool = True, squeeze: bool = False) -> np.ndarray:\n",
        "\n",
        "    # Tokenizing the given input data\n",
        "    tokens = tokenize_input(text)\n",
        "\n",
        "    # Getting the Hidden State using the above Tokens\n",
        "    hidden_state, pooled = model(tokens)\n",
        "\n",
        "    if use_hidden:\n",
        "        pooled = hidden_state[-2].mean(dim=1)\n",
        "\n",
        "    if squeeze:\n",
        "        return pooled.detach().numpy().squeeze()\n",
        "\n",
        "    return pooled"
      ],
      "metadata": {
        "id": "IwuMFdvMpkw2"
      },
      "execution_count": null,
      "outputs": []
    },
    {
      "cell_type": "code",
      "source": [
        "def create_matrix(articles: List[str], use_hidden: bool = True) -> np.ndarray:\n",
        "\n",
        "    vector = np.zeros((len(articles), vectorizer))\n",
        "\n",
        "    for idx, text in tqdm(enumerate(articles)):\n",
        "\n",
        "        vector[idx] = extract_embedding(text=text, use_hidden=use_hidden).data.numpy()\n",
        "\n",
        "    return vector"
      ],
      "metadata": {
        "id": "56IsxunLpmKW"
      },
      "execution_count": null,
      "outputs": []
    },
    {
      "cell_type": "markdown",
      "source": [
        "##### Performing Extractive Text Summarization on the above preprocessed Sample"
      ],
      "metadata": {
        "id": "WojXiUW_ptvB"
      }
    },
    {
      "cell_type": "code",
      "source": [
        "from sklearn.decomposition import PCA"
      ],
      "metadata": {
        "id": "KkiaLf3npoOF"
      },
      "execution_count": null,
      "outputs": []
    },
    {
      "cell_type": "code",
      "source": [
        "from sklearn.mixture import GaussianMixture"
      ],
      "metadata": {
        "id": "msjUnN5Opp5O"
      },
      "execution_count": null,
      "outputs": []
    },
    {
      "cell_type": "code",
      "source": [
        "from sklearn.cluster import AffinityPropagation, KMeans"
      ],
      "metadata": {
        "id": "9q8E6sMipxvl"
      },
      "execution_count": null,
      "outputs": []
    },
    {
      "cell_type": "code",
      "source": [
        "# Method to perfom extractive text summarization on the given features"
      ],
      "metadata": {
        "id": "63Dp4k9HpzHh"
      },
      "execution_count": null,
      "outputs": []
    },
    {
      "cell_type": "code",
      "source": [
        "# Performing the extractive text summarization the entire dataset for 1% ratio of the data"
      ],
      "metadata": {
        "id": "ZM6sTcZ5p2mV"
      },
      "execution_count": null,
      "outputs": []
    },
    {
      "cell_type": "code",
      "source": [
        "def get_model(clusters, algorithm: str = 'kmeans'):\n",
        "\n",
        "    if algorithm == 'gmm':\n",
        "        return GaussianMixture(n_components=clusters)\n",
        "    elif algorithm == 'affinity':\n",
        "        return AffinityPropagation()\n",
        "    else:\n",
        "        return KMeans(n_clusters=clusters)\n",
        "\n",
        "\n",
        "def get_centroids(model, algorithm: str = 'kmeans'):\n",
        "    if algorithm == 'gmm':\n",
        "        return model.means_\n",
        "    else:\n",
        "        return model.cluster_centers_\n",
        "\n",
        "\n",
        "def find_closest_args(features, centroids):\n",
        "    centroid_mean = 1e7\n",
        "    current_arg = -1\n",
        "    args = {}\n",
        "    used_idx = []\n",
        "\n",
        "    for jdx, centroid in enumerate(centroids):\n",
        "        for idx, feature in enumerate(features):\n",
        "            value = sum(abs(feature - centroid))\n",
        "            if value < centroid_mean and idx not in used_idx:\n",
        "                current_arg = idx\n",
        "                centroid_mean = value\n",
        "\n",
        "        used_idx.append(current_arg)\n",
        "        args[jdx] = current_arg\n",
        "        centroid_mean = 1e7\n",
        "        current_arg = current_arg - 1\n",
        "    return args\n",
        "\n",
        "\n",
        "def perform_summarization(data, ratio: float = 0.01, algorithm: str = 'kmeans', pca_components: int = None):\n",
        "\n",
        "    if pd.isna(data) or pd.isnull(data):\n",
        "        return \"\"\n",
        "\n",
        "    # Taking the embeddings from the dataset\n",
        "    # Performing the Preprocessing of the Given Article\n",
        "    preprocessed_article = process_text(body=data)\n",
        "\n",
        "    # Extracting the embedding for the cluster\n",
        "    hidden = create_matrix(articles=preprocessed_article)\n",
        "\n",
        "    # Performing PCA decomposition on the given data \n",
        "    pca = PCA(n_components=pca_components)\n",
        "    pca.fit(X=hidden)\n",
        "    features = pca.transform(X=hidden) # Features generated\n",
        "\n",
        "    # Performing the Compution using the above features generated\n",
        "    clusters = 1 if ratio * len(features) < 1 else int(len(features) * ratio)\n",
        "\n",
        "    # Getting the Given Model and fitting the same on the given features\n",
        "    model = get_model(clusters=clusters)\n",
        "    model.fit(X=features, y=None)\n",
        "\n",
        "    # Getting the Centroids from the Model\n",
        "    centroids = get_centroids(model=model)\n",
        "\n",
        "    # Getting the Cluster Arguments\n",
        "    cluster_args = find_closest_args(features, centroids=centroids)\n",
        "\n",
        "    # Sorting the data and returning the same\n",
        "    answers = sorted(cluster_args.values())\n",
        "    if answers[0] != 0:\n",
        "        answers.insert(0, 0)\n",
        "\n",
        "    return ' '.join([preprocessed_article[arg] for arg in answers]).strip()"
      ],
      "metadata": {
        "id": "fbk1tedGp4G2"
      },
      "execution_count": null,
      "outputs": []
    },
    {
      "cell_type": "code",
      "source": [
        "# sample_article=dataframe.iloc[0, 0]"
      ],
      "metadata": {
        "id": "w7AHc0wVp55l"
      },
      "execution_count": null,
      "outputs": []
    },
    {
      "cell_type": "code",
      "source": [
        "# perform_summarization(data=sample_article)"
      ],
      "metadata": {
        "id": "G9EpQR-Ip-hW"
      },
      "execution_count": null,
      "outputs": []
    },
    {
      "cell_type": "code",
      "source": [
        "dataframe['extracted'] = dataframe.apply(lambda article: perform_summarization(article['article']), axis=1)"
      ],
      "metadata": {
        "colab": {
          "base_uri": "https://localhost:8080/"
        },
        "id": "gYm7KovfqKwN",
        "outputId": "cf89a18b-98db-42f2-a307-4e3efaee4044"
      },
      "execution_count": null,
      "outputs": [
        {
          "output_type": "stream",
          "name": "stderr",
          "text": [
            "159it [01:37,  1.63it/s]\n",
            "100it [00:59,  1.68it/s]\n",
            "40it [00:24,  1.61it/s]\n",
            "202it [02:05,  1.60it/s]\n",
            "39it [00:23,  1.66it/s]\n",
            "79it [00:52,  1.50it/s]\n",
            "47it [00:33,  1.39it/s]\n",
            "84it [00:51,  1.63it/s]\n",
            "87it [00:52,  1.67it/s]\n",
            "41it [00:27,  1.51it/s]\n",
            "117it [01:09,  1.67it/s]\n",
            "140it [01:29,  1.57it/s]\n",
            "218it [02:34,  1.41it/s]\n",
            "27it [00:14,  1.91it/s]\n",
            "82it [00:40,  2.00it/s]\n",
            "52it [00:39,  1.30it/s]\n",
            "42it [00:28,  1.46it/s]\n",
            "140it [01:20,  1.75it/s]\n",
            "79it [00:36,  2.18it/s]\n",
            "65it [00:49,  1.30it/s]\n",
            "61it [00:34,  1.75it/s]\n",
            "104it [01:14,  1.39it/s]\n",
            "238it [02:26,  1.62it/s]\n",
            "84it [00:44,  1.90it/s]\n",
            "192it [01:54,  1.67it/s]\n",
            "32it [00:17,  1.80it/s]\n",
            "91it [00:56,  1.60it/s]\n",
            "81it [00:43,  1.88it/s]\n",
            "32it [00:17,  1.83it/s]\n",
            "81it [00:41,  1.96it/s]\n",
            "87it [00:51,  1.69it/s]\n",
            "147it [01:23,  1.77it/s]\n",
            "77it [00:47,  1.63it/s]\n",
            "69it [00:38,  1.80it/s]\n",
            "163it [01:36,  1.69it/s]\n",
            "59it [00:32,  1.82it/s]\n",
            "118it [01:09,  1.70it/s]\n",
            "67it [00:38,  1.76it/s]\n",
            "104it [00:53,  1.93it/s]\n",
            "127it [01:22,  1.55it/s]\n",
            "69it [00:35,  1.92it/s]\n",
            "60it [00:35,  1.70it/s]\n",
            "34it [00:18,  1.89it/s]\n",
            "116it [01:11,  1.63it/s]\n",
            "136it [01:10,  1.92it/s]\n",
            "133it [01:27,  1.51it/s]\n",
            "153it [01:31,  1.67it/s]\n",
            "107it [00:56,  1.89it/s]\n",
            "76it [00:49,  1.53it/s]\n",
            "47it [00:28,  1.63it/s]\n",
            "19it [00:10,  1.82it/s]\n",
            "73it [00:46,  1.57it/s]\n",
            "105it [01:01,  1.72it/s]\n",
            "37it [00:23,  1.55it/s]\n",
            "59it [00:35,  1.67it/s]\n",
            "253it [02:38,  1.60it/s]\n",
            "289it [02:56,  1.63it/s]\n",
            "118it [01:17,  1.52it/s]\n",
            "22it [00:12,  1.83it/s]\n",
            "68it [00:41,  1.64it/s]\n",
            "96it [00:55,  1.74it/s]\n",
            "106it [00:53,  1.99it/s]\n",
            "91it [00:52,  1.73it/s]\n",
            "27it [00:15,  1.72it/s]\n",
            "60it [00:34,  1.75it/s]\n",
            "45it [00:24,  1.85it/s]\n",
            "30it [00:16,  1.78it/s]\n",
            "76it [00:38,  2.00it/s]\n",
            "13it [00:06,  2.13it/s]\n",
            "77it [00:38,  2.03it/s]\n",
            "118it [01:08,  1.73it/s]\n",
            "36it [00:19,  1.83it/s]\n",
            "67it [00:33,  2.03it/s]\n",
            "162it [01:36,  1.68it/s]\n",
            "34it [00:18,  1.86it/s]\n",
            "129it [01:15,  1.71it/s]\n",
            "159it [01:32,  1.73it/s]\n",
            "91it [00:50,  1.81it/s]\n",
            "151it [01:27,  1.73it/s]\n",
            "69it [00:39,  1.74it/s]\n",
            "51it [00:26,  1.94it/s]\n",
            "29it [00:20,  1.44it/s]\n",
            "97it [00:54,  1.77it/s]\n",
            "132it [01:12,  1.82it/s]\n",
            "238it [03:27,  1.15it/s]\n",
            "77it [00:39,  1.94it/s]\n",
            "113it [01:05,  1.74it/s]\n",
            "87it [00:47,  1.84it/s]\n",
            "133it [01:14,  1.78it/s]\n",
            "60it [00:32,  1.85it/s]\n",
            "63it [00:37,  1.70it/s]\n",
            "1it [00:01,  1.51s/it]\n",
            "95it [00:49,  1.92it/s]\n",
            "32it [00:30,  1.04it/s]\n",
            "94it [00:47,  1.97it/s]\n",
            "124it [01:08,  1.80it/s]\n",
            "164it [01:34,  1.74it/s]\n"
          ]
        }
      ]
    },
    {
      "cell_type": "code",
      "source": [
        "dataframe[['extracted', 'abstract']].to_csv('extracted.csv', index=False)"
      ],
      "metadata": {
        "id": "KapWfBmrueIp"
      },
      "execution_count": null,
      "outputs": []
    },
    {
      "cell_type": "code",
      "source": [
        "!ls -lrt"
      ],
      "metadata": {
        "colab": {
          "base_uri": "https://localhost:8080/"
        },
        "id": "FMbxwpJT6yg6",
        "outputId": "85b3c00f-1a55-49a8-ee42-72aca0507721"
      },
      "execution_count": null,
      "outputs": [
        {
          "output_type": "stream",
          "name": "stdout",
          "text": [
            "total 1944\n",
            "drwxr-xr-x 1 root root    4096 Sep  9 13:22 sample_data\n",
            "-rw-r--r-- 1 root root 1809500 Sep 14 10:52 first100.csv\n",
            "-rw-r--r-- 1 root root  174027 Sep 14 12:50 extracted.csv\n"
          ]
        }
      ]
    },
    {
      "cell_type": "code",
      "source": [
        "!du -sh *"
      ],
      "metadata": {
        "colab": {
          "base_uri": "https://localhost:8080/"
        },
        "id": "QPTg1aDwDzB-",
        "outputId": "9d66ef41-bac2-4fdd-a93c-bacf48c04c21"
      },
      "execution_count": null,
      "outputs": [
        {
          "output_type": "stream",
          "name": "stdout",
          "text": [
            "172K\textracted.csv\n",
            "1.8M\tfirst100.csv\n",
            "55M\tsample_data\n"
          ]
        }
      ]
    },
    {
      "cell_type": "code",
      "source": [
        "from google.colab import files"
      ],
      "metadata": {
        "id": "ScjQpnDzDmS_"
      },
      "execution_count": null,
      "outputs": []
    },
    {
      "cell_type": "code",
      "source": [
        "files.download('extracted.csv')"
      ],
      "metadata": {
        "colab": {
          "base_uri": "https://localhost:8080/",
          "height": 17
        },
        "id": "jPPXaJHCDrmE",
        "outputId": "8414f6b1-92d4-4570-8eab-2c05bed6aebe"
      },
      "execution_count": null,
      "outputs": [
        {
          "output_type": "display_data",
          "data": {
            "text/plain": [
              "<IPython.core.display.Javascript object>"
            ],
            "application/javascript": [
              "\n",
              "    async function download(id, filename, size) {\n",
              "      if (!google.colab.kernel.accessAllowed) {\n",
              "        return;\n",
              "      }\n",
              "      const div = document.createElement('div');\n",
              "      const label = document.createElement('label');\n",
              "      label.textContent = `Downloading \"${filename}\": `;\n",
              "      div.appendChild(label);\n",
              "      const progress = document.createElement('progress');\n",
              "      progress.max = size;\n",
              "      div.appendChild(progress);\n",
              "      document.body.appendChild(div);\n",
              "\n",
              "      const buffers = [];\n",
              "      let downloaded = 0;\n",
              "\n",
              "      const channel = await google.colab.kernel.comms.open(id);\n",
              "      // Send a message to notify the kernel that we're ready.\n",
              "      channel.send({})\n",
              "\n",
              "      for await (const message of channel.messages) {\n",
              "        // Send a message to notify the kernel that we're ready.\n",
              "        channel.send({})\n",
              "        if (message.buffers) {\n",
              "          for (const buffer of message.buffers) {\n",
              "            buffers.push(buffer);\n",
              "            downloaded += buffer.byteLength;\n",
              "            progress.value = downloaded;\n",
              "          }\n",
              "        }\n",
              "      }\n",
              "      const blob = new Blob(buffers, {type: 'application/binary'});\n",
              "      const a = document.createElement('a');\n",
              "      a.href = window.URL.createObjectURL(blob);\n",
              "      a.download = filename;\n",
              "      div.appendChild(a);\n",
              "      a.click();\n",
              "      div.remove();\n",
              "    }\n",
              "  "
            ]
          },
          "metadata": {}
        },
        {
          "output_type": "display_data",
          "data": {
            "text/plain": [
              "<IPython.core.display.Javascript object>"
            ],
            "application/javascript": [
              "download(\"download_65d54b9d-5afd-4e2e-ab48-63befa46fee6\", \"extracted.csv\", 174027)"
            ]
          },
          "metadata": {}
        }
      ]
    },
    {
      "cell_type": "code",
      "source": [],
      "metadata": {
        "id": "c7M6L_RODufE"
      },
      "execution_count": null,
      "outputs": []
    }
  ]
}